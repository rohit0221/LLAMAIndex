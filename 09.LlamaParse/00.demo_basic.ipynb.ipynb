{
 "cells": [
  {
   "cell_type": "code",
   "execution_count": 1,
   "metadata": {},
   "outputs": [],
   "source": [
    "# bring in our LLAMA_CLOUD_API_KEY\n",
    "from dotenv import load_dotenv\n",
    "load_dotenv()\n",
    "import os\n"
   ]
  },
  {
   "cell_type": "code",
   "execution_count": 2,
   "metadata": {},
   "outputs": [],
   "source": [
    "import nest_asyncio\n",
    "import asyncio\n",
    "from llama_parse import LlamaParse\n",
    "from llama_index.core import SimpleDirectoryReader\n"
   ]
  },
  {
   "cell_type": "code",
   "execution_count": 3,
   "metadata": {},
   "outputs": [],
   "source": [
    "# Apply nest_asyncio to allow async calls in Jupyter\n",
    "nest_asyncio.apply()"
   ]
  },
  {
   "cell_type": "code",
   "execution_count": 4,
   "metadata": {},
   "outputs": [],
   "source": [
    "# Set up parser\n",
    "parser = LlamaParse(result_type=\"markdown\")\n"
   ]
  },
  {
   "cell_type": "code",
   "execution_count": 5,
   "metadata": {},
   "outputs": [
    {
     "name": "stdout",
     "output_type": "stream",
     "text": [
      "Started parsing the file under job_id 22e68a92-ccf2-45ac-a5fa-6a822c377fb4\n"
     ]
    }
   ],
   "source": [
    "documents = LlamaParse(result_type=\"text\").load_data(\"../data/layout-parser-paper.pdf\")"
   ]
  },
  {
   "cell_type": "code",
   "execution_count": 6,
   "metadata": {},
   "outputs": [
    {
     "data": {
      "text/plain": [
       "[Document(id_='d2279595-c9c4-42c8-afda-e5c7884d4466', embedding=None, metadata={}, excluded_embed_metadata_keys=[], excluded_llm_metadata_keys=[], relationships={}, text='arXiv:2103.15348v2 [cs.CV] 21 Jun 2021\\n\\n                                                 LayoutParser: A Unified Toolkit for Deep\\n                                               Learning Based Document Image Analysis\\n\\n                                        Zejiang Shen1 (         ), Ruochen Zhang2, Melissa Dell3, Benjamin Charles Germain\\n                                                                   Lee4, Jacob Carlson3, and Weining Li5\\n                                                                              1 Allen Institute for AI\\n                                                                              shannons@allenai.org2 Brown University\\n                                                                            ruochen zhang@brown.edu3 Harvard University\\n                                                              {melissadell,jacob carlson}@fas.harvard.edu4 University of Washington\\n                                                                             bcgl@cs.washington.edu\\n                                                                             5 University of Waterloo\\n                                                                               w422li@uwaterloo.ca\\n\\n                                                 Abstract. Recent advances in document image analysis (DIA) have been\\n                                                 primarily driven by the application of neural networks. Ideally, research\\n                                                 outcomes could be easily deployed in production and extended for further\\n                                                 investigation. However, various factors like loosely organized codebases\\n                                                 and sophisticated model configurations complicate the easy reuse of im-\\n                                                 portant innovations by a wide audience. Though there have been on-going\\n                                                 efforts to improve reusability and simplify deep learning (DL) model\\n                                                 development in disciplines like natural language processing and computer\\n                                                vision, none of them are optimized for challenges in the domain of DIA.\\n                                                This represents a major gap in the existing toolkit, as DIA is central to\\n                                                 academic research across a wide range of disciplines in the social sciences\\n                                                 and humanities. This paper introduces LayoutParser, an open-source\\n                                                 library for streamlining the usage of DL in DIA research and applica-\\n                                                 tions. The core LayoutParser library comes with a set of simple and\\n                                                 intuitive interfaces for applying and customizing DL models for layout de-\\n                                                 tection, character recognition, and many other document processing tasks.\\n                                                To promote extensibility, LayoutParser also incorporates a community\\n                                                 platform for sharing both pre-trained models and full document digiti-\\n                                                 zation pipelines. We demonstrate that LayoutParser is helpful for both\\n                                                 lightweight and large-scale digitization pipelines in real-word use cases.\\n                                                The library is publicly available at https://layout-parser.github.io.\\n\\n                                                 Keywords: Document Image Analysis · Deep Learning · Layout Analysis\\n                                                · Character Recognition · Open Source library · Toolkit.\\n\\n                                        1     Introduction\\n                                        Deep Learning(DL)-based approaches are the state-of-the-art for a wide range of\\n                                        document image analysis (DIA) tasks including document image classification [11 ,', mimetype='text/plain', start_char_idx=None, end_char_idx=None, text_template='{metadata_str}\\n\\n{content}', metadata_template='{key}: {value}', metadata_seperator='\\n'),\n",
       " Document(id_='2fe23231-8e36-46f9-b36d-b507c11e8338', embedding=None, metadata={}, excluded_embed_metadata_keys=[], excluded_llm_metadata_keys=[], relationships={}, text='2         Z. Shen et al.\\n\\n37], layout detection [ 38 , 22 ], table detection [26], and scene text detection [4 ].\\nA generalized learning-based framework dramatically reduces the need for the\\nmanual specification of complicated rules, which is the status quo with traditional\\nmethods. DL has the potential to transform DIA pipelines and benefit a broad\\nspectrum of large-scale document digitization projects.\\n    However, there are several practical difficulties for taking advantages of re-\\ncent advances in DL-based methods: 1) DL models are notoriously convoluted\\nfor reuse and extension. Existing models are developed using distinct frame-\\nworks like TensorFlow [1] or PyTorch [24 ], and the high-level parameters can\\nbe obfuscated by implementation details [8]. It can be a time-consuming and\\nfrustrating experience to debug, reproduce, and adapt existing models for DIA,\\nand many researchers who would benefit the most from using these methods lack\\nthe technical background to implement them from scratch. 2) Document images\\ncontain diverse and disparate patterns across domains, and customized training\\nis often required to achieve a desirable detection accuracy. Currently there is no\\nfull-fledged infrastructure for easily curating the target document image datasets\\nand fine-tuning or re-training the models. 3) DIA usually requires a sequence of\\nmodels and other processing to obtain the final outputs. Often research teams use\\nDL models and then perform further document analyses in separate processes,\\nand these pipelines are not documented in any central location (and often not\\ndocumented at all). This makes it difficult for research teams to learn about how\\nfull pipelines are implemented and leads them to invest significant resources in\\nreinventing the DIA wheel.\\n    LayoutParser provides a unified toolkit to support DL-based document image\\nanalysis and processing. To address the aforementioned challenges, LayoutParser\\nis built with the following components:\\n 1. An off-the-shelf toolkit for applying DL models for layout detection, character\\n     recognition, and other DIA tasks (Section 3)\\n 2. A rich repository of pre-trained neural network models (Model Zoo) that\\n     underlies the off-the-shelf usage\\n 3. Comprehensive tools for efficient document image data annotation and model\\n     tuning to support different levels of customization\\n 4. A DL model hub and community platform for the easy sharing, distribu-\\n     tion, and discussion of DIA models and pipelines, to promote reusability,\\n     reproducibility, and extensibility (Section 4)\\nThe library implements simple and intuitive Python APIs without sacrificing\\ngeneralizability and versatility, and can be easily installed via pip. Its convenient\\nfunctions for handling document image data can be seamlessly integrated with\\nexisting DIA pipelines. With detailed documentations and carefully curated\\ntutorials, we hope this tool will benefit a variety of end-users, and will lead to\\nadvances in applications in both industry and academic research.\\n    LayoutParser is well aligned with recent efforts for improving DL model\\nreusability in other disciplines like natural language processing [8, 34 ] and com-\\nputer vision [35 ], but with a focus on unique challenges in DIA. We show\\nLayoutParser can be applied in sophisticated and large-scale digitization projects', mimetype='text/plain', start_char_idx=None, end_char_idx=None, text_template='{metadata_str}\\n\\n{content}', metadata_template='{key}: {value}', metadata_seperator='\\n'),\n",
       " Document(id_='f0ef548c-4abc-4ff0-99d3-3b29eb5dac4a', embedding=None, metadata={}, excluded_embed_metadata_keys=[], excluded_llm_metadata_keys=[], relationships={}, text='                               LayoutParser: A Unified Toolkit for DL-Based DIA         3\\n\\n that require precision, efficiency, and robustness, as well as simple and light-\\n weight document processing tasks focusing on efficacy and flexibility (Section 5).\\n LayoutParser is being actively maintained, and support for more deep learning\\n models and novel methods in text-based layout analysis methods [37 , 34] is\\n planned.\\n     The rest of the paper is organized as follows. Section 2 provides an overview\\n of related work. The core LayoutParser library, DL Model Zoo, and customized\\n model training are described in Section 3, and the DL model hub and commu-\\n nity platform are detailed in Section 4. Section 5 shows two examples of how\\n LayoutParser can be used in practical DIA projects, and Section 6 concludes.\\n\\n 2     Related Work\\n Recently, various DL models and datasets have been developed for layout analysis\\n tasks. The dhSegment [ 22 ] utilizes fully convolutional networks [ 20 ] for segmen-\\n tation tasks on historical documents. Object detection-based methods like Faster\\n R-CNN [ 28] and Mask R-CNN [12 ] are used for identifying document elements [ 38]\\n and detecting tables [ 30, 26 ]. Most recently, Graph Neural Networks [29 ] have also\\n been used in table detection [ 27 ]. However, these models are usually implemented\\n individually and there is no unified framework to load and use such models.\\n     There has been a surge of interest in creating open-source tools for document\\n image processing: a search of document image analysis in Github leads to 5M\\n relevant code pieces 6; yet most of them rely on traditional rule-based methods\\n or provide limited functionalities. The closest prior research to our work is the\\n OCR-D project7, which also tries to build a complete toolkit for DIA. However,\\n similar to the platform developed by Neudecker et al. [21 ], it is designed for\\n analyzing historical documents, and provides no supports for recent DL models.\\n The DocumentLayoutAnalysis project8 focuses on processing born-digital PDF\\n documents via analyzing the stored PDF data. Repositories like DeepLayout9\\n and Detectron2-PubLayNet10 are individual deep learning models trained on\\n layout analysis datasets without support for the full DIA pipeline. The Document\\n Analysis and Exploitation (DAE) platform [15 ] and the DeepDIVA project [2 ]\\n aim to improve the reproducibility of DIA methods (or DL models), yet they\\n are not actively maintained. OCR engines like Tesseract [ 14], easyOCR11 and\\n paddleOCR12 usually do not come with comprehensive functionalities for other\\n DIA tasks like layout analysis.\\n     Recent years have also seen numerous efforts to create libraries for promoting\\n reproducibility and reusability in the field of DL. Libraries like Dectectron2 [35],\\n 6 The number shown is obtained by specifying the search type as ‘code’.\\n 7 https://ocr-d.de/en/about\\n 8 https://github.com/BobLd/DocumentLayoutAnalysis\\n 9 https://github.com/leonlulu/DeepLayout\\n10 https://github.com/hpanwar08/detectron2\\n11 https://github.com/JaidedAI/EasyOCR\\n12 https://github.com/PaddlePaddle/PaddleOCR', mimetype='text/plain', start_char_idx=None, end_char_idx=None, text_template='{metadata_str}\\n\\n{content}', metadata_template='{key}: {value}', metadata_seperator='\\n'),\n",
       " Document(id_='7df54716-c186-4de4-b775-04a5bc6fdd8c', embedding=None, metadata={}, excluded_embed_metadata_keys=[], excluded_llm_metadata_keys=[], relationships={}, text='4         Z. Shen et al.\\n\\n                Model Customization           Document Images          Community Platform\\n\\n                Efficient Data Annotation                                  DIA Model Hub\\n\\n                Customized Model Training   Layout Detection Models      DIA Pipeline Sharing\\n\\n                     OCR Module              Layout Data Structure      Storage & Visualization\\n\\n                                        The Core LayoutParser Library\\n\\nFig. 1: The overall architecture of LayoutParser. For an input document image,\\nthe core LayoutParser library provides a set of off-the-shelf tools for layout\\ndetection, OCR, visualization, and storage, backed by a carefully designed layout\\ndata structure. LayoutParser also supports high level customization via efficient\\nlayout annotation and model training functions. These improve model accuracy\\non the target samples. The community platform enables the easy sharing of DIA\\nmodels and whole digitization pipelines to promote reusability and reproducibility.\\nA collection of detailed documentation, tutorials and exemplar projects make\\nLayoutParser easy to learn and use.\\n\\nAllenNLP [ 8] and transformers [34 ] have provided the community with complete\\nDL-based support for developing and deploying models for general computer\\nvision and natural language processing problems. LayoutParser, on the other\\nhand, specializes specifically in DIA tasks. LayoutParser is also equipped with a\\ncommunity platform inspired by established model hubs such as Torch Hub [23 ]\\nand TensorFlow Hub [1 ]. It enables the sharing of pretrained models as well as\\nfull document processing pipelines that are unique to DIA tasks.\\n    There have been a variety of document data collections to facilitate the\\ndevelopment of DL models. Some examples include PRImA [ 3 ](magazine layouts),\\nPubLayNet [ 38 ](academic paper layouts), Table Bank [18 ](tables in academic\\npapers), Newspaper Navigator Dataset [ 16 , 17 ](newspaper figure layouts) and\\nHJDataset [ 31](historical Japanese document layouts). A spectrum of models\\ntrained on these datasets are currently available in the LayoutParser model zoo\\nto support different use cases.\\n\\n3     The Core LayoutParser Library\\nAt the core of LayoutParser is an off-the-shelf toolkit that streamlines DL-\\nbased document image analysis. Five components support a simple interface\\nwith comprehensive functionalities: 1) The layout detection models enable using\\npre-trained or self-trained DL models for layout detection with just four lines\\nof code. 2) The detected layout information is stored in carefully engineered', mimetype='text/plain', start_char_idx=None, end_char_idx=None, text_template='{metadata_str}\\n\\n{content}', metadata_template='{key}: {value}', metadata_seperator='\\n'),\n",
       " Document(id_='c7102935-2ef2-4020-ae27-e1014df51c92', embedding=None, metadata={}, excluded_embed_metadata_keys=[], excluded_llm_metadata_keys=[], relationships={}, text='                                    LayoutParser: A Unified Toolkit for DL-Based DIA                             5\\n\\n      Table 1: Current layout detection models in the LayoutParser model zoo\\n       Dataset        Base Model1 Large Model         Notes\\n    PubLayNet [38]       F / M              M         Layouts of modern scientific documents\\n      PRImA [3]             M               -         Layouts of scanned modern magazines and scientific reports\\n    Newspaper [17]          F               -         Layouts of scanned US newspapers from the 20th century\\n    TableBank [18]          F               F         Table region on modern scientific and business document\\n    HJDataset [31]       F / M              -         Layouts of history Japanese documents\\n   1 For each dataset, we train several models of different sizes for different needs (the trade-off between accuracy\\n   vs. computational cost). For “base model” and “large model”, we refer to using the ResNet 50 or ResNet 101\\n   backbones [ 13], respectively. One can train models of different architectures, like Faster R-CNN [ 28] (F) and Mask\\n   R-CNN [ 12] (M). For example, an F in the Large Model column indicates it has a Faster R-CNN model trained\\n   using the ResNet 101 backbone. The platform is maintained and a number of additions will be made to the model\\n   zoo in coming months.\\n\\n  layout data structures, which are optimized for efficiency and versatility. 3) When\\n  necessary, users can employ existing or customized OCR models via the unified\\n  API provided in the OCR module. 4) LayoutParser comes with a set of utility\\n  functions for the visualization and storage of the layout data. 5) LayoutParser\\n  is also highly customizable, via its integration with functions for layout data\\n  annotation and model training. We now provide detailed descriptions for each\\n  component.\\n\\n  3.1      Layout Detection Models\\n  In LayoutParser, a layout model takes a document image as an input and\\n  generates a list of rectangular boxes for the target content regions. Different\\n  from traditional methods, it relies on deep convolutional neural networks rather\\n  than manually curated rules to identify content regions. It is formulated as an\\n  object detection problem and state-of-the-art models like Faster R-CNN [ 28 ] and\\n  Mask R-CNN [ 12] are used. This yields prediction results of high accuracy and\\n  makes it possible to build a concise, generalized interface for layout detection.\\n  LayoutParser, built upon Detectron2 [35 ], provides a minimal API that can\\n  perform layout detection with only four lines of code in Python:\\n1 import layoutparser as lp\\n2 image = cv2 . imread ( \" image_file \" ) # load images\\n3 model = lp . Detectron2LayoutModel (\\n4         \" lp :// PubLayNet / faster_rcnn_R_50_FPN_3x / config \" )\\n5 layout = model . detect ( image )\\n       LayoutParser provides a wealth of pre-trained model weights using various\\n  datasets covering different languages, time periods, and document types. Due to\\n  domain shift [7], the prediction performance can notably drop when models are ap-\\n  plied to target samples that are significantly different from the training dataset. As\\n  document structures and layouts vary greatly in different domains, it is important\\n  to select models trained on a dataset similar to the test samples. A semantic syntax\\n  is used for initializing the model weights in LayoutParser, using both the dataset\\n  name and model name lp://<dataset-name>/<model-architecture-name>.', mimetype='text/plain', start_char_idx=None, end_char_idx=None, text_template='{metadata_str}\\n\\n{content}', metadata_template='{key}: {value}', metadata_seperator='\\n'),\n",
       " Document(id_='24ace4b0-11df-478c-94e5-8959e81fe4b6', embedding=None, metadata={}, excluded_embed_metadata_keys=[], excluded_llm_metadata_keys=[], relationships={}, text='6         Z. Shen et al.\\n                       1                                                            3\\n                                                  Aeclanje        Quacudateral      L\\n                       7           Coordinate                                       3\\n                                Extra features       Plnck  Blcc <                  1\\n                                  coordinatel    textblockl\\n                                                textblock2     layoutl              1\\n                                       list     the layout elements\\nFig. 2: The relationship between the three types of layout data structures.\\nCoordinate supports three kinds of variation; TextBlock consists of the co-\\nordinate information and extra features like block text, types, and reading orders;\\na Layout object is a list of all possible layout elements, including other Layout\\nobjects. They all support the same set of transformation and operation APIs for\\nmaximum flexibility.\\n\\nShown in Table 1, LayoutParser currently hosts 9 pre-trained models trained\\non 5 different datasets. Description of the training dataset is provided alongside\\nwith the trained models such that users can quickly identify the most suitable\\nmodels for their tasks. Additionally, when such a model is not readily available,\\nLayoutParser also supports training customized layout models and community\\nsharing of the models (detailed in Section 3.5).\\n\\n3.2     Layout Data Structures\\n\\nA critical feature of LayoutParser is the implementation of a series of data\\nstructures and operations that can be used to efficiently process and manipulate\\nthe layout elements. In document image analysis pipelines, various post-processing\\non the layout analysis model outputs is usually required to obtain the final\\noutputs. Traditionally, this requires exporting DL model outputs and then loading\\nthe results into other pipelines. All model outputs from LayoutParser will be\\nstored in carefully engineered data types optimized for further processing, which\\nmakes it possible to build an end-to-end document digitization pipeline within\\nLayoutParser. There are three key components in the data structure, namely\\nthe Coordinate system, the TextBlock, and the Layout. They provide different\\nlevels of abstraction for the layout data, and a set of APIs are supported for\\ntransformations or operations on these classes.', mimetype='text/plain', start_char_idx=None, end_char_idx=None, text_template='{metadata_str}\\n\\n{content}', metadata_template='{key}: {value}', metadata_seperator='\\n'),\n",
       " Document(id_='8217136c-40e0-4a68-9bf4-02f06265fab2', embedding=None, metadata={}, excluded_embed_metadata_keys=[], excluded_llm_metadata_keys=[], relationships={}, text='                                 LayoutParser: A Unified Toolkit for DL-Based DIA        7\\n\\n       Coordinates are the cornerstones for storing layout information. Currently,\\n  three types of Coordinate data structures are provided in LayoutParser, shown\\n  in Figure 2. Interval and Rectangle are the most common data types and\\n  support specifying 1D or 2D regions within a document. They are parameterized\\n  with 2 and 4 parameters. A Quadrilateral class is also implemented to support\\n  a more generalized representation of rectangular regions when the document\\n  is skewed or distorted, where the 4 corner points can be specified and a total\\n  of 8 degrees of freedom are supported. A wide collection of transformations\\n  like shift, pad, and scale, and operations like intersect, union, and is_in,\\n  are supported for these classes. Notably, it is common to separate a segment\\n  of the image and analyze it individually. LayoutParser provides full support\\n  for this scenario via image cropping operations crop_image and coordinate\\n  transformations like relative_to and condition_on that transform coordinates\\n  to and from their relative representations. We refer readers to Table 2 for a more\\n  detailed description of these operations13.\\n       Based on Coordinates, we implement the TextBlock class that stores both\\n  the positional and extra features of individual layout elements. It also supports\\n  specifying the reading orders via setting the parent field to the index of the parent\\n  object. A Layout class is built that takes in a list of TextBlocks and supports\\n  processing the elements in batch. Layout can also be nested to support hierarchical\\n  layout structures. They support the same operations and transformations as the\\n  Coordinate classes, minimizing both learning and deployment effort.\\n\\n  3.3     OCR\\n  LayoutParser provides a unified interface for existing OCR tools. Though there\\n  are many OCR tools available, they are usually configured differently with distinct\\n  APIs or protocols for using them. It can be inefficient to add new OCR tools into\\n  an existing pipeline, and difficult to make direct comparisons among the available\\n  tools to find the best option for a particular project. To this end, LayoutParser\\n  builds a series of wrappers among existing OCR engines, and provides nearly\\n  the same syntax for using them. It supports a plug-and-play style of using OCR\\n  engines, making it effortless to switch, evaluate, and compare different OCR\\n  modules:\\n1 ocr_agent = lp . TesseractAgent ()\\n2 # Can be easily switched to other OCR software\\n3 tokens = ocr_agent . detect ( image )\\n       The OCR outputs will also be stored in the aforementioned layout data\\n  structures and can be seamlessly incorporated into the digitization pipeline.\\n  Currently LayoutParser supports the Tesseract and Google Cloud Vision OCR\\n  engines.\\n       LayoutParser also comes with a DL-based CNN-RNN OCR model [ 6] trained\\n  with the Connectionist Temporal Classification (CTC) loss [10 ]. It can be used\\n  like the other OCR modules, and can be easily trained on customized datasets.\\n  13 This is also available in the LayoutParser documentation pages.', mimetype='text/plain', start_char_idx=None, end_char_idx=None, text_template='{metadata_str}\\n\\n{content}', metadata_template='{key}: {value}', metadata_seperator='\\n'),\n",
       " Document(id_='78cbd7c5-7690-4660-8765-0f74298ef11a', embedding=None, metadata={}, excluded_embed_metadata_keys=[], excluded_llm_metadata_keys=[], relationships={}, text='                                          8          Z. Shen et al.\\n\\n                                          Table 2: All operations supported by the layout elements. The same APIs are\\n                                          supported across different layout element classes including Coordinate types,\\n                                          TextBlock and Layout.\\n                                             Operation Name                                Description\\n                                             block.pad(top, bottom, right, left) Enlarge the current block according to the input\\n                                             block.scale(fx, fy)                           Scale the current block given the ratio\\n                                                                                           in x and y direction\\n\\nblock.shift(dx, dy)\\n\\nblock1.is in(block2)\\nblock1.intersect(block2)\\n\\nblock1.union(block2)\\n\\nblock1.relative to(block2)\\n\\nblock1.condition on(block2)\\n\\nblock.crop image(image)\\nMove the current block with the shift\\ndistances in x and y direction\\nWhether block1 is inside of block2\\nReturn the intersection region of block1 and block2.\\nCoordinate type to be determined based on the inputs.\\nReturn the union region of block1 and block2.\\nCoordinate type to be determined based on the inputs.\\nConvert the absolute coordinates of block1 to\\nrelative coordinates to block2\\nCalculate the absolute coordinates of block1 given\\nthe canvas block2’s absolute coordinates\\nObtain the image segments in the block region\\n\\n                                          3.4      Storage and visualization\\n\\n                                          The end goal of DIA is to transform the image-based document data into a\\n                                          structured database. LayoutParser supports exporting layout data into different\\n                                          formats like JSON, csv, and will add the support for the METS/ALTO XML\\n                                          format 14 . It can also load datasets from layout analysis-specific formats like\\n                                          COCO [38] and the Page Format [25] for training layout models (Section 3.5).\\n                                               Visualization of the layout detection results is critical for both presentation\\n                                          and debugging. LayoutParser is built with an integrated API for displaying the\\n                                          layout information along with the original document image. Shown in Figure 3, it\\n                                          enables presenting layout data with rich meta information and features in different\\n                                          modes. More detailed information can be found in the online LayoutParser\\n                                          documentation page.\\n\\n                                          3.5      Customized Model Training\\n\\n                                          Besides the off-the-shelf library, LayoutParser is also highly customizable with\\n                                          supports for highly unique and challenging document analysis tasks. Target\\n                                          document images can be vastly different from the existing datasets for train-\\n                                          ing layout models, which leads to low layout detection accuracy. Training data\\n                                          14 https://altoxml.github.io', mimetype='text/plain', start_char_idx=None, end_char_idx=None, text_template='{metadata_str}\\n\\n{content}', metadata_template='{key}: {value}', metadata_seperator='\\n'),\n",
       " Document(id_='f839ad70-229b-4a37-bec5-6f0afa8ca20a', embedding=None, metadata={}, excluded_embed_metadata_keys=[], excluded_llm_metadata_keys=[], relationships={}, text='                                        LayoutParser: A Unified Toolkit for DL-Based DIA                                    9\\n                                                                                                                    1\\n                                                                                                                     1\\n                      Mode #: Showing Layout on the Original Image   Mode   Drawing OCRd Text at Ihe Correspoding Position\\nFig. 3: Layout detection and OCR results visualization generated by the\\nLayoutParser APIs. Mode I directly overlays the layout region bounding boxes\\nand categories over the original image. Mode II recreates the original document\\nvia drawing the OCR’d texts at their corresponding positions on the image\\ncanvas. In this figure, tokens in textual regions are filtered using the API and\\nthen displayed.\\n\\ncan also be highly sensitive and not sharable publicly. To overcome these chal-\\nlenges, LayoutParser is built with rich features for efficient data annotation and\\ncustomized model training.\\n      LayoutParser incorporates a toolkit optimized for annotating document lay-\\nouts using object-level active learning [ 32 ]. With the help from a layout detection\\nmodel trained along with labeling, only the most important layout objects within\\neach image, rather than the whole image, are required for labeling. The rest of\\nthe regions are automatically annotated with high confidence predictions from\\nthe layout detection model. This allows a layout dataset to be created more\\nefficiently with only around 60% of the labeling budget.\\n      After the training dataset is curated, LayoutParser supports different modes\\nfor training the layout models. Fine-tuning can be used for training models on a\\nsmall newly-labeled dataset by initializing the model with existing pre-trained\\nweights. Training from scratch can be helpful when the source dataset and\\ntarget are significantly different and a large training set is available. However, as\\nsuggested in Studer et al.’s work[ 33 ], loading pre-trained weights on large-scale\\ndatasets like ImageNet [5], even from totally different domains, can still boost\\nmodel performance. Through the integrated API provided by LayoutParser,\\nusers can easily compare model performances on the benchmark datasets.', mimetype='text/plain', start_char_idx=None, end_char_idx=None, text_template='{metadata_str}\\n\\n{content}', metadata_template='{key}: {value}', metadata_seperator='\\n'),\n",
       " Document(id_='6401f13c-0f99-48d7-89fe-c2405934a2e8', embedding=None, metadata={}, excluded_embed_metadata_keys=[], excluded_llm_metadata_keys=[], relationships={}, text='10        Z. Shen et al.\\n                                               Veading\\n                                                                                              Toke Caleaanex\\n L                                                                                                   Number\\n                                                                                                     Vanable\\n    (a) Illustration of the original Japanese document with detected layout elements highlighted in colored boxes\\n                                                                                                    Au Jress\\n                                                                                                    Sdion Hcader\\n          (b) Illustration of the recreated document with dense text structure for better OCR performance\\nFig. 4: Illustration of (a) the original historical Japanese document with layout\\ndetection results and (b) a recreated version of the document image that achieves\\nmuch better character recognition recall. The reorganization algorithm rearranges\\nthe tokens based on the their detected bounding boxes given a maximum allowed\\nheight.\\n\\n4     LayoutParser Community Platform\\nAnother focus of LayoutParser is promoting the reusability of layout detection\\nmodels and full digitization pipelines. Similar to many existing deep learning\\nlibraries, LayoutParser comes with a community model hub for distributing\\nlayout models. End-users can upload their self-trained models to the model hub,\\nand these models can be loaded into a similar interface as the currently available\\nLayoutParser pre-trained models. For example, the model trained on the News\\nNavigator dataset [17] has been incorporated in the model hub.\\n     Beyond DL models, LayoutParser also promotes the sharing of entire doc-\\nument digitization pipelines. For example, sometimes the pipeline requires the\\ncombination of multiple DL models to achieve better accuracy. Currently, pipelines\\nare mainly described in academic papers and implementations are often not pub-\\nlicly available. To this end, the LayoutParser community platform also enables\\nthe sharing of layout pipelines to promote the discussion and reuse of techniques.\\nFor each shared pipeline, it has a dedicated project page, with links to the source\\ncode, documentation, and an outline of the approaches. A discussion panel is\\nprovided for exchanging ideas. Combined with the core LayoutParser library,\\nusers can easily build reusable components based on the shared pipelines and\\napply them to solve their unique problems.\\n\\n5     Use Cases\\nThe core objective of LayoutParser is to make it easier to create both large-scale\\nand light-weight document digitization pipelines. Large-scale document processing', mimetype='text/plain', start_char_idx=None, end_char_idx=None, text_template='{metadata_str}\\n\\n{content}', metadata_template='{key}: {value}', metadata_seperator='\\n'),\n",
       " Document(id_='3608a073-26bd-41e7-af60-7164cc6b2d5e', embedding=None, metadata={}, excluded_embed_metadata_keys=[], excluded_llm_metadata_keys=[], relationships={}, text='                                         LayoutParser: A Unified Toolkit for DL-Based DIA                                             11\\n\\nfocuses on precision, efficiency, and robustness. The target documents may have\\ncomplicated structures, and may require training multiple layout detection models\\nto achieve the optimal accuracy. Light-weight pipelines are built for relatively\\nsimple documents, with an emphasis on development ease, speed and flexibility.\\nIdeally one only needs to use existing resources, and model training should be\\navoided. Through two exemplar projects, we show how practitioners in both\\nacademia and industry can easily build such pipelines using LayoutParser and\\nextract high-quality structured document data for their downstream tasks. The\\nsource code for these projects will be publicly available in the LayoutParser\\ncommunity hub.\\n\\n5.1        A Comprehensive Historical Document Digitization Pipeline\\n\\nThe digitization of historical documents can unlock valuable data that can shed\\nlight on many important social, economic, and historical questions. Yet due to\\nscan noises, page wearing, and the prevalence of complicated layout structures, ob-\\ntaining a structured representation of historical document scans is often extremely\\ncomplicated.\\nIn this example, LayoutParser was\\nused to develop a comprehensive\\npipeline, shown in Figure 5, to gener-\\nate high-quality structured data from                                     Annotate Layout Dataset             Active Learning Layout\\nhistorical Japanese firm financial ta-                                                                          Annotalion Toolkit\\nbles with complicated layouts. The\\npipeline applies two layout models to                                         Layout Detection                 Deep Leaming Layout\\n                                                                                                             Model Training Interence)\\nidentify different levels of document\\nstructures and two customized OCR                                                                            Handy Data Structures\\nengines for optimized character recog-                                        Post-processing                  APIs for Layout Data\\nnition accuracy.\\n      As shown in Figure 4 (a), the                                           Text Recognition               Default and Customized\\ndocument contains columns of text                                                                                  OCR Models\\nwritten vertically15, a common style\\nin Japanese. Due to scanning noise                                          Visualization .Export                Layout Structure\\nand archaic printing technology, the                                                                          Visualization Storage\\ncolumns can be skewed or have vari-                                      The Japanese Document               Helpful LayoutParser\\nable widths, and hence cannot be eas-                                      Digitization Pipeline                    Modules\\nily identified via rule-based methods.\\nWithin each column, words are sepa-\\nrated by white spaces of variable size,                              Fig. 5: Illustration of how LayoutParser\\nand the vertical positions of objects                                helps with the historical document digi-\\ncan be an indicator of their layout                                  tization pipeline.\\ntype.\\n15 A document page consists of eight rows like this. For simplicity we skip the row\\n    segmentation discussion and refer readers to the source code when available.', mimetype='text/plain', start_char_idx=None, end_char_idx=None, text_template='{metadata_str}\\n\\n{content}', metadata_template='{key}: {value}', metadata_seperator='\\n'),\n",
       " Document(id_='e7dc12f5-128c-482c-a83c-acdfe726d13b', embedding=None, metadata={}, excluded_embed_metadata_keys=[], excluded_llm_metadata_keys=[], relationships={}, text='12        Z. Shen et al.\\n\\n     To decipher the complicated layout\\nstructure, two object detection models have been trained to recognize individual\\ncolumns and tokens, respectively. A small training set (400 images with approxi-\\nmately 100 annotations each) is curated via the active learning based annotation\\ntool [32 ] in LayoutParser. The models learn to identify both the categories and\\nregions for each token or column via their distinct visual features. The layout\\ndata structure enables easy grouping of the tokens within each column, and\\nrearranging columns to achieve the correct reading orders based on the horizontal\\nposition. Errors are identified and rectified via checking the consistency of the\\nmodel predictions. Therefore, though trained on a small dataset, the pipeline\\nachieves a high level of layout detection accuracy: it achieves a 96.97 AP [ 19 ]\\nscore across 5 categories for the column detection model, and a 89.23 AP across\\n4 categories for the token detection model.\\n     A combination of character recognition methods is developed to tackle the\\nunique challenges in this document. In our experiments, we found that irregular\\nspacing between the tokens led to a low character recognition recall rate, whereas\\nexisting OCR models tend to perform better on densely-arranged texts. To\\novercome this challenge, we create a document reorganization algorithm that\\nrearranges the text based on the token bounding boxes detected in the layout\\nanalysis step. Figure 4 (b) illustrates the generated image of dense text, which is\\nsent to the OCR APIs as a whole to reduce the transaction costs. The flexible\\ncoordinate system in LayoutParser is used to transform the OCR results relative\\nto their original positions on the page.\\n     Additionally, it is common for historical documents to use unique fonts\\nwith different glyphs, which significantly degrades the accuracy of OCR models\\ntrained on modern texts. In this document, a special flat font is used for printing\\nnumbers and could not be detected by off-the-shelf OCR engines. Using the highly\\nflexible functionalities from LayoutParser, a pipeline approach is constructed\\nthat achieves a high recognition accuracy with minimal effort. As the characters\\nhave unique visual structures and are usually clustered together, we train the\\nlayout model to identify number regions with a dedicated category. Subsequently,\\nLayoutParser crops images within these regions, and identifies characters within\\nthem using a self-trained OCR model based on a CNN-RNN [ 6]. The model\\ndetects a total of 15 possible categories, and achieves a 0.98 Jaccard score16 and\\na 0.17 average Levinstein distances17 for token prediction on the test set.\\n     Overall, it is possible to create an intricate and highly accurate digitization\\npipeline for large-scale digitization using LayoutParser. The pipeline avoids\\nspecifying the complicated rules used in traditional methods, is straightforward\\nto develop, and is robust to outliers. The DL models also generate fine-grained\\nresults that enable creative approaches like page reorganization for OCR.\\n\\n16 This measures the overlap between the detected and ground-truth characters, and\\n17 This measures the number of edits from the ground-truth text to the predicted text,\\n                                                                                      the maximum is 1.\\n   and lower is better.', mimetype='text/plain', start_char_idx=None, end_char_idx=None, text_template='{metadata_str}\\n\\n{content}', metadata_template='{key}: {value}', metadata_seperator='\\n'),\n",
       " Document(id_='6148f96a-1026-4985-8dcc-225290f0ea4f', embedding=None, metadata={}, excluded_embed_metadata_keys=[], excluded_llm_metadata_keys=[], relationships={}, text='                                LayoutParser: A Unified Toolkit for DL-Based DIA                       13\\n                                      Full pace able           Paillal Lable al Ihe [OL  Mis-Oelected lert line\\nFig. 6: This lightweight table detector can identify tables (outlined in red) and\\ncells (shaded in blue) in different locations on a page. In very few cases (d), it\\nmight generate minor error predictions, e.g, failing to capture the top text line of\\na table.\\n\\n5.2     A light-weight Visual Table Extractor\\n\\nDetecting tables and parsing their structures (table extraction) are of central im-\\nportance for many document digitization tasks. Many previous works [ 26 , 30 , 27]\\nand tools 18 have been developed to identify and parse table structures. Yet they\\nmight require training complicated models from scratch, or are only applicable\\nfor born-digital PDF documents. In this section, we show how LayoutParser can\\nhelp build a light-weight accurate visual table extractor for legal docket tables\\nusing the existing resources with minimal effort.\\n     The extractor uses a pre-trained layout detection model for identifying the\\ntable regions and some simple rules for pairing the rows and the columns in the\\nPDF image. Mask R-CNN [12 ] trained on the PubLayNet dataset [38 ] from the\\nLayoutParser Model Zoo can be used for detecting table regions. By filtering\\nout model predictions of low confidence and removing overlapping predictions,\\nLayoutParser can identify the tabular regions on each page, which significantly\\nsimplifies the subsequent steps. By applying the line detection functions within\\nthe tabular segments, provided in the utility module from LayoutParser, the\\npipeline can identify the three distinct columns in the tables. A row clustering\\nmethod is then applied via analyzing the y coordinates of token bounding boxes in\\nthe left-most column, which are obtained from the OCR engines. A non-maximal\\nsuppression algorithm is used to remove duplicated rows with extremely small\\ngaps. Shown in Figure 6, the built pipeline can detect tables at different positions\\non a page accurately. Continued tables from different pages are concatenated,\\nand a structured table representation has been easily created.\\n\\n18 https://github.com/atlanhq/camelot, https://github.com/tabulapdf/tabula', mimetype='text/plain', start_char_idx=None, end_char_idx=None, text_template='{metadata_str}\\n\\n{content}', metadata_template='{key}: {value}', metadata_seperator='\\n'),\n",
       " Document(id_='ead6d0d6-5bf8-4a52-b555-817bc2a20ab5', embedding=None, metadata={}, excluded_embed_metadata_keys=[], excluded_llm_metadata_keys=[], relationships={}, text='14        Z. Shen et al.\\n\\n6     Conclusion\\n\\nLayoutParser provides a comprehensive toolkit for deep learning-based document\\nimage analysis. The off-the-shelf library is easy to install, and can be used to\\nbuild flexible and accurate pipelines for processing documents with complicated\\nstructures. It also supports high-level customization and enables easy labeling and\\ntraining of DL models on unique document image datasets. The LayoutParser\\ncommunity platform facilitates sharing DL models and DIA pipelines, inviting\\ndiscussion and promoting code reproducibility and reusability. The LayoutParser\\nteam is committed to keeping the library updated continuously and bringing\\nthe most recent advances in DL-based DIA, such as multi-modal document\\nmodeling [37, 36, 9] (an upcoming priority), to a diverse audience of end-users.\\n\\nAcknowledgements We thank the anonymous reviewers for their comments\\nand suggestions. This project is supported in part by NSF Grant OIA-2033558\\nand funding from the Harvard Data Science Initiative and Harvard Catalyst.\\nZejiang Shen thanks Doug Downey for suggestions.\\n\\nReferences\\n  [1] Abadi, M., Agarwal, A., Barham, P., Brevdo, E., Chen, Z., Citro, C., Corrado,\\n      G.S., Davis, A., Dean, J., Devin, M., Ghemawat, S., Goodfellow, I., Harp, A.,\\n      Irving, G., Isard, M., Jia, Y., Jozefowicz, R., Kaiser, L., Kudlur, M., Levenberg,\\n      J., Man´e, D., Monga, R., Moore, S., Murray, D., Olah, C., Schuster, M., Shlens, J.,\\n      Steiner, B., Sutskever, I., Talwar, K., Tucker, P., Vanhoucke, V., Vasudevan, V.,\\n      Vi´egas, F., Vinyals, O., Warden, P., Wattenberg, M., Wicke, M., Yu, Y., Zheng,\\n      X.: TensorFlow: Large-scale machine learning on heterogeneous systems (2015),\\n      https://www.tensorflow.org/, software available from tensorflow.org\\n  [2] Alberti, M., Pondenkandath, V., W¨ursch, M., Ingold, R., Liwicki, M.: Deepdiva: a\\n      highly-functional python framework for reproducible experiments. In: 2018 16th\\n      International Conference on Frontiers in Handwriting Recognition (ICFHR). pp.\\n      423–428. IEEE (2018)\\n  [3] Antonacopoulos, A., Bridson, D., Papadopoulos, C., Pletschacher, S.: A realistic\\n      dataset for performance evaluation of document layout analysis. In: 2009 10th\\n      International Conference on Document Analysis and Recognition. pp. 296–300.\\n      IEEE (2009)\\n  [4] Baek, Y., Lee, B., Han, D., Yun, S., Lee, H.: Character region awareness for text\\n      detection. In: Proceedings of the IEEE/CVF Conference on Computer Vision and\\n      Pattern Recognition. pp. 9365–9374 (2019)\\n  [5] Deng, J., Dong, W., Socher, R., Li, L.J., Li, K., Fei-Fei, L.: ImageNet: A Large-Scale\\n      Hierarchical Image Database. In: CVPR09 (2009)\\n  [6] Deng, Y., Kanervisto, A., Ling, J., Rush, A.M.: Image-to-markup generation with\\n      coarse-to-fine attention. In: International Conference on Machine Learning. pp.\\n      980–989. PMLR (2017)\\n  [7] Ganin, Y., Lempitsky, V.: Unsupervised domain adaptation by backpropagation.\\n      In: International conference on machine learning. pp. 1180–1189. PMLR (2015)', mimetype='text/plain', start_char_idx=None, end_char_idx=None, text_template='{metadata_str}\\n\\n{content}', metadata_template='{key}: {value}', metadata_seperator='\\n'),\n",
       " Document(id_='fe1aa5df-721e-4887-84af-942ab49431f4', embedding=None, metadata={}, excluded_embed_metadata_keys=[], excluded_llm_metadata_keys=[], relationships={}, text='                                 LayoutParser: A Unified Toolkit for DL-Based DIA            15\\n\\n  [8] Gardner, M., Grus, J., Neumann, M., Tafjord, O., Dasigi, P., Liu, N., Peters,\\n       M., Schmitz, M., Zettlemoyer, L.: Allennlp: A deep semantic natural language\\n       processing platform. arXiv preprint arXiv:1803.07640 (2018)\\n  [9] Lukasz Garncarek, Powalski, R., Stanislawek, T., Topolski, B., Halama, P.,\\n       Grali´nski, F.: Lambert: Layout-aware (language) modeling using bert for in-\\n       formation extraction (2020)\\n[10] Graves, A., Fern´andez, S., Gomez, F., Schmidhuber, J.: Connectionist temporal\\n       classification: labelling unsegmented sequence data with recurrent neural networks.\\n       In: Proceedings of the 23rd international conference on Machine learning. pp.\\n       369–376 (2006)\\n[11] Harley, A.W., Ufkes, A., Derpanis, K.G.: Evaluation of deep convolutional nets for\\n       document image classification and retrieval. In: 2015 13th International Conference\\n       on Document Analysis and Recognition (ICDAR). pp. 991–995. IEEE (2015)\\n[12] He, K., Gkioxari, G., Doll´ar, P., Girshick, R.: Mask r-cnn. In: Proceedings of the\\n       IEEE international conference on computer vision. pp. 2961–2969 (2017)\\n[13] He, K., Zhang, X., Ren, S., Sun, J.: Deep residual learning for image recognition.\\n       In: Proceedings of the IEEE conference on computer vision and pattern recognition.\\n       pp. 770–778 (2016)\\n[14] Kay, A.: Tesseract: An open-source optical character recognition engine. Linux J.\\n      2007(159), 2 (Jul 2007)\\n[15] Lamiroy, B., Lopresti, D.: An open architecture for end-to-end document analysis\\n       benchmarking. In: 2011 International Conference on Document Analysis and\\n       Recognition. pp. 42–47. IEEE (2011)\\n[16] Lee, B.C., Weld, D.S.: Newspaper navigator: Open faceted search for 1.5\\n       million images. In: Adjunct Publication of the 33rd Annual ACM Sym-\\n       posium on User Interface Software and Technology. p. 120–122. UIST\\n      ’20 Adjunct, Association for Computing Machinery, New York, NY, USA\\n      (2020). https://doi.org/10.1145/3379350.3416143, https://doi-org.offcampus.\\n       lib.washington.edu/10.1145/3379350.3416143\\n[17] Lee, B.C.G., Mears, J., Jakeway, E., Ferriter, M., Adams, C., Yarasavage, N.,\\n      Thomas, D., Zwaard, K., Weld, D.S.: The Newspaper Navigator Dataset: Extracting\\n       Headlines and Visual Content from 16 Million Historic Newspaper Pages in\\n       Chronicling America, p. 3055–3062. Association for Computing Machinery, New\\n      York, NY, USA (2020), https://doi.org/10.1145/3340531.3412767\\n[18] Li, M., Cui, L., Huang, S., Wei, F., Zhou, M., Li, Z.: Tablebank: Table benchmark\\n       for image-based table detection and recognition. arXiv preprint arXiv:1903.01949\\n      (2019)\\n[19] Lin, T.Y., Maire, M., Belongie, S., Hays, J., Perona, P., Ramanan, D., Doll´ar, P.,\\n       Zitnick, C.L.: Microsoft coco: Common objects in context. In: European conference\\n       on computer vision. pp. 740–755. Springer (2014)\\n[20] Long, J., Shelhamer, E., Darrell, T.: Fully convolutional networks for semantic\\n       segmentation. In: Proceedings of the IEEE conference on computer vision and\\n       pattern recognition. pp. 3431–3440 (2015)\\n[21] Neudecker, C., Schlarb, S., Dogan, Z.M., Missier, P., Sufi, S., Williams, A., Wolsten-\\n       croft, K.: An experimental workflow development platform for historical document\\n       digitisation and analysis. In: Proceedings of the 2011 workshop on historical\\n       document imaging and processing. pp. 161–168 (2011)\\n[22] Oliveira, S.A., Seguin, B., Kaplan, F.: dhsegment: A generic deep-learning approach\\n       for document segmentation. In: 2018 16th International Conference on Frontiers\\n       in Handwriting Recognition (ICFHR). pp. 7–12. IEEE (2018)', mimetype='text/plain', start_char_idx=None, end_char_idx=None, text_template='{metadata_str}\\n\\n{content}', metadata_template='{key}: {value}', metadata_seperator='\\n'),\n",
       " Document(id_='55ab86ca-9f9c-47f6-9dd9-ce68a8a4de5f', embedding=None, metadata={}, excluded_embed_metadata_keys=[], excluded_llm_metadata_keys=[], relationships={}, text='16         Z. Shen et al.\\n\\n [23] Paszke, A., Gross, S., Chintala, S., Chanan, G., Yang, E., DeVito, Z., Lin, Z.,\\n       Desmaison, A., Antiga, L., Lerer, A.: Automatic differentiation in pytorch (2017)\\n [24] Paszke, A., Gross, S., Massa, F., Lerer, A., Bradbury, J., Chanan, G., Killeen,\\n       T., Lin, Z., Gimelshein, N., Antiga, L., et al.: Pytorch: An imperative style,\\n       high-performance deep learning library. arXiv preprint arXiv:1912.01703 (2019)\\n [25] Pletschacher, S., Antonacopoulos, A.: The page (page analysis and ground-truth\\n       elements) format framework. In: 2010 20th International Conference on Pattern\\n       Recognition. pp. 257–260. IEEE (2010)\\n [26] Prasad, D., Gadpal, A., Kapadni, K., Visave, M., Sultanpure, K.: Cascadetabnet:\\n       An approach for end to end table detection and structure recognition from image-\\n       based documents. In: Proceedings of the IEEE/CVF Conference on Computer\\n       Vision and Pattern Recognition Workshops. pp. 572–573 (2020)\\n [27] Qasim, S.R., Mahmood, H., Shafait, F.: Rethinking table recognition using graph\\n       neural networks. In: 2019 International Conference on Document Analysis and\\n       Recognition (ICDAR). pp. 142–147. IEEE (2019)\\n [28] Ren, S., He, K., Girshick, R., Sun, J.: Faster r-cnn: Towards real-time object\\n       detection with region proposal networks. In: Advances in neural information\\n       processing systems. pp. 91–99 (2015)\\n [29] Scarselli, F., Gori, M., Tsoi, A.C., Hagenbuchner, M., Monfardini, G.: The graph\\n       neural network model. IEEE transactions on neural networks 20(1), 61–80 (2008)\\n [30] Schreiber, S., Agne, S., Wolf, I., Dengel, A., Ahmed, S.: Deepdesrt: Deep learning\\n       for detection and structure recognition of tables in document images. In: 2017 14th\\n       IAPR international conference on document analysis and recognition (ICDAR).\\n       vol. 1, pp. 1162–1167. IEEE (2017)\\n [31] Shen, Z., Zhang, K., Dell, M.: A large dataset of historical japanese documents\\n       with complex layouts. In: Proceedings of the IEEE/CVF Conference on Computer\\n       Vision and Pattern Recognition Workshops. pp. 548–549 (2020)\\n [32] Shen, Z., Zhao, J., Dell, M., Yu, Y., Li, W.: Olala: Object-level active learning\\n       based layout annotation. arXiv preprint arXiv:2010.01762 (2020)\\n [33] Studer, L., Alberti, M., Pondenkandath, V., Goktepe, P., Kolonko, T., Fischer,\\n       A., Liwicki, M., Ingold, R.: A comprehensive study of imagenet pre-training for\\n       historical document image analysis. In: 2019 International Conference on Document\\n       Analysis and Recognition (ICDAR). pp. 720–725. IEEE (2019)\\n [34] Wolf, T., Debut, L., Sanh, V., Chaumond, J., Delangue, C., Moi, A., Cistac, P.,\\n       Rault, T., Louf, R., Funtowicz, M., et al.: Huggingface’s transformers: State-of-\\n       the-art natural language processing. arXiv preprint arXiv:1910.03771 (2019)\\n [35] Wu, Y., Kirillov, A., Massa, F., Lo, W.Y., Girshick, R.: Detectron2. https://\\n       github.com/facebookresearch/detectron2 (2019)\\n [36] Xu, Y., Xu, Y., Lv, T., Cui, L., Wei, F., Wang, G., Lu, Y., Florencio, D., Zhang, C.,\\n       Che, W., et al.: Layoutlmv2: Multi-modal pre-training for visually-rich document\\n       understanding. arXiv preprint arXiv:2012.14740 (2020)\\n [37] Xu, Y., Li, M., Cui, L., Huang, S., Wei, F., Zhou, M.: Layoutlm: Pre-training of\\n       text and layout for document image understanding (2019)\\n [38] Zhong, X., Tang, J., Yepes, A.J.: Publaynet: largest dataset ever for doc-\\n       ument layout analysis. In: 2019 International Conference on Document\\n       Analysis and Recognition (ICDAR). pp. 1015–1022. IEEE (Sep 2019).\\n       https://doi.org/10.1109/ICDAR.2019.00166', mimetype='text/plain', start_char_idx=None, end_char_idx=None, text_template='{metadata_str}\\n\\n{content}', metadata_template='{key}: {value}', metadata_seperator='\\n')]"
      ]
     },
     "execution_count": 6,
     "metadata": {},
     "output_type": "execute_result"
    }
   ],
   "source": [
    "documents"
   ]
  },
  {
   "cell_type": "code",
   "execution_count": 7,
   "metadata": {},
   "outputs": [
    {
     "data": {
      "text/plain": [
       "Document(id_='d2279595-c9c4-42c8-afda-e5c7884d4466', embedding=None, metadata={}, excluded_embed_metadata_keys=[], excluded_llm_metadata_keys=[], relationships={}, text='arXiv:2103.15348v2 [cs.CV] 21 Jun 2021\\n\\n                                                 LayoutParser: A Unified Toolkit for Deep\\n                                               Learning Based Document Image Analysis\\n\\n                                        Zejiang Shen1 (         ), Ruochen Zhang2, Melissa Dell3, Benjamin Charles Germain\\n                                                                   Lee4, Jacob Carlson3, and Weining Li5\\n                                                                              1 Allen Institute for AI\\n                                                                              shannons@allenai.org2 Brown University\\n                                                                            ruochen zhang@brown.edu3 Harvard University\\n                                                              {melissadell,jacob carlson}@fas.harvard.edu4 University of Washington\\n                                                                             bcgl@cs.washington.edu\\n                                                                             5 University of Waterloo\\n                                                                               w422li@uwaterloo.ca\\n\\n                                                 Abstract. Recent advances in document image analysis (DIA) have been\\n                                                 primarily driven by the application of neural networks. Ideally, research\\n                                                 outcomes could be easily deployed in production and extended for further\\n                                                 investigation. However, various factors like loosely organized codebases\\n                                                 and sophisticated model configurations complicate the easy reuse of im-\\n                                                 portant innovations by a wide audience. Though there have been on-going\\n                                                 efforts to improve reusability and simplify deep learning (DL) model\\n                                                 development in disciplines like natural language processing and computer\\n                                                vision, none of them are optimized for challenges in the domain of DIA.\\n                                                This represents a major gap in the existing toolkit, as DIA is central to\\n                                                 academic research across a wide range of disciplines in the social sciences\\n                                                 and humanities. This paper introduces LayoutParser, an open-source\\n                                                 library for streamlining the usage of DL in DIA research and applica-\\n                                                 tions. The core LayoutParser library comes with a set of simple and\\n                                                 intuitive interfaces for applying and customizing DL models for layout de-\\n                                                 tection, character recognition, and many other document processing tasks.\\n                                                To promote extensibility, LayoutParser also incorporates a community\\n                                                 platform for sharing both pre-trained models and full document digiti-\\n                                                 zation pipelines. We demonstrate that LayoutParser is helpful for both\\n                                                 lightweight and large-scale digitization pipelines in real-word use cases.\\n                                                The library is publicly available at https://layout-parser.github.io.\\n\\n                                                 Keywords: Document Image Analysis · Deep Learning · Layout Analysis\\n                                                · Character Recognition · Open Source library · Toolkit.\\n\\n                                        1     Introduction\\n                                        Deep Learning(DL)-based approaches are the state-of-the-art for a wide range of\\n                                        document image analysis (DIA) tasks including document image classification [11 ,', mimetype='text/plain', start_char_idx=None, end_char_idx=None, text_template='{metadata_str}\\n\\n{content}', metadata_template='{key}: {value}', metadata_seperator='\\n')"
      ]
     },
     "execution_count": 7,
     "metadata": {},
     "output_type": "execute_result"
    }
   ],
   "source": [
    "documents[0]\n",
    "\n"
   ]
  },
  {
   "cell_type": "code",
   "execution_count": 21,
   "metadata": {},
   "outputs": [
    {
     "data": {
      "text/plain": [
       "{}"
      ]
     },
     "execution_count": 21,
     "metadata": {},
     "output_type": "execute_result"
    }
   ],
   "source": [
    "documents[0].metadata"
   ]
  },
  {
   "cell_type": "code",
   "execution_count": 9,
   "metadata": {},
   "outputs": [
    {
     "name": "stdout",
     "output_type": "stream",
     "text": [
      "Doc ID: 46bb82e4-26d3-4aab-9154-57faf8136114\n",
      "Text: arXiv:2103.15348v2 [cs.CV] 21 Jun 2021\n",
      "LayoutParser: A Unified Toolkit for Deep\n",
      "Learning Based Document Image Analysis\n",
      "Zejiang Shen1 (         ), Ruochen Zhang2, Melissa Dell3, Benjamin\n",
      "Charles Germain        ...\n",
      "Doc ID: c1006890-771d-490b-8691-d78b84c53b66\n",
      "Text: 2         Z. Shen et al.  37], layout detection [ 38 , 22 ],\n",
      "table detection [26], and scene text detection [4 ]. A generalized\n",
      "learning-based framework dramatically reduces the need for the manual\n",
      "specification of complicated rules, which is the status quo with\n",
      "traditional methods. DL has the potential to transform DIA pipelines\n",
      "and benefit a b...\n",
      "Doc ID: bbb613b7-e2b1-4bbb-a814-a9a35a80e0e0\n",
      "Text: LayoutParser: A Unified Toolkit for DL-Based DIA         3\n",
      "that require precision, efficiency, and robustness, as well as simple\n",
      "and light-  weight document processing tasks focusing on efficacy and\n",
      "flexibility (Section 5).  LayoutParser is being actively maintained,\n",
      "and support for more deep learning  models and novel methods in text-\n",
      "based la...\n",
      "Doc ID: e12fcc32-4c00-4347-badc-579ebfed32a9\n",
      "Text: 4         Z. Shen et al.                  Model Customization\n",
      "Document Images          Community Platform                  Efficient\n",
      "Data Annotation                                  DIA Model Hub\n",
      "Customized Model Training   Layout Detection Models      DIA Pipeline\n",
      "Sharing                       OCR Module              ...\n",
      "Doc ID: 6fcfac10-f236-4e8e-9d12-80f460a3ca4a\n",
      "Text: LayoutParser: A Unified Toolkit for DL-Based DIA\n",
      "5        Table 1: Current layout detection models in the LayoutParser\n",
      "model zoo        Dataset        Base Model1 Large Model         Notes\n",
      "PubLayNet [38]       F / M              M         Layouts of modern\n",
      "scientific documents       PRImA [3]             M        ...\n",
      "Doc ID: d582884f-0af0-4ee7-a2c4-7ef5938396b8\n",
      "Text: 6         Z. Shen et al.                        1\n",
      "3                                                   Aeclanje\n",
      "Quacudateral      L                        7           Coordinate\n",
      "3                                 Extra features       Plnck  Blcc...\n",
      "Doc ID: fdf91548-78e5-4401-86b2-02d0e668cde0\n",
      "Text: LayoutParser: A Unified Toolkit for DL-Based DIA        7\n",
      "Coordinates are the cornerstones for storing layout information.\n",
      "Currently,   three types of Coordinate data structures are provided in\n",
      "LayoutParser, shown   in Figure 2. Interval and Rectangle are the most\n",
      "common data types and   support specifying 1D or 2D regions within a\n",
      "docum...\n",
      "Doc ID: e6f3fac0-2cbe-4c7c-a42d-72e22c5159e3\n",
      "Text: 8          Z. Shen et al.\n",
      "Table 2: All operations supported by the layout elements. The same\n",
      "APIs are                                           supported across\n",
      "different layout element classes including Coordinate types,\n",
      "TextBlock and Layout.                   ...\n",
      "Doc ID: e6e3774e-5293-4bc9-addd-3767d2289154\n",
      "Text: LayoutParser: A Unified Toolkit for DL-Based DIA\n",
      "9\n",
      "1\n",
      "1                       Mo...\n",
      "Doc ID: 5ef6635d-16f5-40ae-8068-b79a5cd17cba\n",
      "Text: 10        Z. Shen et al.\n",
      "Veading\n",
      "Toke Caleaanex  L\n",
      "Number                                                   ...\n",
      "Doc ID: 4e8143c5-1522-483c-bbf8-598eba3b9ba5\n",
      "Text: LayoutParser: A Unified Toolkit for DL-Based DIA\n",
      "11  focuses on precision, efficiency, and robustness. The target\n",
      "documents may have complicated structures, and may require training\n",
      "multiple layout detection models to achieve the optimal accuracy.\n",
      "Light-weight pipelines are built for relatively simple ...\n",
      "Doc ID: 118aeb7e-abf9-445f-bba8-f1f2a40f03a5\n",
      "Text: 12        Z. Shen et al.       To decipher the complicated\n",
      "layout structure, two object detection models have been trained to\n",
      "recognize individual columns and tokens, respectively. A small\n",
      "training set (400 images with approxi- mately 100 annotations each) is\n",
      "curated via the active learning based annotation tool [32 ] in\n",
      "LayoutParser. The models...\n",
      "Doc ID: 727e44f8-177f-4ce2-a196-26f9dc406c97\n",
      "Text: LayoutParser: A Unified Toolkit for DL-Based DIA\n",
      "13                                       Full pace able\n",
      "Paillal Lable al Ihe [OL  Mis-Oelected lert line Fig. 6: This\n",
      "lightweight table detector can identify tables (outlined in red) and\n",
      "cells (shaded in blue) in different locations on a page. In very few\n",
      "cases (d),...\n",
      "Doc ID: 3daa1711-c0bc-4507-8a77-5e34f88ed6c1\n",
      "Text: 14        Z. Shen et al.  6     Conclusion  LayoutParser\n",
      "provides a comprehensive toolkit for deep learning-based document\n",
      "image analysis. The off-the-shelf library is easy to install, and can\n",
      "be used to build flexible and accurate pipelines for processing\n",
      "documents with complicated structures. It also supports high-level\n",
      "customization and enabl...\n",
      "Doc ID: f00984d5-15a7-4051-8243-651579fa78fc\n",
      "Text: LayoutParser: A Unified Toolkit for DL-Based DIA            15\n",
      "[8] Gardner, M., Grus, J., Neumann, M., Tafjord, O., Dasigi, P., Liu,\n",
      "N., Peters,        M., Schmitz, M., Zettlemoyer, L.: Allennlp: A deep\n",
      "semantic natural language        processing platform. arXiv preprint\n",
      "arXiv:1803.07640 (2018)   [9] Lukasz Garncarek, Powalski, R.,\n",
      "Stanislawe...\n",
      "Doc ID: 8bfdc62d-10ab-4257-aa86-82984d6f09cb\n",
      "Text: 16         Z. Shen et al.   [23] Paszke, A., Gross, S.,\n",
      "Chintala, S., Chanan, G., Yang, E., DeVito, Z., Lin, Z.,\n",
      "Desmaison, A., Antiga, L., Lerer, A.: Automatic differentiation in\n",
      "pytorch (2017)  [24] Paszke, A., Gross, S., Massa, F., Lerer, A.,\n",
      "Bradbury, J., Chanan, G., Killeen,        T., Lin, Z., Gimelshein, N.,\n",
      "Antiga, L., et al.: Pyt...\n"
     ]
    }
   ],
   "source": [
    "for doc in documents:\n",
    "    print(doc)"
   ]
  },
  {
   "cell_type": "code",
   "execution_count": 8,
   "metadata": {},
   "outputs": [
    {
     "ename": "NameError",
     "evalue": "name 'VectorStoreIndex' is not defined",
     "output_type": "error",
     "traceback": [
      "\u001b[1;31m---------------------------------------------------------------------------\u001b[0m",
      "\u001b[1;31mNameError\u001b[0m                                 Traceback (most recent call last)",
      "Cell \u001b[1;32mIn[8], line 2\u001b[0m\n\u001b[0;32m      1\u001b[0m \u001b[38;5;66;03m# create an index from the parsed markdown\u001b[39;00m\n\u001b[1;32m----> 2\u001b[0m index \u001b[38;5;241m=\u001b[39m \u001b[43mVectorStoreIndex\u001b[49m\u001b[38;5;241m.\u001b[39mfrom_documents(documents)\n",
      "\u001b[1;31mNameError\u001b[0m: name 'VectorStoreIndex' is not defined"
     ]
    }
   ],
   "source": [
    "# create an index from the parsed markdown\n",
    "index = VectorStoreIndex.from_documents(documents)"
   ]
  },
  {
   "cell_type": "code",
   "execution_count": 18,
   "metadata": {},
   "outputs": [],
   "source": [
    "\n",
    "# create a query engine for the index\n",
    "query_engine = index.as_query_engine()\n"
   ]
  },
  {
   "cell_type": "code",
   "execution_count": 19,
   "metadata": {},
   "outputs": [
    {
     "name": "stdout",
     "output_type": "stream",
     "text": [
      "You can experience the highest tides in the world in the Bay of Fundy.\n"
     ]
    }
   ],
   "source": [
    "\n",
    "# query the engine\n",
    "query = \"What can you do in the Bay of Fundy?\"\n",
    "response = query_engine.query(query)\n",
    "print(response)"
   ]
  },
  {
   "cell_type": "code",
   "execution_count": 20,
   "metadata": {},
   "outputs": [
    {
     "name": "stdout",
     "output_type": "stream",
     "text": [
      "The core LayoutParser library consists of five components: layout detection models, layout data structure, OCR module, community platform, and the core LayoutParser library itself. The layout detection models enable the use of pre-trained or self-trained DL models for layout detection with just four lines of code. The layout data structure includes the Coordinate system, TextBlock, and Layout, which provide different levels of abstraction for the layout data and support various APIs for transformations and operations. The OCR module facilitates optical character recognition. The community platform includes the DIA Model Hub, DIA Pipeline Sharing, and Storage & Visualization features. The core LayoutParser library offers off-the-shelf tools for layout detection, OCR, visualization, and storage, supported by a carefully designed layout data structure.\n"
     ]
    }
   ],
   "source": [
    "\n",
    "# query the engine\n",
    "query = \"tell me structure of the core layoutparser library?\"\n",
    "response = query_engine.query(query)\n",
    "print(response)"
   ]
  },
  {
   "cell_type": "code",
   "execution_count": 23,
   "metadata": {},
   "outputs": [
    {
     "name": "stdout",
     "output_type": "stream",
     "text": [
      "PubLayNet is a dataset that focuses on layouts of modern scientific documents. It includes models trained with both Faster R-CNN and Mask R-CNN architectures, using ResNet 50 or ResNet 101 backbones.\n"
     ]
    }
   ],
   "source": [
    "\n",
    "# query the engine\n",
    "query = \"tell me about dataset PubLayNet\"\n",
    "response = query_engine.query(query)\n",
    "print(response)"
   ]
  },
  {
   "cell_type": "code",
   "execution_count": null,
   "metadata": {},
   "outputs": [],
   "source": []
  }
 ],
 "metadata": {
  "kernelspec": {
   "display_name": "Python 3",
   "language": "python",
   "name": "python3"
  },
  "language_info": {
   "codemirror_mode": {
    "name": "ipython",
    "version": 3
   },
   "file_extension": ".py",
   "mimetype": "text/x-python",
   "name": "python",
   "nbconvert_exporter": "python",
   "pygments_lexer": "ipython3",
   "version": "3.10.15"
  }
 },
 "nbformat": 4,
 "nbformat_minor": 2
}
