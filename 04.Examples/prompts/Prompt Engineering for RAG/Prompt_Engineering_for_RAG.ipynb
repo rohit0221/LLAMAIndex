{
 "cells": [
  {
   "cell_type": "code",
   "execution_count": 2,
   "metadata": {},
   "outputs": [],
   "source": [
    "from dotenv import load_dotenv\n",
    "load_dotenv()\n",
    "import os"
   ]
  },
  {
   "cell_type": "markdown",
   "metadata": {},
   "source": [
    "In this notebook we show various prompt techniques you can try to customize your LlamaIndex RAG pipeline.\n",
    "\n",
    "- Getting and setting prompts for query engines, etc.\n",
    "- Defining template variable mappings (e.g. you have an existing QA prompt)\n",
    "- Adding few-shot examples + performing query transformations/rewriting."
   ]
  },
  {
   "cell_type": "code",
   "execution_count": 1,
   "metadata": {},
   "outputs": [],
   "source": [
    "import logging\n",
    "import sys\n",
    "\n",
    "logging.basicConfig(stream=sys.stdout, level=logging.INFO)\n",
    "logging.getLogger().addHandler(logging.StreamHandler(stream=sys.stdout))\n",
    "\n",
    "from llama_index.core import VectorStoreIndex\n",
    "from llama_index.core import PromptTemplate\n",
    "from IPython.display import Markdown, display"
   ]
  },
  {
   "cell_type": "code",
   "execution_count": null,
   "metadata": {},
   "outputs": [],
   "source": []
  },
  {
   "cell_type": "code",
   "execution_count": null,
   "metadata": {},
   "outputs": [],
   "source": []
  },
  {
   "cell_type": "code",
   "execution_count": null,
   "metadata": {},
   "outputs": [],
   "source": []
  },
  {
   "cell_type": "code",
   "execution_count": null,
   "metadata": {},
   "outputs": [],
   "source": []
  },
  {
   "cell_type": "code",
   "execution_count": null,
   "metadata": {},
   "outputs": [],
   "source": []
  },
  {
   "cell_type": "code",
   "execution_count": null,
   "metadata": {},
   "outputs": [],
   "source": []
  },
  {
   "cell_type": "code",
   "execution_count": null,
   "metadata": {},
   "outputs": [],
   "source": []
  },
  {
   "cell_type": "code",
   "execution_count": null,
   "metadata": {},
   "outputs": [],
   "source": []
  },
  {
   "cell_type": "code",
   "execution_count": null,
   "metadata": {},
   "outputs": [],
   "source": []
  },
  {
   "cell_type": "code",
   "execution_count": null,
   "metadata": {},
   "outputs": [],
   "source": []
  },
  {
   "cell_type": "code",
   "execution_count": 7,
   "metadata": {},
   "outputs": [],
   "source": [
    "from pathlib import Path\n",
    "from llama_index.readers.file import PyMuPDFReader"
   ]
  },
  {
   "cell_type": "code",
   "execution_count": 9,
   "metadata": {},
   "outputs": [],
   "source": [
    "loader = PyMuPDFReader()\n",
    "documents = loader.load(file_path=\"./data/llama2.pdf\")"
   ]
  },
  {
   "cell_type": "markdown",
   "metadata": {},
   "source": [
    "# Load into Vector Store\n"
   ]
  },
  {
   "cell_type": "code",
   "execution_count": 10,
   "metadata": {},
   "outputs": [
    {
     "name": "stdout",
     "output_type": "stream",
     "text": [
      "INFO:httpx:HTTP Request: POST https://api.openai.com/v1/embeddings \"HTTP/1.1 200 OK\"\n",
      "HTTP Request: POST https://api.openai.com/v1/embeddings \"HTTP/1.1 200 OK\"\n",
      "INFO:httpx:HTTP Request: POST https://api.openai.com/v1/embeddings \"HTTP/1.1 200 OK\"\n",
      "HTTP Request: POST https://api.openai.com/v1/embeddings \"HTTP/1.1 200 OK\"\n"
     ]
    }
   ],
   "source": [
    "from llama_index.core import VectorStoreIndex\n",
    "from llama_index.llms.openai import OpenAI\n",
    "\n",
    "gpt35_llm = OpenAI(model=\"gpt-3.5-turbo\")\n",
    "gpt4_llm = OpenAI(model=\"gpt-4\")\n",
    "\n",
    "index = VectorStoreIndex.from_documents(documents)"
   ]
  },
  {
   "cell_type": "markdown",
   "metadata": {},
   "source": [
    "# Setup Query Engine / Retriever\n"
   ]
  },
  {
   "cell_type": "code",
   "execution_count": 11,
   "metadata": {},
   "outputs": [],
   "source": [
    "query_str = \"What are the potential risks associated with the use of Llama 2 as mentioned in the context?\""
   ]
  },
  {
   "cell_type": "code",
   "execution_count": 12,
   "metadata": {},
   "outputs": [],
   "source": [
    "query_engine = index.as_query_engine(similarity_top_k=2, llm=gpt35_llm)\n",
    "# use this for testing\n",
    "vector_retriever = index.as_retriever(similarity_top_k=2)"
   ]
  },
  {
   "cell_type": "code",
   "execution_count": 13,
   "metadata": {},
   "outputs": [
    {
     "name": "stdout",
     "output_type": "stream",
     "text": [
      "INFO:httpx:HTTP Request: POST https://api.openai.com/v1/embeddings \"HTTP/1.1 200 OK\"\n",
      "HTTP Request: POST https://api.openai.com/v1/embeddings \"HTTP/1.1 200 OK\"\n",
      "INFO:httpx:HTTP Request: POST https://api.openai.com/v1/chat/completions \"HTTP/1.1 200 OK\"\n",
      "HTTP Request: POST https://api.openai.com/v1/chat/completions \"HTTP/1.1 200 OK\"\n",
      "The potential risks associated with the use of Llama 2 as mentioned in the context include the model potentially being used for nefarious purposes such as generating misinformation or retrieving information about topics like bioterrorism or cybercrime. Additionally, there is a cautionary note about the safety tuning of Llama 2-Chat, where the model may err on the side of declining certain requests or providing an overly cautious approach. Users are advised to be cautious when using the pretrained models and to take extra steps in tuning and deployment as outlined in the Responsible Use Guide.\n"
     ]
    }
   ],
   "source": [
    "response = query_engine.query(query_str)\n",
    "print(str(response))"
   ]
  },
  {
   "cell_type": "markdown",
   "metadata": {},
   "source": [
    "# Viewing/Customizing Prompts\n",
    "First, let's take a look at the query engine prompts, and see how we can customize it.\n"
   ]
  },
  {
   "cell_type": "markdown",
   "metadata": {},
   "source": [
    "# View Prompts"
   ]
  },
  {
   "cell_type": "code",
   "execution_count": 14,
   "metadata": {},
   "outputs": [],
   "source": [
    "# define prompt viewing function\n",
    "def display_prompt_dict(prompts_dict):\n",
    "    for k, p in prompts_dict.items():\n",
    "        text_md = f\"**Prompt Key**: {k}\" f\"**Text:** \"\n",
    "        display(Markdown(text_md))\n",
    "        print(p.get_template())\n",
    "        display(Markdown(\"\"))"
   ]
  },
  {
   "cell_type": "code",
   "execution_count": 15,
   "metadata": {},
   "outputs": [],
   "source": [
    "prompts_dict = query_engine.get_prompts()"
   ]
  },
  {
   "cell_type": "code",
   "execution_count": 16,
   "metadata": {},
   "outputs": [
    {
     "data": {
      "text/markdown": [
       "**Prompt Key**: response_synthesizer:text_qa_template**Text:** "
      ],
      "text/plain": [
       "<IPython.core.display.Markdown object>"
      ]
     },
     "metadata": {},
     "output_type": "display_data"
    },
    {
     "name": "stdout",
     "output_type": "stream",
     "text": [
      "Context information is below.\n",
      "---------------------\n",
      "{context_str}\n",
      "---------------------\n",
      "Given the context information and not prior knowledge, answer the query.\n",
      "Query: {query_str}\n",
      "Answer: \n"
     ]
    },
    {
     "data": {
      "text/markdown": [],
      "text/plain": [
       "<IPython.core.display.Markdown object>"
      ]
     },
     "metadata": {},
     "output_type": "display_data"
    },
    {
     "data": {
      "text/markdown": [
       "**Prompt Key**: response_synthesizer:refine_template**Text:** "
      ],
      "text/plain": [
       "<IPython.core.display.Markdown object>"
      ]
     },
     "metadata": {},
     "output_type": "display_data"
    },
    {
     "name": "stdout",
     "output_type": "stream",
     "text": [
      "The original query is as follows: {query_str}\n",
      "We have provided an existing answer: {existing_answer}\n",
      "We have the opportunity to refine the existing answer (only if needed) with some more context below.\n",
      "------------\n",
      "{context_msg}\n",
      "------------\n",
      "Given the new context, refine the original answer to better answer the query. If the context isn't useful, return the original answer.\n",
      "Refined Answer: \n"
     ]
    },
    {
     "data": {
      "text/markdown": [],
      "text/plain": [
       "<IPython.core.display.Markdown object>"
      ]
     },
     "metadata": {},
     "output_type": "display_data"
    }
   ],
   "source": [
    "display_prompt_dict(prompts_dict)"
   ]
  },
  {
   "cell_type": "markdown",
   "metadata": {},
   "source": [
    "# Customize Prompts\n",
    "What if we want to do something different than our standard question-answering prompts?\n",
    "\n",
    "Let's try out the RAG prompt from [LangchainHub](https://smith.langchain.com/hub/rlm/rag-prompt)"
   ]
  },
  {
   "cell_type": "markdown",
   "metadata": {},
   "source": []
  },
  {
   "cell_type": "code",
   "execution_count": 18,
   "metadata": {},
   "outputs": [
    {
     "name": "stderr",
     "output_type": "stream",
     "text": [
      "c:\\Code\\Github\\LlamaIndex\\venv\\lib\\site-packages\\langsmith\\client.py:354: LangSmithMissingAPIKeyWarning: API key must be provided when using hosted LangSmith API\n",
      "  warnings.warn(\n"
     ]
    }
   ],
   "source": [
    "# to do this, you need to use the langchain object\n",
    "\n",
    "from langchain import hub\n",
    "\n",
    "langchain_prompt = hub.pull(\"rlm/rag-prompt\")"
   ]
  },
  {
   "cell_type": "markdown",
   "metadata": {},
   "source": [
    "One catch is that the template variables in the prompt are different than what's expected by our synthesizer in the query engine:\n",
    "\n",
    "- the prompt uses ```context``` and ```question```,\n",
    "- we expect ```context_str``` and ```query_str```\n",
    "\n",
    "This is not a problem! Let's add our template variable mappings to map variables. We use our ```LangchainPromptTemplate``` to map to LangChain prompts."
   ]
  },
  {
   "cell_type": "code",
   "execution_count": 20,
   "metadata": {},
   "outputs": [],
   "source": [
    "from llama_index.core.prompts import LangchainPromptTemplate\n",
    "\n",
    "lc_prompt_tmpl = LangchainPromptTemplate(\n",
    "    template=langchain_prompt,\n",
    "    template_var_mappings={\"query_str\": \"question\", \"context_str\": \"context\"},\n",
    ")\n",
    "\n",
    "query_engine.update_prompts(\n",
    "    {\"response_synthesizer:text_qa_template\": lc_prompt_tmpl}\n",
    ")"
   ]
  },
  {
   "cell_type": "code",
   "execution_count": null,
   "metadata": {},
   "outputs": [],
   "source": [
    "prompts_dict = query_engine.get_prompts()"
   ]
  },
  {
   "cell_type": "code",
   "execution_count": 24,
   "metadata": {},
   "outputs": [
    {
     "data": {
      "text/markdown": [
       "**Prompt Key**: response_synthesizer:text_qa_template**Text:** "
      ],
      "text/plain": [
       "<IPython.core.display.Markdown object>"
      ]
     },
     "metadata": {},
     "output_type": "display_data"
    },
    {
     "ename": "ModuleNotFoundError",
     "evalue": "No module named 'llama_index.llms.langchain'",
     "output_type": "error",
     "traceback": [
      "\u001b[1;31m---------------------------------------------------------------------------\u001b[0m",
      "\u001b[1;31mModuleNotFoundError\u001b[0m                       Traceback (most recent call last)",
      "Cell \u001b[1;32mIn[24], line 1\u001b[0m\n\u001b[1;32m----> 1\u001b[0m \u001b[43mdisplay_prompt_dict\u001b[49m\u001b[43m(\u001b[49m\u001b[43mprompts_dict\u001b[49m\u001b[43m)\u001b[49m\n",
      "Cell \u001b[1;32mIn[14], line 6\u001b[0m, in \u001b[0;36mdisplay_prompt_dict\u001b[1;34m(prompts_dict)\u001b[0m\n\u001b[0;32m      4\u001b[0m text_md \u001b[38;5;241m=\u001b[39m \u001b[38;5;124mf\u001b[39m\u001b[38;5;124m\"\u001b[39m\u001b[38;5;124m**Prompt Key**: \u001b[39m\u001b[38;5;132;01m{\u001b[39;00mk\u001b[38;5;132;01m}\u001b[39;00m\u001b[38;5;124m\"\u001b[39m \u001b[38;5;124mf\u001b[39m\u001b[38;5;124m\"\u001b[39m\u001b[38;5;124m**Text:** \u001b[39m\u001b[38;5;124m\"\u001b[39m\n\u001b[0;32m      5\u001b[0m display(Markdown(text_md))\n\u001b[1;32m----> 6\u001b[0m \u001b[38;5;28mprint\u001b[39m(\u001b[43mp\u001b[49m\u001b[38;5;241;43m.\u001b[39;49m\u001b[43mget_template\u001b[49m\u001b[43m(\u001b[49m\u001b[43m)\u001b[49m)\n\u001b[0;32m      7\u001b[0m display(Markdown(\u001b[38;5;124m\"\u001b[39m\u001b[38;5;124m\"\u001b[39m))\n",
      "File \u001b[1;32mc:\\Code\\Github\\LlamaIndex\\venv\\lib\\site-packages\\llama_index\\core\\prompts\\base.py:530\u001b[0m, in \u001b[0;36mLangchainPromptTemplate.get_template\u001b[1;34m(self, llm)\u001b[0m\n\u001b[0;32m    529\u001b[0m \u001b[38;5;28;01mdef\u001b[39;00m \u001b[38;5;21mget_template\u001b[39m(\u001b[38;5;28mself\u001b[39m, llm: Optional[BaseLLM] \u001b[38;5;241m=\u001b[39m \u001b[38;5;28;01mNone\u001b[39;00m) \u001b[38;5;241m-\u001b[39m\u001b[38;5;241m>\u001b[39m \u001b[38;5;28mstr\u001b[39m:\n\u001b[1;32m--> 530\u001b[0m     \u001b[38;5;28;01mfrom\u001b[39;00m \u001b[38;5;21;01mllama_index\u001b[39;00m\u001b[38;5;21;01m.\u001b[39;00m\u001b[38;5;21;01mllms\u001b[39;00m\u001b[38;5;21;01m.\u001b[39;00m\u001b[38;5;21;01mlangchain\u001b[39;00m \u001b[38;5;28;01mimport\u001b[39;00m LangChainLLM  \u001b[38;5;66;03m# pants: no-infer-dep\u001b[39;00m\n\u001b[0;32m    532\u001b[0m     \u001b[38;5;28;01mif\u001b[39;00m llm \u001b[38;5;129;01mis\u001b[39;00m \u001b[38;5;129;01mnot\u001b[39;00m \u001b[38;5;28;01mNone\u001b[39;00m:\n\u001b[0;32m    533\u001b[0m         \u001b[38;5;66;03m# if llamaindex LLM is provided, and we require a langchain LLM,\u001b[39;00m\n\u001b[0;32m    534\u001b[0m         \u001b[38;5;66;03m# then error. but otherwise if `requires_langchain_llm` is False,\u001b[39;00m\n\u001b[0;32m    535\u001b[0m         \u001b[38;5;66;03m# then we can just use the default prompt\u001b[39;00m\n\u001b[0;32m    536\u001b[0m         \u001b[38;5;28;01mif\u001b[39;00m \u001b[38;5;129;01mnot\u001b[39;00m \u001b[38;5;28misinstance\u001b[39m(llm, LangChainLLM) \u001b[38;5;129;01mand\u001b[39;00m \u001b[38;5;28mself\u001b[39m\u001b[38;5;241m.\u001b[39mrequires_langchain_llm:\n",
      "\u001b[1;31mModuleNotFoundError\u001b[0m: No module named 'llama_index.llms.langchain'"
     ]
    }
   ],
   "source": [
    "display_prompt_dict(prompts_dict)"
   ]
  },
  {
   "cell_type": "markdown",
   "metadata": {},
   "source": [
    "# Try It Out\n",
    "Let's re-run our query engine again."
   ]
  },
  {
   "cell_type": "code",
   "execution_count": 25,
   "metadata": {},
   "outputs": [
    {
     "name": "stdout",
     "output_type": "stream",
     "text": [
      "INFO:httpx:HTTP Request: POST https://api.openai.com/v1/embeddings \"HTTP/1.1 200 OK\"\n",
      "HTTP Request: POST https://api.openai.com/v1/embeddings \"HTTP/1.1 200 OK\"\n"
     ]
    },
    {
     "ename": "ModuleNotFoundError",
     "evalue": "No module named 'llama_index.llms.langchain'",
     "output_type": "error",
     "traceback": [
      "\u001b[1;31m---------------------------------------------------------------------------\u001b[0m",
      "\u001b[1;31mModuleNotFoundError\u001b[0m                       Traceback (most recent call last)",
      "Cell \u001b[1;32mIn[25], line 1\u001b[0m\n\u001b[1;32m----> 1\u001b[0m response \u001b[38;5;241m=\u001b[39m \u001b[43mquery_engine\u001b[49m\u001b[38;5;241;43m.\u001b[39;49m\u001b[43mquery\u001b[49m\u001b[43m(\u001b[49m\u001b[43mquery_str\u001b[49m\u001b[43m)\u001b[49m\n\u001b[0;32m      2\u001b[0m \u001b[38;5;28mprint\u001b[39m(\u001b[38;5;28mstr\u001b[39m(response))\n",
      "File \u001b[1;32mc:\\Code\\Github\\LlamaIndex\\venv\\lib\\site-packages\\llama_index\\core\\instrumentation\\dispatcher.py:311\u001b[0m, in \u001b[0;36mDispatcher.span.<locals>.wrapper\u001b[1;34m(func, instance, args, kwargs)\u001b[0m\n\u001b[0;32m    308\u001b[0m             _logger\u001b[38;5;241m.\u001b[39mdebug(\u001b[38;5;124mf\u001b[39m\u001b[38;5;124m\"\u001b[39m\u001b[38;5;124mFailed to reset active_span_id: \u001b[39m\u001b[38;5;132;01m{\u001b[39;00me\u001b[38;5;132;01m}\u001b[39;00m\u001b[38;5;124m\"\u001b[39m)\n\u001b[0;32m    310\u001b[0m \u001b[38;5;28;01mtry\u001b[39;00m:\n\u001b[1;32m--> 311\u001b[0m     result \u001b[38;5;241m=\u001b[39m func(\u001b[38;5;241m*\u001b[39margs, \u001b[38;5;241m*\u001b[39m\u001b[38;5;241m*\u001b[39mkwargs)\n\u001b[0;32m    312\u001b[0m     \u001b[38;5;28;01mif\u001b[39;00m \u001b[38;5;28misinstance\u001b[39m(result, asyncio\u001b[38;5;241m.\u001b[39mFuture):\n\u001b[0;32m    313\u001b[0m         \u001b[38;5;66;03m# If the result is a Future, wrap it\u001b[39;00m\n\u001b[0;32m    314\u001b[0m         new_future \u001b[38;5;241m=\u001b[39m asyncio\u001b[38;5;241m.\u001b[39mensure_future(result)\n",
      "File \u001b[1;32mc:\\Code\\Github\\LlamaIndex\\venv\\lib\\site-packages\\llama_index\\core\\base\\base_query_engine.py:52\u001b[0m, in \u001b[0;36mBaseQueryEngine.query\u001b[1;34m(self, str_or_query_bundle)\u001b[0m\n\u001b[0;32m     50\u001b[0m     \u001b[38;5;28;01mif\u001b[39;00m \u001b[38;5;28misinstance\u001b[39m(str_or_query_bundle, \u001b[38;5;28mstr\u001b[39m):\n\u001b[0;32m     51\u001b[0m         str_or_query_bundle \u001b[38;5;241m=\u001b[39m QueryBundle(str_or_query_bundle)\n\u001b[1;32m---> 52\u001b[0m     query_result \u001b[38;5;241m=\u001b[39m \u001b[38;5;28;43mself\u001b[39;49m\u001b[38;5;241;43m.\u001b[39;49m\u001b[43m_query\u001b[49m\u001b[43m(\u001b[49m\u001b[43mstr_or_query_bundle\u001b[49m\u001b[43m)\u001b[49m\n\u001b[0;32m     53\u001b[0m dispatcher\u001b[38;5;241m.\u001b[39mevent(\n\u001b[0;32m     54\u001b[0m     QueryEndEvent(query\u001b[38;5;241m=\u001b[39mstr_or_query_bundle, response\u001b[38;5;241m=\u001b[39mquery_result)\n\u001b[0;32m     55\u001b[0m )\n\u001b[0;32m     56\u001b[0m \u001b[38;5;28;01mreturn\u001b[39;00m query_result\n",
      "File \u001b[1;32mc:\\Code\\Github\\LlamaIndex\\venv\\lib\\site-packages\\llama_index\\core\\instrumentation\\dispatcher.py:311\u001b[0m, in \u001b[0;36mDispatcher.span.<locals>.wrapper\u001b[1;34m(func, instance, args, kwargs)\u001b[0m\n\u001b[0;32m    308\u001b[0m             _logger\u001b[38;5;241m.\u001b[39mdebug(\u001b[38;5;124mf\u001b[39m\u001b[38;5;124m\"\u001b[39m\u001b[38;5;124mFailed to reset active_span_id: \u001b[39m\u001b[38;5;132;01m{\u001b[39;00me\u001b[38;5;132;01m}\u001b[39;00m\u001b[38;5;124m\"\u001b[39m)\n\u001b[0;32m    310\u001b[0m \u001b[38;5;28;01mtry\u001b[39;00m:\n\u001b[1;32m--> 311\u001b[0m     result \u001b[38;5;241m=\u001b[39m func(\u001b[38;5;241m*\u001b[39margs, \u001b[38;5;241m*\u001b[39m\u001b[38;5;241m*\u001b[39mkwargs)\n\u001b[0;32m    312\u001b[0m     \u001b[38;5;28;01mif\u001b[39;00m \u001b[38;5;28misinstance\u001b[39m(result, asyncio\u001b[38;5;241m.\u001b[39mFuture):\n\u001b[0;32m    313\u001b[0m         \u001b[38;5;66;03m# If the result is a Future, wrap it\u001b[39;00m\n\u001b[0;32m    314\u001b[0m         new_future \u001b[38;5;241m=\u001b[39m asyncio\u001b[38;5;241m.\u001b[39mensure_future(result)\n",
      "File \u001b[1;32mc:\\Code\\Github\\LlamaIndex\\venv\\lib\\site-packages\\llama_index\\core\\query_engine\\retriever_query_engine.py:179\u001b[0m, in \u001b[0;36mRetrieverQueryEngine._query\u001b[1;34m(self, query_bundle)\u001b[0m\n\u001b[0;32m    175\u001b[0m \u001b[38;5;28;01mwith\u001b[39;00m \u001b[38;5;28mself\u001b[39m\u001b[38;5;241m.\u001b[39mcallback_manager\u001b[38;5;241m.\u001b[39mevent(\n\u001b[0;32m    176\u001b[0m     CBEventType\u001b[38;5;241m.\u001b[39mQUERY, payload\u001b[38;5;241m=\u001b[39m{EventPayload\u001b[38;5;241m.\u001b[39mQUERY_STR: query_bundle\u001b[38;5;241m.\u001b[39mquery_str}\n\u001b[0;32m    177\u001b[0m ) \u001b[38;5;28;01mas\u001b[39;00m query_event:\n\u001b[0;32m    178\u001b[0m     nodes \u001b[38;5;241m=\u001b[39m \u001b[38;5;28mself\u001b[39m\u001b[38;5;241m.\u001b[39mretrieve(query_bundle)\n\u001b[1;32m--> 179\u001b[0m     response \u001b[38;5;241m=\u001b[39m \u001b[38;5;28;43mself\u001b[39;49m\u001b[38;5;241;43m.\u001b[39;49m\u001b[43m_response_synthesizer\u001b[49m\u001b[38;5;241;43m.\u001b[39;49m\u001b[43msynthesize\u001b[49m\u001b[43m(\u001b[49m\n\u001b[0;32m    180\u001b[0m \u001b[43m        \u001b[49m\u001b[43mquery\u001b[49m\u001b[38;5;241;43m=\u001b[39;49m\u001b[43mquery_bundle\u001b[49m\u001b[43m,\u001b[49m\n\u001b[0;32m    181\u001b[0m \u001b[43m        \u001b[49m\u001b[43mnodes\u001b[49m\u001b[38;5;241;43m=\u001b[39;49m\u001b[43mnodes\u001b[49m\u001b[43m,\u001b[49m\n\u001b[0;32m    182\u001b[0m \u001b[43m    \u001b[49m\u001b[43m)\u001b[49m\n\u001b[0;32m    183\u001b[0m     query_event\u001b[38;5;241m.\u001b[39mon_end(payload\u001b[38;5;241m=\u001b[39m{EventPayload\u001b[38;5;241m.\u001b[39mRESPONSE: response})\n\u001b[0;32m    185\u001b[0m \u001b[38;5;28;01mreturn\u001b[39;00m response\n",
      "File \u001b[1;32mc:\\Code\\Github\\LlamaIndex\\venv\\lib\\site-packages\\llama_index\\core\\instrumentation\\dispatcher.py:311\u001b[0m, in \u001b[0;36mDispatcher.span.<locals>.wrapper\u001b[1;34m(func, instance, args, kwargs)\u001b[0m\n\u001b[0;32m    308\u001b[0m             _logger\u001b[38;5;241m.\u001b[39mdebug(\u001b[38;5;124mf\u001b[39m\u001b[38;5;124m\"\u001b[39m\u001b[38;5;124mFailed to reset active_span_id: \u001b[39m\u001b[38;5;132;01m{\u001b[39;00me\u001b[38;5;132;01m}\u001b[39;00m\u001b[38;5;124m\"\u001b[39m)\n\u001b[0;32m    310\u001b[0m \u001b[38;5;28;01mtry\u001b[39;00m:\n\u001b[1;32m--> 311\u001b[0m     result \u001b[38;5;241m=\u001b[39m func(\u001b[38;5;241m*\u001b[39margs, \u001b[38;5;241m*\u001b[39m\u001b[38;5;241m*\u001b[39mkwargs)\n\u001b[0;32m    312\u001b[0m     \u001b[38;5;28;01mif\u001b[39;00m \u001b[38;5;28misinstance\u001b[39m(result, asyncio\u001b[38;5;241m.\u001b[39mFuture):\n\u001b[0;32m    313\u001b[0m         \u001b[38;5;66;03m# If the result is a Future, wrap it\u001b[39;00m\n\u001b[0;32m    314\u001b[0m         new_future \u001b[38;5;241m=\u001b[39m asyncio\u001b[38;5;241m.\u001b[39mensure_future(result)\n",
      "File \u001b[1;32mc:\\Code\\Github\\LlamaIndex\\venv\\lib\\site-packages\\llama_index\\core\\response_synthesizers\\base.py:241\u001b[0m, in \u001b[0;36mBaseSynthesizer.synthesize\u001b[1;34m(self, query, nodes, additional_source_nodes, **response_kwargs)\u001b[0m\n\u001b[0;32m    235\u001b[0m     query \u001b[38;5;241m=\u001b[39m QueryBundle(query_str\u001b[38;5;241m=\u001b[39mquery)\n\u001b[0;32m    237\u001b[0m \u001b[38;5;28;01mwith\u001b[39;00m \u001b[38;5;28mself\u001b[39m\u001b[38;5;241m.\u001b[39m_callback_manager\u001b[38;5;241m.\u001b[39mevent(\n\u001b[0;32m    238\u001b[0m     CBEventType\u001b[38;5;241m.\u001b[39mSYNTHESIZE,\n\u001b[0;32m    239\u001b[0m     payload\u001b[38;5;241m=\u001b[39m{EventPayload\u001b[38;5;241m.\u001b[39mQUERY_STR: query\u001b[38;5;241m.\u001b[39mquery_str},\n\u001b[0;32m    240\u001b[0m ) \u001b[38;5;28;01mas\u001b[39;00m event:\n\u001b[1;32m--> 241\u001b[0m     response_str \u001b[38;5;241m=\u001b[39m \u001b[38;5;28mself\u001b[39m\u001b[38;5;241m.\u001b[39mget_response(\n\u001b[0;32m    242\u001b[0m         query_str\u001b[38;5;241m=\u001b[39mquery\u001b[38;5;241m.\u001b[39mquery_str,\n\u001b[0;32m    243\u001b[0m         text_chunks\u001b[38;5;241m=\u001b[39m[\n\u001b[0;32m    244\u001b[0m             n\u001b[38;5;241m.\u001b[39mnode\u001b[38;5;241m.\u001b[39mget_content(metadata_mode\u001b[38;5;241m=\u001b[39mMetadataMode\u001b[38;5;241m.\u001b[39mLLM) \u001b[38;5;28;01mfor\u001b[39;00m n \u001b[38;5;129;01min\u001b[39;00m nodes\n\u001b[0;32m    245\u001b[0m         ],\n\u001b[0;32m    246\u001b[0m         \u001b[38;5;241m*\u001b[39m\u001b[38;5;241m*\u001b[39mresponse_kwargs,\n\u001b[0;32m    247\u001b[0m     )\n\u001b[0;32m    249\u001b[0m     additional_source_nodes \u001b[38;5;241m=\u001b[39m additional_source_nodes \u001b[38;5;129;01mor\u001b[39;00m []\n\u001b[0;32m    250\u001b[0m     source_nodes \u001b[38;5;241m=\u001b[39m \u001b[38;5;28mlist\u001b[39m(nodes) \u001b[38;5;241m+\u001b[39m \u001b[38;5;28mlist\u001b[39m(additional_source_nodes)\n",
      "File \u001b[1;32mc:\\Code\\Github\\LlamaIndex\\venv\\lib\\site-packages\\llama_index\\core\\instrumentation\\dispatcher.py:311\u001b[0m, in \u001b[0;36mDispatcher.span.<locals>.wrapper\u001b[1;34m(func, instance, args, kwargs)\u001b[0m\n\u001b[0;32m    308\u001b[0m             _logger\u001b[38;5;241m.\u001b[39mdebug(\u001b[38;5;124mf\u001b[39m\u001b[38;5;124m\"\u001b[39m\u001b[38;5;124mFailed to reset active_span_id: \u001b[39m\u001b[38;5;132;01m{\u001b[39;00me\u001b[38;5;132;01m}\u001b[39;00m\u001b[38;5;124m\"\u001b[39m)\n\u001b[0;32m    310\u001b[0m \u001b[38;5;28;01mtry\u001b[39;00m:\n\u001b[1;32m--> 311\u001b[0m     result \u001b[38;5;241m=\u001b[39m func(\u001b[38;5;241m*\u001b[39margs, \u001b[38;5;241m*\u001b[39m\u001b[38;5;241m*\u001b[39mkwargs)\n\u001b[0;32m    312\u001b[0m     \u001b[38;5;28;01mif\u001b[39;00m \u001b[38;5;28misinstance\u001b[39m(result, asyncio\u001b[38;5;241m.\u001b[39mFuture):\n\u001b[0;32m    313\u001b[0m         \u001b[38;5;66;03m# If the result is a Future, wrap it\u001b[39;00m\n\u001b[0;32m    314\u001b[0m         new_future \u001b[38;5;241m=\u001b[39m asyncio\u001b[38;5;241m.\u001b[39mensure_future(result)\n",
      "File \u001b[1;32mc:\\Code\\Github\\LlamaIndex\\venv\\lib\\site-packages\\llama_index\\core\\response_synthesizers\\compact_and_refine.py:42\u001b[0m, in \u001b[0;36mCompactAndRefine.get_response\u001b[1;34m(self, query_str, text_chunks, prev_response, **response_kwargs)\u001b[0m\n\u001b[0;32m     38\u001b[0m \u001b[38;5;250m\u001b[39m\u001b[38;5;124;03m\"\"\"Get compact response.\"\"\"\u001b[39;00m\n\u001b[0;32m     39\u001b[0m \u001b[38;5;66;03m# use prompt helper to fix compact text_chunks under the prompt limitation\u001b[39;00m\n\u001b[0;32m     40\u001b[0m \u001b[38;5;66;03m# TODO: This is a temporary fix - reason it's temporary is that\u001b[39;00m\n\u001b[0;32m     41\u001b[0m \u001b[38;5;66;03m# the refine template does not account for size of previous answer.\u001b[39;00m\n\u001b[1;32m---> 42\u001b[0m new_texts \u001b[38;5;241m=\u001b[39m \u001b[38;5;28;43mself\u001b[39;49m\u001b[38;5;241;43m.\u001b[39;49m\u001b[43m_make_compact_text_chunks\u001b[49m\u001b[43m(\u001b[49m\u001b[43mquery_str\u001b[49m\u001b[43m,\u001b[49m\u001b[43m \u001b[49m\u001b[43mtext_chunks\u001b[49m\u001b[43m)\u001b[49m\n\u001b[0;32m     43\u001b[0m \u001b[38;5;28;01mreturn\u001b[39;00m \u001b[38;5;28msuper\u001b[39m()\u001b[38;5;241m.\u001b[39mget_response(\n\u001b[0;32m     44\u001b[0m     query_str\u001b[38;5;241m=\u001b[39mquery_str,\n\u001b[0;32m     45\u001b[0m     text_chunks\u001b[38;5;241m=\u001b[39mnew_texts,\n\u001b[0;32m     46\u001b[0m     prev_response\u001b[38;5;241m=\u001b[39mprev_response,\n\u001b[0;32m     47\u001b[0m     \u001b[38;5;241m*\u001b[39m\u001b[38;5;241m*\u001b[39mresponse_kwargs,\n\u001b[0;32m     48\u001b[0m )\n",
      "File \u001b[1;32mc:\\Code\\Github\\LlamaIndex\\venv\\lib\\site-packages\\llama_index\\core\\response_synthesizers\\compact_and_refine.py:56\u001b[0m, in \u001b[0;36mCompactAndRefine._make_compact_text_chunks\u001b[1;34m(self, query_str, text_chunks)\u001b[0m\n\u001b[0;32m     53\u001b[0m text_qa_template \u001b[38;5;241m=\u001b[39m \u001b[38;5;28mself\u001b[39m\u001b[38;5;241m.\u001b[39m_text_qa_template\u001b[38;5;241m.\u001b[39mpartial_format(query_str\u001b[38;5;241m=\u001b[39mquery_str)\n\u001b[0;32m     54\u001b[0m refine_template \u001b[38;5;241m=\u001b[39m \u001b[38;5;28mself\u001b[39m\u001b[38;5;241m.\u001b[39m_refine_template\u001b[38;5;241m.\u001b[39mpartial_format(query_str\u001b[38;5;241m=\u001b[39mquery_str)\n\u001b[1;32m---> 56\u001b[0m max_prompt \u001b[38;5;241m=\u001b[39m \u001b[43mget_biggest_prompt\u001b[49m\u001b[43m(\u001b[49m\u001b[43m[\u001b[49m\u001b[43mtext_qa_template\u001b[49m\u001b[43m,\u001b[49m\u001b[43m \u001b[49m\u001b[43mrefine_template\u001b[49m\u001b[43m]\u001b[49m\u001b[43m)\u001b[49m\n\u001b[0;32m     57\u001b[0m \u001b[38;5;28;01mreturn\u001b[39;00m \u001b[38;5;28mself\u001b[39m\u001b[38;5;241m.\u001b[39m_prompt_helper\u001b[38;5;241m.\u001b[39mrepack(max_prompt, text_chunks, llm\u001b[38;5;241m=\u001b[39m\u001b[38;5;28mself\u001b[39m\u001b[38;5;241m.\u001b[39m_llm)\n",
      "File \u001b[1;32mc:\\Code\\Github\\LlamaIndex\\venv\\lib\\site-packages\\llama_index\\core\\prompts\\prompt_utils.py:28\u001b[0m, in \u001b[0;36mget_biggest_prompt\u001b[1;34m(prompts)\u001b[0m\n\u001b[0;32m     20\u001b[0m \u001b[38;5;28;01mdef\u001b[39;00m \u001b[38;5;21mget_biggest_prompt\u001b[39m(prompts: List[BasePromptTemplate]) \u001b[38;5;241m-\u001b[39m\u001b[38;5;241m>\u001b[39m BasePromptTemplate:\n\u001b[0;32m     21\u001b[0m \u001b[38;5;250m    \u001b[39m\u001b[38;5;124;03m\"\"\"Get biggest prompt.\u001b[39;00m\n\u001b[0;32m     22\u001b[0m \n\u001b[0;32m     23\u001b[0m \u001b[38;5;124;03m    Oftentimes we need to fetch the biggest prompt, in order to\u001b[39;00m\n\u001b[1;32m   (...)\u001b[0m\n\u001b[0;32m     26\u001b[0m \n\u001b[0;32m     27\u001b[0m \u001b[38;5;124;03m    \"\"\"\u001b[39;00m\n\u001b[1;32m---> 28\u001b[0m     empty_prompt_txts \u001b[38;5;241m=\u001b[39m [get_empty_prompt_txt(prompt) \u001b[38;5;28;01mfor\u001b[39;00m prompt \u001b[38;5;129;01min\u001b[39;00m prompts]\n\u001b[0;32m     29\u001b[0m     empty_prompt_txt_lens \u001b[38;5;241m=\u001b[39m [\u001b[38;5;28mlen\u001b[39m(txt) \u001b[38;5;28;01mfor\u001b[39;00m txt \u001b[38;5;129;01min\u001b[39;00m empty_prompt_txts]\n\u001b[0;32m     30\u001b[0m     \u001b[38;5;28;01mreturn\u001b[39;00m prompts[empty_prompt_txt_lens\u001b[38;5;241m.\u001b[39mindex(\u001b[38;5;28mmax\u001b[39m(empty_prompt_txt_lens))]\n",
      "File \u001b[1;32mc:\\Code\\Github\\LlamaIndex\\venv\\lib\\site-packages\\llama_index\\core\\prompts\\prompt_utils.py:28\u001b[0m, in \u001b[0;36m<listcomp>\u001b[1;34m(.0)\u001b[0m\n\u001b[0;32m     20\u001b[0m \u001b[38;5;28;01mdef\u001b[39;00m \u001b[38;5;21mget_biggest_prompt\u001b[39m(prompts: List[BasePromptTemplate]) \u001b[38;5;241m-\u001b[39m\u001b[38;5;241m>\u001b[39m BasePromptTemplate:\n\u001b[0;32m     21\u001b[0m \u001b[38;5;250m    \u001b[39m\u001b[38;5;124;03m\"\"\"Get biggest prompt.\u001b[39;00m\n\u001b[0;32m     22\u001b[0m \n\u001b[0;32m     23\u001b[0m \u001b[38;5;124;03m    Oftentimes we need to fetch the biggest prompt, in order to\u001b[39;00m\n\u001b[1;32m   (...)\u001b[0m\n\u001b[0;32m     26\u001b[0m \n\u001b[0;32m     27\u001b[0m \u001b[38;5;124;03m    \"\"\"\u001b[39;00m\n\u001b[1;32m---> 28\u001b[0m     empty_prompt_txts \u001b[38;5;241m=\u001b[39m [\u001b[43mget_empty_prompt_txt\u001b[49m\u001b[43m(\u001b[49m\u001b[43mprompt\u001b[49m\u001b[43m)\u001b[49m \u001b[38;5;28;01mfor\u001b[39;00m prompt \u001b[38;5;129;01min\u001b[39;00m prompts]\n\u001b[0;32m     29\u001b[0m     empty_prompt_txt_lens \u001b[38;5;241m=\u001b[39m [\u001b[38;5;28mlen\u001b[39m(txt) \u001b[38;5;28;01mfor\u001b[39;00m txt \u001b[38;5;129;01min\u001b[39;00m empty_prompt_txts]\n\u001b[0;32m     30\u001b[0m     \u001b[38;5;28;01mreturn\u001b[39;00m prompts[empty_prompt_txt_lens\u001b[38;5;241m.\u001b[39mindex(\u001b[38;5;28mmax\u001b[39m(empty_prompt_txt_lens))]\n",
      "File \u001b[1;32mc:\\Code\\Github\\LlamaIndex\\venv\\lib\\site-packages\\llama_index\\core\\prompts\\prompt_utils.py:17\u001b[0m, in \u001b[0;36mget_empty_prompt_txt\u001b[1;34m(prompt)\u001b[0m\n\u001b[0;32m     15\u001b[0m empty_kwargs \u001b[38;5;241m=\u001b[39m {v: \u001b[38;5;124m\"\u001b[39m\u001b[38;5;124m\"\u001b[39m \u001b[38;5;28;01mfor\u001b[39;00m v \u001b[38;5;129;01min\u001b[39;00m prompt\u001b[38;5;241m.\u001b[39mtemplate_vars \u001b[38;5;28;01mif\u001b[39;00m v \u001b[38;5;129;01mnot\u001b[39;00m \u001b[38;5;129;01min\u001b[39;00m partial_kargs}\n\u001b[0;32m     16\u001b[0m all_kwargs \u001b[38;5;241m=\u001b[39m {\u001b[38;5;241m*\u001b[39m\u001b[38;5;241m*\u001b[39mpartial_kargs, \u001b[38;5;241m*\u001b[39m\u001b[38;5;241m*\u001b[39mempty_kwargs}\n\u001b[1;32m---> 17\u001b[0m \u001b[38;5;28;01mreturn\u001b[39;00m prompt\u001b[38;5;241m.\u001b[39mformat(llm\u001b[38;5;241m=\u001b[39m\u001b[38;5;28;01mNone\u001b[39;00m, \u001b[38;5;241m*\u001b[39m\u001b[38;5;241m*\u001b[39mall_kwargs)\n",
      "File \u001b[1;32mc:\\Code\\Github\\LlamaIndex\\venv\\lib\\site-packages\\llama_index\\core\\prompts\\base.py:482\u001b[0m, in \u001b[0;36mLangchainPromptTemplate.format\u001b[1;34m(self, llm, **kwargs)\u001b[0m\n\u001b[0;32m    480\u001b[0m \u001b[38;5;28;01mdef\u001b[39;00m \u001b[38;5;21mformat\u001b[39m(\u001b[38;5;28mself\u001b[39m, llm: Optional[BaseLLM] \u001b[38;5;241m=\u001b[39m \u001b[38;5;28;01mNone\u001b[39;00m, \u001b[38;5;241m*\u001b[39m\u001b[38;5;241m*\u001b[39mkwargs: Any) \u001b[38;5;241m-\u001b[39m\u001b[38;5;241m>\u001b[39m \u001b[38;5;28mstr\u001b[39m:\n\u001b[0;32m    481\u001b[0m \u001b[38;5;250m    \u001b[39m\u001b[38;5;124;03m\"\"\"Format the prompt into a string.\"\"\"\u001b[39;00m\n\u001b[1;32m--> 482\u001b[0m     \u001b[38;5;28;01mfrom\u001b[39;00m \u001b[38;5;21;01mllama_index\u001b[39;00m\u001b[38;5;21;01m.\u001b[39;00m\u001b[38;5;21;01mllms\u001b[39;00m\u001b[38;5;21;01m.\u001b[39;00m\u001b[38;5;21;01mlangchain\u001b[39;00m \u001b[38;5;28;01mimport\u001b[39;00m LangChainLLM  \u001b[38;5;66;03m# pants: no-infer-dep\u001b[39;00m\n\u001b[0;32m    484\u001b[0m     \u001b[38;5;28;01mif\u001b[39;00m llm \u001b[38;5;129;01mis\u001b[39;00m \u001b[38;5;129;01mnot\u001b[39;00m \u001b[38;5;28;01mNone\u001b[39;00m:\n\u001b[0;32m    485\u001b[0m         \u001b[38;5;66;03m# if llamaindex LLM is provided, and we require a langchain LLM,\u001b[39;00m\n\u001b[0;32m    486\u001b[0m         \u001b[38;5;66;03m# then error. but otherwise if `requires_langchain_llm` is False,\u001b[39;00m\n\u001b[0;32m    487\u001b[0m         \u001b[38;5;66;03m# then we can just use the default prompt\u001b[39;00m\n\u001b[0;32m    488\u001b[0m         \u001b[38;5;28;01mif\u001b[39;00m \u001b[38;5;129;01mnot\u001b[39;00m \u001b[38;5;28misinstance\u001b[39m(llm, LangChainLLM) \u001b[38;5;129;01mand\u001b[39;00m \u001b[38;5;28mself\u001b[39m\u001b[38;5;241m.\u001b[39mrequires_langchain_llm:\n",
      "\u001b[1;31mModuleNotFoundError\u001b[0m: No module named 'llama_index.llms.langchain'"
     ]
    }
   ],
   "source": [
    "response = query_engine.query(query_str)\n",
    "print(str(response))"
   ]
  },
  {
   "cell_type": "markdown",
   "metadata": {},
   "source": [
    "# Adding Few-Shot Examples\n",
    "Let's try adding few-shot examples to the prompt, which can be dynamically loaded depending on the query!\n",
    "\n",
    "We do this by setting the function_mapping variable in our prompt template - this allows us to compute functions (e.g. return few-shot examples) during prompt formatting time.\n",
    "\n",
    "As an example use case, through this we can coerce the model to output results in a structured format, by showing examples of other structured outputs.\n",
    "\n",
    "Let's parse a pre-generated question/answer file. For the sake of focus we'll skip how the file is generated (tl;dr we used a GPT-4 powered function calling RAG pipeline), but the qa pairs look like this:"
   ]
  },
  {
   "cell_type": "markdown",
   "metadata": {},
   "source": [
    "We embed/index these Q/A pairs, and retrieve the top-k.\n",
    "\n"
   ]
  },
  {
   "cell_type": "code",
   "execution_count": 27,
   "metadata": {},
   "outputs": [
    {
     "name": "stdout",
     "output_type": "stream",
     "text": [
      "INFO:httpx:HTTP Request: POST https://api.openai.com/v1/embeddings \"HTTP/1.1 200 OK\"\n",
      "HTTP Request: POST https://api.openai.com/v1/embeddings \"HTTP/1.1 200 OK\"\n"
     ]
    }
   ],
   "source": [
    "from llama_index.core.schema import TextNode\n",
    "\n",
    "few_shot_nodes = []\n",
    "for line in open(\"../llama2_qa_citation_events.jsonl\", \"r\"):\n",
    "    few_shot_nodes.append(TextNode(text=line))\n",
    "\n",
    "few_shot_index = VectorStoreIndex(few_shot_nodes)\n",
    "few_shot_retriever = few_shot_index.as_retriever(similarity_top_k=2)"
   ]
  },
  {
   "cell_type": "code",
   "execution_count": 28,
   "metadata": {},
   "outputs": [],
   "source": [
    "import json\n",
    "\n",
    "\n",
    "def few_shot_examples_fn(**kwargs):\n",
    "    query_str = kwargs[\"query_str\"]\n",
    "    retrieved_nodes = few_shot_retriever.retrieve(query_str)\n",
    "    # go through each node, get json object\n",
    "\n",
    "    result_strs = []\n",
    "    for n in retrieved_nodes:\n",
    "        raw_dict = json.loads(n.get_content())\n",
    "        query = raw_dict[\"query\"]\n",
    "        response_dict = json.loads(raw_dict[\"response\"])\n",
    "        result_str = f\"\"\"\\\n",
    "Query: {query}\n",
    "Response: {response_dict}\"\"\"\n",
    "        result_strs.append(result_str)\n",
    "    return \"\\n\\n\".join(result_strs)"
   ]
  },
  {
   "cell_type": "code",
   "execution_count": 29,
   "metadata": {},
   "outputs": [],
   "source": [
    "# write prompt template with functions\n",
    "qa_prompt_tmpl_str = \"\"\"\\\n",
    "Context information is below.\n",
    "---------------------\n",
    "{context_str}\n",
    "---------------------\n",
    "Given the context information and not prior knowledge, \\\n",
    "answer the query asking about citations over different topics.\n",
    "Please provide your answer in the form of a structured JSON format containing \\\n",
    "a list of authors as the citations. Some examples are given below.\n",
    "\n",
    "{few_shot_examples}\n",
    "\n",
    "Query: {query_str}\n",
    "Answer: \\\n",
    "\"\"\"\n",
    "\n",
    "qa_prompt_tmpl = PromptTemplate(\n",
    "    qa_prompt_tmpl_str,\n",
    "    function_mappings={\"few_shot_examples\": few_shot_examples_fn},\n",
    ")"
   ]
  },
  {
   "cell_type": "code",
   "execution_count": 30,
   "metadata": {},
   "outputs": [],
   "source": [
    "citation_query_str = (\n",
    "    \"Which citations are mentioned in the section on Safety RLHF?\"\n",
    ")"
   ]
  },
  {
   "cell_type": "markdown",
   "metadata": {},
   "source": [
    "\n",
    "Let's see what the formatted prompt looks like with the few-shot examples function. (we fill in test context for brevity)"
   ]
  },
  {
   "cell_type": "code",
   "execution_count": 31,
   "metadata": {},
   "outputs": [
    {
     "name": "stdout",
     "output_type": "stream",
     "text": [
      "INFO:httpx:HTTP Request: POST https://api.openai.com/v1/embeddings \"HTTP/1.1 200 OK\"\n",
      "HTTP Request: POST https://api.openai.com/v1/embeddings \"HTTP/1.1 200 OK\"\n",
      "Context information is below.\n",
      "---------------------\n",
      "test_context\n",
      "---------------------\n",
      "Given the context information and not prior knowledge, answer the query asking about citations over different topics.\n",
      "Please provide your answer in the form of a structured JSON format containing a list of authors as the citations. Some examples are given below.\n",
      "\n",
      "Query: Which citations are mentioned in the section on RLHF Results?\n",
      "Response: {'citations': [{'author': 'Gilardi et al.', 'year': 2023, 'desc': ''}, {'author': 'Huang et al.', 'year': 2023, 'desc': ''}]}\n",
      "\n",
      "Query: Which citations are related to the progression of SFT and RLHF versions?\n",
      "Response: {'citations': [{'author': 'Gilardi et al.', 'year': 2023, 'desc': 'Documented the superior writing abilities of LLMs, as manifested in surpassing human annotators in certain tasks, are fundamentally driven by RLHF'}, {'author': 'Huang et al.', 'year': 2023, 'desc': 'Supported the findings of Gilardi et al. on the effectiveness of RLHF in driving the superior writing abilities of LLMs'}]}\n",
      "\n",
      "Query: Which citations are mentioned in the section on Safety RLHF?\n",
      "Answer: \n"
     ]
    }
   ],
   "source": [
    "print(\n",
    "    qa_prompt_tmpl.format(\n",
    "        query_str=citation_query_str, context_str=\"test_context\"\n",
    "    )\n",
    ")"
   ]
  },
  {
   "cell_type": "code",
   "execution_count": 32,
   "metadata": {},
   "outputs": [],
   "source": [
    "query_engine.update_prompts(\n",
    "    {\"response_synthesizer:text_qa_template\": qa_prompt_tmpl}\n",
    ")"
   ]
  },
  {
   "cell_type": "code",
   "execution_count": 33,
   "metadata": {},
   "outputs": [
    {
     "name": "stdout",
     "output_type": "stream",
     "text": [
      "INFO:httpx:HTTP Request: POST https://api.openai.com/v1/embeddings \"HTTP/1.1 200 OK\"\n",
      "HTTP Request: POST https://api.openai.com/v1/embeddings \"HTTP/1.1 200 OK\"\n"
     ]
    }
   ],
   "source": [
    "# take a look at the prompt\n",
    "retrieved_nodes = vector_retriever.retrieve(query_str)\n",
    "context_str = \"\\n\\n\".join([n.get_content() for n in retrieved_nodes])"
   ]
  },
  {
   "cell_type": "code",
   "execution_count": 34,
   "metadata": {},
   "outputs": [
    {
     "name": "stdout",
     "output_type": "stream",
     "text": [
      "INFO:httpx:HTTP Request: POST https://api.openai.com/v1/embeddings \"HTTP/1.1 200 OK\"\n",
      "HTTP Request: POST https://api.openai.com/v1/embeddings \"HTTP/1.1 200 OK\"\n",
      "Context information is below.\n",
      "---------------------\n",
      "Figure 3: Safety human evaluation results for Llama 2-Chat compared to other open-source and closed-\n",
      "source models. Human raters judged model generations for safety violations across ~2,000 adversarial\n",
      "prompts consisting of both single and multi-turn prompts. More details can be found in Section 4.4. It is\n",
      "important to caveat these safety results with the inherent bias of LLM evaluations due to limitations of the\n",
      "prompt set, subjectivity of the review guidelines, and subjectivity of individual raters. Additionally, these\n",
      "safety evaluations are performed using content standards that are likely to be biased towards the Llama\n",
      "2-Chat models.\n",
      "We are releasing the following models to the general public for research and commercial use‡:\n",
      "1. Llama 2, an updated version of Llama 1, trained on a new mix of publicly available data. We also\n",
      "increased the size of the pretraining corpus by 40%, doubled the context length of the model, and\n",
      "adopted grouped-query attention (Ainslie et al., 2023). We are releasing variants of Llama 2 with\n",
      "7B, 13B, and 70B parameters. We have also trained 34B variants, which we report on in this paper\n",
      "but are not releasing.§\n",
      "2. Llama 2-Chat, a fine-tuned version of Llama 2 that is optimized for dialogue use cases. We release\n",
      "variants of this model with 7B, 13B, and 70B parameters as well.\n",
      "We believe that the open release of LLMs, when done safely, will be a net benefit to society. Like all LLMs,\n",
      "Llama 2 is a new technology that carries potential risks with use (Bender et al., 2021b; Weidinger et al., 2021;\n",
      "Solaiman et al., 2023). Testing conducted to date has been in English and has not — and could not — cover\n",
      "all scenarios. Therefore, before deploying any applications of Llama 2-Chat, developers should perform\n",
      "safety testing and tuning tailored to their specific applications of the model. We provide a responsible use\n",
      "guide¶ and code examples‖ to facilitate the safe deployment of Llama 2 and Llama 2-Chat. More details of\n",
      "our responsible release strategy can be found in Section 5.3.\n",
      "The remainder of this paper describes our pretraining methodology (Section 2), fine-tuning methodology\n",
      "(Section 3), approach to model safety (Section 4), key observations and insights (Section 5), relevant related\n",
      "work (Section 6), and conclusions (Section 7).\n",
      "‡https://ai.meta.com/resources/models-and-libraries/llama/\n",
      "§We are delaying the release of the 34B model due to a lack of time to sufficiently red team.\n",
      "¶https://ai.meta.com/llama\n",
      "‖https://github.com/facebookresearch/llama\n",
      "4\n",
      "\n",
      "Not everyone who uses AI models has good intentions, and conversational AI agents could potentially be\n",
      "used for nefarious purposes such as generating misinformation or retrieving information about topics like\n",
      "bioterrorism or cybercrime. We have, however, made efforts to tune the models to avoid these topics and\n",
      "diminish any capabilities they might have offered for those use cases.\n",
      "While we attempted to reasonably balance safety with helpfulness, in some instances, our safety tuning goes\n",
      "too far. Users of Llama 2-Chat may observe an overly cautious approach, with the model erring on the side\n",
      "of declining certain requests or responding with too many safety details.\n",
      "Users of the pretrained models need to be particularly cautious, and should take extra steps in tuning and\n",
      "deployment as described in our Responsible Use Guide. §§\n",
      "5.3\n",
      "Responsible Release Strategy\n",
      "Release Details.\n",
      "We make Llama 2 available for both research and commercial use at https://ai.meta.\n",
      "com/resources/models-and-libraries/llama/. Those who use Llama 2 must comply with the terms of\n",
      "the provided license and our Acceptable Use Policy, which prohibit any uses that would violate applicable\n",
      "policies, laws, rules, and regulations.\n",
      "We also provide code examples to help developers replicate our safe generations with Llama 2-Chat and\n",
      "apply basic safety techniques at the user input and model output layers. These code samples are available\n",
      "here: https://github.com/facebookresearch/llama. Finally, we are sharing a Responsible Use Guide, which\n",
      "provides guidelines regarding safe development and deployment.\n",
      "Responsible Release.\n",
      "While many companies have opted to build AI behind closed doors, we are releasing\n",
      "Llama 2 openly to encourage responsible AI innovation. Based on our experience, an open approach draws\n",
      "upon the collective wisdom, diversity, and ingenuity of the AI-practitioner community to realize the benefits of\n",
      "this technology. Collaboration will make these models better and safer. The entire AI community—academic\n",
      "researchers, civil society, policymakers, and industry—must work together to rigorously analyze and expose\n",
      "the risks of current AI systems and to build solutions that address potentially problematic misuse. This\n",
      "approach not only fosters real collaboration with diverse stakeholders—those beyond the walls of big tech\n",
      "companies—but also serves as the cornerstone for democratizing access to foundational models. As argued\n",
      "in Zellers et al. (2019b), open releases promote transparency and allow more people to access AI tools,\n",
      "democratizing the technology and decentralizing AI expertise. We believe that the decentralization of AI\n",
      "expertise does more than simply distribute knowledge—it stimulates innovation and accelerates progress\n",
      "in the industry. Lastly, openly releasing these models consolidates costs and eliminates barriers to entry,\n",
      "allowing small businesses to leverage innovations in LLMs to explore and build text-generation use cases.\n",
      "Ultimately, we believe this will create a more level playing field for organizations of all sizes across the globe\n",
      "to benefit from the economic growth promised by the advancement of AI.\n",
      "We know that not everyone who uses AI models has good intentions, and we acknowledge that there\n",
      "are reasonable concerns regarding the ways that AI will impact our world. Toxic content generation and\n",
      "problematic associations are meaningful risks that the AI community has yet to fully mitigate. As this\n",
      "paper illustrates, we have made strides in limiting the prevalence of these types of responses. While we\n",
      "recognize there is more work to be done, this realization only deepens our commitment to open science and\n",
      "collaboration with the AI community.\n",
      "6\n",
      "Related Work\n",
      "Large Language Models.\n",
      "The recent years have witnessed a substantial evolution in the field of LLMs.\n",
      "Following the scaling laws of Kaplan et al. (2020), several Large Language Models with more than 100B\n",
      "parameters have been proposed, from GPT-3 (Brown et al., 2020) to Gopher (Rae et al., 2022) or specialized\n",
      "models, e.g. Galactica, for science(Taylor et al., 2022). With 70B parameters, Chinchilla (Hoffmann et al.,\n",
      "2022) redefined those scaling laws towards the number of tokens rather than model weights. Notable in\n",
      "this progression is the rise of Llama, recognized for its focus on computational efficiency during inference\n",
      "(Touvron et al., 2023). A parallel discourse has unfolded around the dynamics of open-source versus closed-\n",
      "source models. Open-source releases like BLOOM (Scao et al., 2022), OPT(Zhang et al., 2022), and Falcon\n",
      "(Penedo et al., 2023) have risen to challenge their closed-source counterparts like GPT-3 and Chinchilla.\n",
      "§§https://ai.meta.com/llama\n",
      "35\n",
      "---------------------\n",
      "Given the context information and not prior knowledge, answer the query asking about citations over different topics.\n",
      "Please provide your answer in the form of a structured JSON format containing a list of authors as the citations. Some examples are given below.\n",
      "\n",
      "Query: Which citations discuss the potential risks associated with the use of Llama 2?\n",
      "Response: {'citations': [{'author': 'Bender et al.', 'year': 2021, 'desc': ''}, {'author': 'Weidinger et al.', 'year': 2021, 'desc': ''}, {'author': 'Solaiman et al.', 'year': 2023, 'desc': ''}]}\n",
      "\n",
      "Query: Which citations in the paper discuss the development and release of Llama 2?\n",
      "Response: {'citations': [{'author': 'Zellers et al.', 'year': 2019, 'desc': 'argued that open releases promote transparency and allow more people to access AI tools, democratizing the technology and decentralizing AI expertise'}, {'author': 'Kaplan et al.', 'year': 2020, 'desc': 'discussed the scaling laws of Large Language Models'}, {'author': 'Touvron et al.', 'year': 2023, 'desc': 'recognized Llama for its focus on computational efficiency during inference'}]}\n",
      "\n",
      "Query: What are the potential risks associated with the use of Llama 2 as mentioned in the context?\n",
      "Answer: \n"
     ]
    }
   ],
   "source": [
    "print(qa_prompt_tmpl.format(query_str=query_str, context_str=context_str))"
   ]
  },
  {
   "cell_type": "code",
   "execution_count": 35,
   "metadata": {},
   "outputs": [
    {
     "name": "stdout",
     "output_type": "stream",
     "text": [
      "INFO:httpx:HTTP Request: POST https://api.openai.com/v1/embeddings \"HTTP/1.1 200 OK\"\n",
      "HTTP Request: POST https://api.openai.com/v1/embeddings \"HTTP/1.1 200 OK\"\n",
      "INFO:httpx:HTTP Request: POST https://api.openai.com/v1/embeddings \"HTTP/1.1 200 OK\"\n",
      "HTTP Request: POST https://api.openai.com/v1/embeddings \"HTTP/1.1 200 OK\"\n",
      "INFO:httpx:HTTP Request: POST https://api.openai.com/v1/embeddings \"HTTP/1.1 200 OK\"\n",
      "HTTP Request: POST https://api.openai.com/v1/embeddings \"HTTP/1.1 200 OK\"\n",
      "INFO:httpx:HTTP Request: POST https://api.openai.com/v1/embeddings \"HTTP/1.1 200 OK\"\n",
      "HTTP Request: POST https://api.openai.com/v1/embeddings \"HTTP/1.1 200 OK\"\n",
      "INFO:httpx:HTTP Request: POST https://api.openai.com/v1/embeddings \"HTTP/1.1 200 OK\"\n",
      "HTTP Request: POST https://api.openai.com/v1/embeddings \"HTTP/1.1 200 OK\"\n",
      "INFO:httpx:HTTP Request: POST https://api.openai.com/v1/chat/completions \"HTTP/1.1 200 OK\"\n",
      "HTTP Request: POST https://api.openai.com/v1/chat/completions \"HTTP/1.1 200 OK\"\n",
      "{\n",
      "    \"citations\": [\n",
      "        {\n",
      "            \"author\": \"Bender et al.\",\n",
      "            \"year\": 2021,\n",
      "            \"desc\": \"\"\n",
      "        },\n",
      "        {\n",
      "            \"author\": \"Weidinger et al.\",\n",
      "            \"year\": 2021,\n",
      "            \"desc\": \"\"\n",
      "        },\n",
      "        {\n",
      "            \"author\": \"Solaiman et al.\",\n",
      "            \"year\": 2023,\n",
      "            \"desc\": \"\"\n",
      "        }\n",
      "    ]\n",
      "}\n"
     ]
    }
   ],
   "source": [
    "response = query_engine.query(query_str)\n",
    "print(str(response))"
   ]
  },
  {
   "cell_type": "code",
   "execution_count": null,
   "metadata": {},
   "outputs": [],
   "source": []
  }
 ],
 "metadata": {
  "kernelspec": {
   "display_name": "Python 3",
   "language": "python",
   "name": "python3"
  },
  "language_info": {
   "codemirror_mode": {
    "name": "ipython",
    "version": 3
   },
   "file_extension": ".py",
   "mimetype": "text/x-python",
   "name": "python",
   "nbconvert_exporter": "python",
   "pygments_lexer": "ipython3",
   "version": "3.10.15"
  }
 },
 "nbformat": 4,
 "nbformat_minor": 2
}
