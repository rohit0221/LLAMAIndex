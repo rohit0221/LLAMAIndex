{
 "cells": [
  {
   "cell_type": "code",
   "execution_count": 1,
   "metadata": {},
   "outputs": [],
   "source": [
    "from dotenv import load_dotenv\n",
    "load_dotenv()\n",
    "import os"
   ]
  },
  {
   "cell_type": "markdown",
   "metadata": {},
   "source": [
    "# Recursive Retriever + Query Engine Demo\n",
    "In this demo, we walk through a use case of showcasing our \"RecursiveRetriever\" module over hierarchical data.\n",
    "\n",
    "The concept of recursive retrieval is that we not only explore the directly most relevant nodes, but also explore node relationships to additional retrievers/query engines and execute them. For instance, a node may represent a concise summary of a structured table, and link to a SQL/Pandas query engine over that structured table. Then if the node is retrieved, we want to also query the underlying query engine for the answer.\n",
    "\n",
    "This can be especially useful for documents with hierarchical relationships. In this example, we walk through a Wikipedia article about billionaires (in PDF form), which contains both text and a variety of embedded structured tables. We first create a Pandas query engine over each table, but also represent each table by an IndexNode (stores a link to the query engine); this Node is stored along with other Nodes in a vector store.\n",
    "\n",
    "During query-time, if an IndexNode is fetched, then the underlying query engine/retriever will be queried."
   ]
  },
  {
   "cell_type": "code",
   "execution_count": 2,
   "metadata": {},
   "outputs": [],
   "source": [
    "# %pip install llama-index-embeddings-openai\n",
    "# %pip install llama-index-readers-file pymupdf\n",
    "# %pip install llama-index-llms-openai\n",
    "# %pip install llama-index-experimental"
   ]
  },
  {
   "cell_type": "code",
   "execution_count": 3,
   "metadata": {},
   "outputs": [],
   "source": [
    "import camelot\n",
    "\n",
    "# https://en.wikipedia.org/wiki/The_World%27s_Billionaires\n",
    "from llama_index.core import VectorStoreIndex\n",
    "from llama_index.experimental.query_engine import PandasQueryEngine\n",
    "from llama_index.core.schema import IndexNode\n",
    "from llama_index.llms.openai import OpenAI\n",
    "\n",
    "from llama_index.readers.file import PyMuPDFReader\n",
    "from typing import List"
   ]
  },
  {
   "cell_type": "code",
   "execution_count": 4,
   "metadata": {},
   "outputs": [],
   "source": [
    "from llama_index.embeddings.openai import OpenAIEmbedding\n",
    "from llama_index.llms.openai import OpenAI\n",
    "from llama_index.core import Settings\n",
    "\n",
    "Settings.llm = OpenAI(model=\"gpt-4o-mini\")\n",
    "Settings.embed_model = OpenAIEmbedding(model=\"text-embedding-3-small\")"
   ]
  },
  {
   "cell_type": "markdown",
   "metadata": {},
   "source": [
    "# Load in Document (and Tables)\n",
    "We use our PyMuPDFReader to read in the main text of the document.\n",
    "\n",
    "We also use camelot to extract some structured tables from the document"
   ]
  },
  {
   "cell_type": "code",
   "execution_count": 5,
   "metadata": {},
   "outputs": [],
   "source": [
    "file_path = \"billionaires_page.pdf\""
   ]
  },
  {
   "cell_type": "code",
   "execution_count": 6,
   "metadata": {},
   "outputs": [],
   "source": [
    "# initialize PDF reader\n",
    "reader = PyMuPDFReader()"
   ]
  },
  {
   "cell_type": "code",
   "execution_count": 7,
   "metadata": {},
   "outputs": [],
   "source": [
    "docs = reader.load(file_path)"
   ]
  },
  {
   "cell_type": "code",
   "execution_count": 8,
   "metadata": {},
   "outputs": [],
   "source": [
    "# use camelot to parse tables\n",
    "\n",
    "def get_tables(path: str, pages: List[int]):\n",
    "    table_dfs = []\n",
    "    for page in pages:\n",
    "        table_list = camelot.read_pdf(path, pages=str(page))\n",
    "        table_df = table_list[0].df\n",
    "        table_df = (\n",
    "            table_df.rename(columns=table_df.iloc[0])\n",
    "            .drop(table_df.index[0])\n",
    "            .reset_index(drop=True)\n",
    "        )\n",
    "        table_dfs.append(table_df)\n",
    "    return table_dfs\n"
   ]
  },
  {
   "cell_type": "code",
   "execution_count": 13,
   "metadata": {},
   "outputs": [
    {
     "name": "stderr",
     "output_type": "stream",
     "text": [
      "2024-10-31T10:55:45 - INFO - Processing page-3\n"
     ]
    },
    {
     "name": "stdout",
     "output_type": "stream",
     "text": [
      "INFO:camelot:Processing page-3\n",
      "Processing page-3\n"
     ]
    },
    {
     "name": "stderr",
     "output_type": "stream",
     "text": [
      "2024-10-31T10:55:47 - INFO - Processing page-25\n"
     ]
    },
    {
     "name": "stdout",
     "output_type": "stream",
     "text": [
      "INFO:camelot:Processing page-25\n",
      "Processing page-25\n"
     ]
    }
   ],
   "source": [
    "table_dfs = get_tables(file_path, pages=[3, 25])"
   ]
  },
  {
   "cell_type": "code",
   "execution_count": 10,
   "metadata": {},
   "outputs": [
    {
     "data": {
      "text/html": [
       "<div>\n",
       "<style scoped>\n",
       "    .dataframe tbody tr th:only-of-type {\n",
       "        vertical-align: middle;\n",
       "    }\n",
       "\n",
       "    .dataframe tbody tr th {\n",
       "        vertical-align: top;\n",
       "    }\n",
       "\n",
       "    .dataframe thead th {\n",
       "        text-align: right;\n",
       "    }\n",
       "</style>\n",
       "<table border=\"1\" class=\"dataframe\">\n",
       "  <thead>\n",
       "    <tr style=\"text-align: right;\">\n",
       "      <th></th>\n",
       "      <th>No.</th>\n",
       "      <th>Name</th>\n",
       "      <th>Net worth\\n(USD)</th>\n",
       "      <th>Age</th>\n",
       "      <th>Nationality</th>\n",
       "      <th>Primary source(s) of wealth</th>\n",
       "    </tr>\n",
       "  </thead>\n",
       "  <tbody>\n",
       "    <tr>\n",
       "      <th>0</th>\n",
       "      <td>1</td>\n",
       "      <td>Bernard Arnault &amp;\\nfamily</td>\n",
       "      <td>$211 billion</td>\n",
       "      <td>74</td>\n",
       "      <td>France</td>\n",
       "      <td>LVMH</td>\n",
       "    </tr>\n",
       "    <tr>\n",
       "      <th>1</th>\n",
       "      <td>2</td>\n",
       "      <td>Elon Musk</td>\n",
       "      <td>$180 billion</td>\n",
       "      <td>51</td>\n",
       "      <td>United\\nStates</td>\n",
       "      <td>Tesla, SpaceX, X Corp.</td>\n",
       "    </tr>\n",
       "    <tr>\n",
       "      <th>2</th>\n",
       "      <td>3</td>\n",
       "      <td>Jeff Bezos</td>\n",
       "      <td>$114 billion</td>\n",
       "      <td>59</td>\n",
       "      <td>United\\nStates</td>\n",
       "      <td>Amazon</td>\n",
       "    </tr>\n",
       "    <tr>\n",
       "      <th>3</th>\n",
       "      <td>4</td>\n",
       "      <td>Larry Ellison</td>\n",
       "      <td>$107 billion</td>\n",
       "      <td>78</td>\n",
       "      <td>United\\nStates</td>\n",
       "      <td>Oracle Corporation</td>\n",
       "    </tr>\n",
       "    <tr>\n",
       "      <th>4</th>\n",
       "      <td>5</td>\n",
       "      <td>Warren Buffett</td>\n",
       "      <td>$106 billion</td>\n",
       "      <td>92</td>\n",
       "      <td>United\\nStates</td>\n",
       "      <td>Berkshire Hathaway</td>\n",
       "    </tr>\n",
       "    <tr>\n",
       "      <th>5</th>\n",
       "      <td>6</td>\n",
       "      <td>Bill Gates</td>\n",
       "      <td>$104 billion</td>\n",
       "      <td>67</td>\n",
       "      <td>United\\nStates</td>\n",
       "      <td>Microsoft</td>\n",
       "    </tr>\n",
       "    <tr>\n",
       "      <th>6</th>\n",
       "      <td>7</td>\n",
       "      <td>Michael Bloomberg</td>\n",
       "      <td>$94.5 billion</td>\n",
       "      <td>81</td>\n",
       "      <td>United\\nStates</td>\n",
       "      <td>Bloomberg L.P.</td>\n",
       "    </tr>\n",
       "    <tr>\n",
       "      <th>7</th>\n",
       "      <td>8</td>\n",
       "      <td>Carlos Slim &amp; family</td>\n",
       "      <td>$93 billion</td>\n",
       "      <td>83</td>\n",
       "      <td>Mexico</td>\n",
       "      <td>Telmex, América Móvil, Grupo\\nCarso</td>\n",
       "    </tr>\n",
       "    <tr>\n",
       "      <th>8</th>\n",
       "      <td>9</td>\n",
       "      <td>Mukesh Ambani</td>\n",
       "      <td>$83.4 billion</td>\n",
       "      <td>65</td>\n",
       "      <td>India</td>\n",
       "      <td>Reliance Industries</td>\n",
       "    </tr>\n",
       "    <tr>\n",
       "      <th>9</th>\n",
       "      <td>10</td>\n",
       "      <td>Steve Ballmer</td>\n",
       "      <td>$80.7 billion</td>\n",
       "      <td>67</td>\n",
       "      <td>United\\nStates</td>\n",
       "      <td>Microsoft</td>\n",
       "    </tr>\n",
       "  </tbody>\n",
       "</table>\n",
       "</div>"
      ],
      "text/plain": [
       "  No.                       Name Net worth\\n(USD) Age     Nationality  \\\n",
       "0   1  Bernard Arnault &\\nfamily     $211 billion  74          France   \n",
       "1   2                  Elon Musk     $180 billion  51  United\\nStates   \n",
       "2   3                 Jeff Bezos     $114 billion  59  United\\nStates   \n",
       "3   4              Larry Ellison     $107 billion  78  United\\nStates   \n",
       "4   5             Warren Buffett     $106 billion  92  United\\nStates   \n",
       "5   6                 Bill Gates     $104 billion  67  United\\nStates   \n",
       "6   7          Michael Bloomberg    $94.5 billion  81  United\\nStates   \n",
       "7   8       Carlos Slim & family      $93 billion  83          Mexico   \n",
       "8   9              Mukesh Ambani    $83.4 billion  65           India   \n",
       "9  10              Steve Ballmer    $80.7 billion  67  United\\nStates   \n",
       "\n",
       "           Primary source(s) of wealth  \n",
       "0                                 LVMH  \n",
       "1               Tesla, SpaceX, X Corp.  \n",
       "2                               Amazon  \n",
       "3                   Oracle Corporation  \n",
       "4                   Berkshire Hathaway  \n",
       "5                            Microsoft  \n",
       "6                       Bloomberg L.P.  \n",
       "7  Telmex, América Móvil, Grupo\\nCarso  \n",
       "8                  Reliance Industries  \n",
       "9                            Microsoft  "
      ]
     },
     "execution_count": 10,
     "metadata": {},
     "output_type": "execute_result"
    }
   ],
   "source": [
    "# shows list of top billionaires in 2023\n",
    "table_dfs[0]"
   ]
  },
  {
   "cell_type": "code",
   "execution_count": 11,
   "metadata": {},
   "outputs": [
    {
     "data": {
      "text/html": [
       "<div>\n",
       "<style scoped>\n",
       "    .dataframe tbody tr th:only-of-type {\n",
       "        vertical-align: middle;\n",
       "    }\n",
       "\n",
       "    .dataframe tbody tr th {\n",
       "        vertical-align: top;\n",
       "    }\n",
       "\n",
       "    .dataframe thead th {\n",
       "        text-align: right;\n",
       "    }\n",
       "</style>\n",
       "<table border=\"1\" class=\"dataframe\">\n",
       "  <thead>\n",
       "    <tr style=\"text-align: right;\">\n",
       "      <th></th>\n",
       "      <th>Year</th>\n",
       "      <th>Number of billionaires</th>\n",
       "      <th>Group's combined net worth</th>\n",
       "    </tr>\n",
       "  </thead>\n",
       "  <tbody>\n",
       "    <tr>\n",
       "      <th>0</th>\n",
       "      <td>2023[2]</td>\n",
       "      <td>2,640</td>\n",
       "      <td>$12.2 trillion</td>\n",
       "    </tr>\n",
       "    <tr>\n",
       "      <th>1</th>\n",
       "      <td>2022[6]</td>\n",
       "      <td>2,668</td>\n",
       "      <td>$12.7 trillion</td>\n",
       "    </tr>\n",
       "    <tr>\n",
       "      <th>2</th>\n",
       "      <td>2021[11]</td>\n",
       "      <td>2,755</td>\n",
       "      <td>$13.1 trillion</td>\n",
       "    </tr>\n",
       "    <tr>\n",
       "      <th>3</th>\n",
       "      <td>2020</td>\n",
       "      <td>2,095</td>\n",
       "      <td>$8.0 trillion</td>\n",
       "    </tr>\n",
       "    <tr>\n",
       "      <th>4</th>\n",
       "      <td>2019</td>\n",
       "      <td>2,153</td>\n",
       "      <td>$8.7 trillion</td>\n",
       "    </tr>\n",
       "    <tr>\n",
       "      <th>5</th>\n",
       "      <td>2018</td>\n",
       "      <td>2,208</td>\n",
       "      <td>$9.1 trillion</td>\n",
       "    </tr>\n",
       "    <tr>\n",
       "      <th>6</th>\n",
       "      <td>2017</td>\n",
       "      <td>2,043</td>\n",
       "      <td>$7.7 trillion</td>\n",
       "    </tr>\n",
       "    <tr>\n",
       "      <th>7</th>\n",
       "      <td>2016</td>\n",
       "      <td>1,810</td>\n",
       "      <td>$6.5 trillion</td>\n",
       "    </tr>\n",
       "    <tr>\n",
       "      <th>8</th>\n",
       "      <td>2015[18]</td>\n",
       "      <td>1,826</td>\n",
       "      <td>$7.1 trillion</td>\n",
       "    </tr>\n",
       "    <tr>\n",
       "      <th>9</th>\n",
       "      <td>2014[67]</td>\n",
       "      <td>1,645</td>\n",
       "      <td>$6.4 trillion</td>\n",
       "    </tr>\n",
       "    <tr>\n",
       "      <th>10</th>\n",
       "      <td>2013[68]</td>\n",
       "      <td>1,426</td>\n",
       "      <td>$5.4 trillion</td>\n",
       "    </tr>\n",
       "    <tr>\n",
       "      <th>11</th>\n",
       "      <td>2012</td>\n",
       "      <td>1,226</td>\n",
       "      <td>$4.6 trillion</td>\n",
       "    </tr>\n",
       "    <tr>\n",
       "      <th>12</th>\n",
       "      <td>2011</td>\n",
       "      <td>1,210</td>\n",
       "      <td>$4.5 trillion</td>\n",
       "    </tr>\n",
       "    <tr>\n",
       "      <th>13</th>\n",
       "      <td>2010</td>\n",
       "      <td>1,011</td>\n",
       "      <td>$3.6 trillion</td>\n",
       "    </tr>\n",
       "    <tr>\n",
       "      <th>14</th>\n",
       "      <td>2009</td>\n",
       "      <td>793</td>\n",
       "      <td>$2.4 trillion</td>\n",
       "    </tr>\n",
       "    <tr>\n",
       "      <th>15</th>\n",
       "      <td>2008</td>\n",
       "      <td>1,125</td>\n",
       "      <td>$4.4 trillion</td>\n",
       "    </tr>\n",
       "    <tr>\n",
       "      <th>16</th>\n",
       "      <td>2007</td>\n",
       "      <td>946</td>\n",
       "      <td>$3.5 trillion</td>\n",
       "    </tr>\n",
       "    <tr>\n",
       "      <th>17</th>\n",
       "      <td>2006</td>\n",
       "      <td>793</td>\n",
       "      <td>$2.6 trillion</td>\n",
       "    </tr>\n",
       "    <tr>\n",
       "      <th>18</th>\n",
       "      <td>2005</td>\n",
       "      <td>691</td>\n",
       "      <td>$2.2 trillion</td>\n",
       "    </tr>\n",
       "    <tr>\n",
       "      <th>19</th>\n",
       "      <td>2004</td>\n",
       "      <td>587</td>\n",
       "      <td>$1.9 trillion</td>\n",
       "    </tr>\n",
       "    <tr>\n",
       "      <th>20</th>\n",
       "      <td>2003</td>\n",
       "      <td>476</td>\n",
       "      <td>$1.4 trillion</td>\n",
       "    </tr>\n",
       "    <tr>\n",
       "      <th>21</th>\n",
       "      <td>2002</td>\n",
       "      <td>497</td>\n",
       "      <td>$1.5 trillion</td>\n",
       "    </tr>\n",
       "    <tr>\n",
       "      <th>22</th>\n",
       "      <td>2001</td>\n",
       "      <td>538</td>\n",
       "      <td>$1.8 trillion</td>\n",
       "    </tr>\n",
       "    <tr>\n",
       "      <th>23</th>\n",
       "      <td>2000</td>\n",
       "      <td>470</td>\n",
       "      <td>$898 billion</td>\n",
       "    </tr>\n",
       "    <tr>\n",
       "      <th>24</th>\n",
       "      <td>Sources: Forbes.[18][67][66][68]</td>\n",
       "      <td></td>\n",
       "      <td></td>\n",
       "    </tr>\n",
       "  </tbody>\n",
       "</table>\n",
       "</div>"
      ],
      "text/plain": [
       "                                Year Number of billionaires  \\\n",
       "0                            2023[2]                  2,640   \n",
       "1                            2022[6]                  2,668   \n",
       "2                           2021[11]                  2,755   \n",
       "3                               2020                  2,095   \n",
       "4                               2019                  2,153   \n",
       "5                               2018                  2,208   \n",
       "6                               2017                  2,043   \n",
       "7                               2016                  1,810   \n",
       "8                           2015[18]                  1,826   \n",
       "9                           2014[67]                  1,645   \n",
       "10                          2013[68]                  1,426   \n",
       "11                              2012                  1,226   \n",
       "12                              2011                  1,210   \n",
       "13                              2010                  1,011   \n",
       "14                              2009                    793   \n",
       "15                              2008                  1,125   \n",
       "16                              2007                    946   \n",
       "17                              2006                    793   \n",
       "18                              2005                    691   \n",
       "19                              2004                    587   \n",
       "20                              2003                    476   \n",
       "21                              2002                    497   \n",
       "22                              2001                    538   \n",
       "23                              2000                    470   \n",
       "24  Sources: Forbes.[18][67][66][68]                          \n",
       "\n",
       "   Group's combined net worth  \n",
       "0              $12.2 trillion  \n",
       "1              $12.7 trillion  \n",
       "2              $13.1 trillion  \n",
       "3               $8.0 trillion  \n",
       "4               $8.7 trillion  \n",
       "5               $9.1 trillion  \n",
       "6               $7.7 trillion  \n",
       "7               $6.5 trillion  \n",
       "8               $7.1 trillion  \n",
       "9               $6.4 trillion  \n",
       "10              $5.4 trillion  \n",
       "11              $4.6 trillion  \n",
       "12              $4.5 trillion  \n",
       "13              $3.6 trillion  \n",
       "14              $2.4 trillion  \n",
       "15              $4.4 trillion  \n",
       "16              $3.5 trillion  \n",
       "17              $2.6 trillion  \n",
       "18              $2.2 trillion  \n",
       "19              $1.9 trillion  \n",
       "20              $1.4 trillion  \n",
       "21              $1.5 trillion  \n",
       "22              $1.8 trillion  \n",
       "23               $898 billion  \n",
       "24                             "
      ]
     },
     "execution_count": 11,
     "metadata": {},
     "output_type": "execute_result"
    }
   ],
   "source": [
    "# shows list of top billionaires\n",
    "table_dfs[1]"
   ]
  },
  {
   "cell_type": "markdown",
   "metadata": {},
   "source": [
    "# Create Pandas Query Engines\n",
    "We create a pandas query engine over each structured table.\n",
    "\n",
    "These can be executed on their own to answer queries about each table.\n",
    "\n",
    "**⚠️WARNING**: This tool provides the LLM access to the ```eval``` function. Arbitrary code execution is possible on the machine running this tool. While some level of filtering is done on code, this tool is not recommended to be used in a production setting without heavy sandboxing or virtual machines."
   ]
  },
  {
   "cell_type": "markdown",
   "metadata": {},
   "source": [
    "# define query engines over these tables\n"
   ]
  },
  {
   "cell_type": "code",
   "execution_count": 44,
   "metadata": {},
   "outputs": [],
   "source": [
    "llm = OpenAI(model=\"gpt-4o\")\n",
    "\n",
    "df_query_engines = [\n",
    "    PandasQueryEngine(table_df, llm=llm) for table_df in table_dfs\n",
    "]"
   ]
  },
  {
   "cell_type": "code",
   "execution_count": 23,
   "metadata": {},
   "outputs": [
    {
     "name": "stdout",
     "output_type": "stream",
     "text": [
      "INFO:httpx:HTTP Request: POST https://api.openai.com/v1/chat/completions \"HTTP/1.1 200 OK\"\n",
      "HTTP Request: POST https://api.openai.com/v1/chat/completions \"HTTP/1.1 200 OK\"\n",
      "$180 billion\n"
     ]
    }
   ],
   "source": [
    "response = df_query_engines[0].query(\n",
    "    \"What's the net worth of the second richest billionaire in 2023?\"\n",
    ")\n",
    "print(str(response))"
   ]
  },
  {
   "cell_type": "code",
   "execution_count": 24,
   "metadata": {},
   "outputs": [
    {
     "name": "stdout",
     "output_type": "stream",
     "text": [
      "INFO:httpx:HTTP Request: POST https://api.openai.com/v1/chat/completions \"HTTP/1.1 200 OK\"\n",
      "HTTP Request: POST https://api.openai.com/v1/chat/completions \"HTTP/1.1 200 OK\"\n",
      "793\n"
     ]
    }
   ],
   "source": [
    "response = df_query_engines[1].query(\n",
    "    \"How many billionaires were there in 2009?\"\n",
    ")\n",
    "print(str(response))"
   ]
  },
  {
   "cell_type": "markdown",
   "metadata": {},
   "source": [
    "# Build Vector Index\n",
    "Build vector index over the chunked document as well as over the additional IndexNode objects linked to the tables."
   ]
  },
  {
   "cell_type": "code",
   "execution_count": 25,
   "metadata": {},
   "outputs": [],
   "source": [
    "from llama_index.core import Settings\n",
    "\n",
    "doc_nodes = Settings.node_parser.get_nodes_from_documents(docs)"
   ]
  },
  {
   "cell_type": "code",
   "execution_count": 46,
   "metadata": {},
   "outputs": [],
   "source": [
    "# define index nodes\n",
    "summaries = [\n",
    "    (\n",
    "        \"This node provides information about the world's richest billionaires\"\n",
    "        \" in 2023\"\n",
    "    ),\n",
    "    (\n",
    "        \"This node provides information on the number of billionaires and\"\n",
    "        \" their combined net worth from 2000 to 2023.\"\n",
    "    ),\n",
    "]\n",
    "\n",
    "df_nodes = [\n",
    "    IndexNode(text=summary, index_id=f\"pandas{idx}\")\n",
    "    for idx, summary in enumerate(summaries)\n",
    "]\n",
    "\n",
    "df_id_query_engine_mapping = {\n",
    "    f\"pandas{idx}\": df_query_engine\n",
    "    for idx, df_query_engine in enumerate(df_query_engines)\n",
    "}"
   ]
  },
  {
   "cell_type": "markdown",
   "metadata": {},
   "source": [
    "# construct top-level vector index + query engine\n"
   ]
  },
  {
   "cell_type": "code",
   "execution_count": 47,
   "metadata": {},
   "outputs": [
    {
     "name": "stdout",
     "output_type": "stream",
     "text": [
      "INFO:httpx:HTTP Request: POST https://api.openai.com/v1/embeddings \"HTTP/1.1 200 OK\"\n",
      "HTTP Request: POST https://api.openai.com/v1/embeddings \"HTTP/1.1 200 OK\"\n"
     ]
    }
   ],
   "source": [
    "vector_index = VectorStoreIndex(doc_nodes + df_nodes)\n",
    "vector_retriever = vector_index.as_retriever(similarity_top_k=1)"
   ]
  },
  {
   "cell_type": "markdown",
   "metadata": {},
   "source": [
    "# Use ```RecursiveRetriever``` in our ```RetrieverQueryEngine```\n",
    "\n",
    "\n",
    "We define a ```RecursiveRetriever``` object to recursively retrieve/query nodes. We then put this in our ```RetrieverQueryEngine``` along with a ```ResponseSynthesizer``` to synthesize a response.\n",
    "\n",
    "We pass in mappings from id to retriever and id to query engine. We then pass in a root id representing the retriever we query first.\n"
   ]
  },
  {
   "cell_type": "code",
   "execution_count": 48,
   "metadata": {},
   "outputs": [
    {
     "name": "stdout",
     "output_type": "stream",
     "text": [
      "INFO:httpx:HTTP Request: POST https://api.openai.com/v1/embeddings \"HTTP/1.1 200 OK\"\n",
      "HTTP Request: POST https://api.openai.com/v1/embeddings \"HTTP/1.1 200 OK\"\n"
     ]
    }
   ],
   "source": [
    "# baseline vector index (that doesn't include the extra df nodes).\n",
    "# used to benchmark\n",
    "vector_index0 = VectorStoreIndex(doc_nodes)\n",
    "vector_query_engine0 = vector_index0.as_query_engine()"
   ]
  },
  {
   "cell_type": "code",
   "execution_count": 49,
   "metadata": {},
   "outputs": [],
   "source": [
    "from llama_index.core.retrievers import RecursiveRetriever\n",
    "from llama_index.core.query_engine import RetrieverQueryEngine\n",
    "from llama_index.core import get_response_synthesizer\n",
    "\n",
    "recursive_retriever = RecursiveRetriever(\n",
    "    \"vector\",\n",
    "    retriever_dict={\"vector\": vector_retriever},\n",
    "    query_engine_dict=df_id_query_engine_mapping,\n",
    "    verbose=True,\n",
    ")\n",
    "\n",
    "response_synthesizer = get_response_synthesizer(response_mode=\"compact\")\n",
    "\n",
    "query_engine = RetrieverQueryEngine.from_args(\n",
    "    recursive_retriever, response_synthesizer=response_synthesizer\n",
    ")"
   ]
  },
  {
   "cell_type": "code",
   "execution_count": 50,
   "metadata": {},
   "outputs": [
    {
     "name": "stdout",
     "output_type": "stream",
     "text": [
      "\u001b[1;3;34mRetrieving with query id None: What's the net worth of the second richest billionaire in 2023?\n",
      "\u001b[0mINFO:httpx:HTTP Request: POST https://api.openai.com/v1/embeddings \"HTTP/1.1 200 OK\"\n",
      "HTTP Request: POST https://api.openai.com/v1/embeddings \"HTTP/1.1 200 OK\"\n",
      "\u001b[1;3;38;5;200mRetrieving text node: 7/1/23, 11:31 PM\n",
      "The World's Billionaires - Wikipedia\n",
      "https://en.wikipedia.org/wiki/The_World%27s_Billionaires\n",
      "2/33\n",
      "stock are priced to market on a date roughly a month before publication. Privately held companies are\n",
      "priced by the prevailing price-to-sales or price-to-earnings ratios. Known debt is subtracted from\n",
      "assets to get a final estimate of an individual's estimated worth in United States dollars. Since stock\n",
      "prices fluctuate rapidly, an individual's true wealth and ranking at the time of publication may vary\n",
      "from their situation when the list was compiled.[7]\n",
      "When a living individual has dispersed his or her wealth to immediate family members it is included\n",
      "under a single listing (as a single \"family fortune\") provided that individual (the grantor) is still living.\n",
      "However, if a deceased billionaire's fortune has been dispersed, it will not appear as a single listing,\n",
      "and each recipient will only appear if his or her own total net worth is over a $Billion (his or her net\n",
      "worth will not be combined with family members')[7] Royal families and dictators that have their\n",
      "wealth contingent on a position are always excluded from these lists.[9]\n",
      "The rankings are published annually in March, so the net worths listed are snapshots taken at that\n",
      "time. These lists only show the top 10 wealthiest billionaires for each year.\n",
      "Icon\n",
      "Description\n",
      "Has not changed from the previous ranking.\n",
      "Has increased from the previous ranking.\n",
      "Has decreased from the previous ranking.\n",
      "In the 37th annual Forbes list of the world's billionaires, the list included 2,640 billionaires with a\n",
      "total net wealth of $12.2 trillion, down 28 members and $500 billion from 2022. Nearly half the list is\n",
      "poorer than the previous year, including Elon Musk, who fell from No. 1 to No. 2.[2] The list also\n",
      "marks for the first time a French citizen was in the top position as well as a non-American for the first\n",
      "time since 2013 when the Mexican Carlos Slim Helu was the world's richest person. The list, like in\n",
      "2022, counted 15 under 30 billionaires with the richest of them being Red Bull heir Mark Mateschitz\n",
      "with a net worth of $34.7 billion. The youngest of the lot were Clemente Del Vecchio, heir to the\n",
      "Luxottica fortune shared with his six siblings and stepmother and Kim Jung-yang, whose fortune lies\n",
      "in Japanese-South Korean gaming giant Nexon, both under-20s.[10]\n",
      "Annual rankings\n",
      "Legend\n",
      "2023\n",
      "\u001b[0mINFO:httpx:HTTP Request: POST https://api.openai.com/v1/chat/completions \"HTTP/1.1 200 OK\"\n",
      "HTTP Request: POST https://api.openai.com/v1/chat/completions \"HTTP/1.1 200 OK\"\n"
     ]
    }
   ],
   "source": [
    "response = query_engine.query(\n",
    "    \"What's the net worth of the second richest billionaire in 2023?\"\n",
    ")"
   ]
  },
  {
   "cell_type": "code",
   "execution_count": 51,
   "metadata": {},
   "outputs": [
    {
     "data": {
      "text/plain": [
       "'7/1/23, 11:31 PM\\nThe World\\'s Billionaires - Wikipedia\\nhttps://en.wikipedia.org/wiki/The_World%27s_Billionaires\\n2/33\\nstock are priced to market on a date roughly a month before publication. Privately held companies are\\npriced by the prevailing price-to-sales or price-to-earnings ratios. Known debt is subtracted from\\nassets to get a final estimate of an individual\\'s estimated worth in United States dollars. Since stock\\nprices fluctuate rapidly, an individual\\'s true wealth and ranking at the time of publication may vary\\nfrom their situation when the list was compiled.[7]\\nWhen a living individual has dispersed his or her wealth to immediate family members it is included\\nunder a single listing (as a single \"family fortune\") provided that individual (the grantor) is still living.\\nHowever, if a deceased billionaire\\'s fortune has been dispersed, it will not appear as a single listing,\\nand each recipient will only appear if his or her own total net worth is over a $Billion (his or her net\\nworth will not be combined with family members\\')[7] Royal families and dictators that have their\\nwealth contingent on a position are always excluded from these lists.[9]\\nThe rankings are published annually in March, so the net worths listed are snapshots taken at that\\ntime. These lists only show the top 10 wealthiest billionaires for each year.\\nIcon\\nDescription\\nHas not changed from the previous ranking.\\nHas increased from the previous ranking.\\nHas decreased from the previous ranking.\\nIn the 37th annual Forbes list of the world\\'s billionaires, the list included 2,640 billionaires with a\\ntotal net wealth of $12.2 trillion, down 28 members and $500 billion from 2022. Nearly half the list is\\npoorer than the previous year, including Elon Musk, who fell from No. 1 to No. 2.[2] The list also\\nmarks for the first time a French citizen was in the top position as well as a non-American for the first\\ntime since 2013 when the Mexican Carlos Slim Helu was the world\\'s richest person. The list, like in\\n2022, counted 15 under 30 billionaires with the richest of them being Red Bull heir Mark Mateschitz\\nwith a net worth of $34.7 billion. The youngest of the lot were Clemente Del Vecchio, heir to the\\nLuxottica fortune shared with his six siblings and stepmother and Kim Jung-yang, whose fortune lies\\nin Japanese-South Korean gaming giant Nexon, both under-20s.[10]\\nAnnual rankings\\nLegend\\n2023'"
      ]
     },
     "execution_count": 51,
     "metadata": {},
     "output_type": "execute_result"
    }
   ],
   "source": [
    "response.source_nodes[0].node.get_content()"
   ]
  },
  {
   "cell_type": "code",
   "execution_count": 52,
   "metadata": {},
   "outputs": [
    {
     "data": {
      "text/plain": [
       "'The net worth of the second richest billionaire in 2023 is not specified in the provided information.'"
      ]
     },
     "execution_count": 52,
     "metadata": {},
     "output_type": "execute_result"
    }
   ],
   "source": [
    "str(response)"
   ]
  },
  {
   "cell_type": "code",
   "execution_count": 53,
   "metadata": {},
   "outputs": [
    {
     "name": "stdout",
     "output_type": "stream",
     "text": [
      "INFO:httpx:HTTP Request: POST https://api.openai.com/v1/embeddings \"HTTP/1.1 200 OK\"\n",
      "HTTP Request: POST https://api.openai.com/v1/embeddings \"HTTP/1.1 200 OK\"\n",
      "INFO:httpx:HTTP Request: POST https://api.openai.com/v1/chat/completions \"HTTP/1.1 200 OK\"\n",
      "HTTP Request: POST https://api.openai.com/v1/chat/completions \"HTTP/1.1 200 OK\"\n"
     ]
    }
   ],
   "source": [
    "response = vector_query_engine0.query(\n",
    "    \"How many billionaires were there in 2009?\"\n",
    ")"
   ]
  },
  {
   "cell_type": "code",
   "execution_count": 54,
   "metadata": {},
   "outputs": [
    {
     "name": "stdout",
     "output_type": "stream",
     "text": [
      "7/1/23, 11:31 PM\n",
      "The World's Billionaires - Wikipedia\n",
      "https://en.wikipedia.org/wiki/The_World%27s_Billionaires\n",
      "12/33\n",
      "No.\n",
      "Name\n",
      "Net worth\n",
      "(USD)\n",
      "Age\n",
      "Nationality\n",
      "Source(s) of wealth\n",
      "1 \n",
      "Carlos Slim\n",
      "$74.0 billion \n",
      "71\n",
      " Mexico\n",
      "América Móvil, Grupo Carso\n",
      "2 \n",
      "Bill Gates\n",
      "$56.0 billion \n",
      "55\n",
      " United\n",
      "States\n",
      "Microsoft\n",
      "3 \n",
      "Warren Buffett\n",
      "$50.0 billion \n",
      "80\n",
      " United\n",
      "States\n",
      "Berkshire Hathaway\n",
      "4 \n",
      "Bernard Arnault\n",
      "$41.0 billion \n",
      "62\n",
      " France\n",
      "LVMH Moët Hennessy • Louis\n",
      "Vuitton\n",
      "5 \n",
      "Larry Ellison\n",
      "$39.5 billion \n",
      "66\n",
      " United\n",
      "States\n",
      "Oracle Corporation\n",
      "6 \n",
      "Lakshmi Mittal\n",
      "$31.1 billion \n",
      "60\n",
      " India\n",
      "Arcelor Mittal\n",
      "7 \n",
      "Amancio Ortega\n",
      "$31.0 billion \n",
      "74\n",
      " Spain\n",
      "Inditex Group\n",
      "8 \n",
      "Eike Batista\n",
      "$30.0 billion \n",
      "53\n",
      " Brazil\n",
      "EBX Group\n",
      "9 \n",
      "Mukesh Ambani\n",
      "$27.0 billion \n",
      "54\n",
      " India\n",
      "Reliance Industries\n",
      "10 \n",
      "Christy Walton &\n",
      "family\n",
      "$26.5 billion \n",
      "62\n",
      " United\n",
      "States\n",
      "Walmart\n",
      "Slim narrowly eclipsed Gates to top the billionaire list for the first time. Slim saw his estimated worth\n",
      "surge $18.5 billion to $53.5 billion as shares of America Movil rose 35 percent. Gates' estimated\n",
      "wealth rose $13 billion to $53 billion, placing him second. Warren Buffett was third with $47\n",
      "billion.[39] Christy Walton was the highest-ranking woman, placing 12th overall, with an inherited\n",
      "fortune of $22.5 billion.[40] At age 25, Mark Zuckerberg continued to be the world's youngest self-\n",
      "made billionaire.[8] American Isaac Perlmutter was among the newcomers with an estimated fortune\n",
      "of $4 billion largely acquired in his sale of Marvel Entertainment to Disney.[39]\n",
      "A total of 1,011 people made the 2010 list. The United States accounted for 403 billionaires, followed\n",
      "by China with 89 and Russia with 62.[40] It was the first time China, while including Hong Kong,\n",
      "placed second.[39] A total of 55 countries were represented on the 2010 list, including Finland and\n",
      "Pakistan which claimed their first billionaires.[40] Eighty-nine women made the list, but only 14 of\n",
      "them were self-made.[40] The combined net worth of the list was $3.6 trillion, up 50 percent from\n",
      "2009's $2.4 trillion, while the average net worth was $3.5 billion.[8]\n",
      "The 2010 list featured 164 re-entries and 97 true newcomers.[8] Asia accounted for more than 100 of\n",
      "the new entrants. Overall, just 12 percent of the list lost wealth since 2009, and 30 people fell off the\n",
      "list. 13 others died.[39] Of the 89 women, 12 were newcomers in 2010. Steve Forbes said the growing\n",
      "number of billionaires was a clear sign that the world's economy was recovering from 2009's global\n",
      "financial crisis.[8]\n",
      "In June 2010, Gates and Buffett announced the Giving Pledge, a promise to give the majority of their\n",
      "wealth to philanthropic causes. As of 2017, the pledge had 158 signatories, but some of the signatories\n",
      "have since died. Most of the signers of the pledge are billionaires, and their pledges total over $365\n",
      "billion.[41]\n",
      "2010\n"
     ]
    }
   ],
   "source": [
    "print(response.source_nodes[0].node.get_content())"
   ]
  },
  {
   "cell_type": "code",
   "execution_count": 55,
   "metadata": {},
   "outputs": [
    {
     "name": "stdout",
     "output_type": "stream",
     "text": [
      "In 2009, there were a total of 1,011 billionaires.\n"
     ]
    }
   ],
   "source": [
    "print(str(response))"
   ]
  },
  {
   "cell_type": "code",
   "execution_count": 56,
   "metadata": {},
   "outputs": [
    {
     "data": {
      "text/plain": [
       "\"7/1/23, 11:31 PM\\nThe World's Billionaires - Wikipedia\\nhttps://en.wikipedia.org/wiki/The_World%27s_Billionaires\\n12/33\\nNo.\\nName\\nNet worth\\n(USD)\\nAge\\nNationality\\nSource(s) of wealth\\n1 \\nCarlos Slim\\n$74.0\\xa0billion\\xa0\\n71\\n\\xa0Mexico\\nAmérica Móvil, Grupo Carso\\n2 \\nBill Gates\\n$56.0\\xa0billion\\xa0\\n55\\n\\xa0United\\nStates\\nMicrosoft\\n3 \\nWarren Buffett\\n$50.0\\xa0billion\\xa0\\n80\\n\\xa0United\\nStates\\nBerkshire Hathaway\\n4 \\nBernard Arnault\\n$41.0\\xa0billion\\xa0\\n62\\n\\xa0France\\nLVMH Moët Hennessy • Louis\\nVuitton\\n5 \\nLarry Ellison\\n$39.5\\xa0billion\\xa0\\n66\\n\\xa0United\\nStates\\nOracle Corporation\\n6 \\nLakshmi Mittal\\n$31.1\\xa0billion\\xa0\\n60\\n\\xa0India\\nArcelor Mittal\\n7 \\nAmancio Ortega\\n$31.0\\xa0billion\\xa0\\n74\\n\\xa0Spain\\nInditex Group\\n8 \\nEike Batista\\n$30.0\\xa0billion\\xa0\\n53\\n\\xa0Brazil\\nEBX Group\\n9 \\nMukesh Ambani\\n$27.0\\xa0billion \\n54\\n\\xa0India\\nReliance Industries\\n10 \\nChristy Walton &\\nfamily\\n$26.5\\xa0billion\\xa0\\n62\\n\\xa0United\\nStates\\nWalmart\\nSlim narrowly eclipsed Gates to top the billionaire list for the first time. Slim saw his estimated worth\\nsurge $18.5 billion to $53.5 billion as shares of America Movil rose 35 percent. Gates' estimated\\nwealth rose $13 billion to $53 billion, placing him second. Warren Buffett was third with $47\\nbillion.[39] Christy Walton was the highest-ranking woman, placing 12th overall, with an inherited\\nfortune of $22.5 billion.[40] At age 25, Mark Zuckerberg continued to be the world's youngest self-\\nmade billionaire.[8] American Isaac Perlmutter was among the newcomers with an estimated fortune\\nof $4 billion largely acquired in his sale of Marvel Entertainment to Disney.[39]\\nA total of 1,011 people made the 2010 list. The United States accounted for 403 billionaires, followed\\nby China with 89 and Russia with 62.[40] It was the first time China, while including Hong Kong,\\nplaced second.[39] A total of 55 countries were represented on the 2010 list, including Finland and\\nPakistan which claimed their first billionaires.[40] Eighty-nine women made the list, but only 14 of\\nthem were self-made.[40] The combined net worth of the list was $3.6 trillion, up 50 percent from\\n2009's $2.4 trillion, while the average net worth was $3.5 billion.[8]\\nThe 2010 list featured 164 re-entries and 97 true newcomers.[8] Asia accounted for more than 100 of\\nthe new entrants. Overall, just 12 percent of the list lost wealth since 2009, and 30 people fell off the\\nlist. 13 others died.[39] Of the 89 women, 12 were newcomers in 2010. Steve Forbes said the growing\\nnumber of billionaires was a clear sign that the world's economy was recovering from 2009's global\\nfinancial crisis.[8]\\nIn June 2010, Gates and Buffett announced the Giving Pledge, a promise to give the majority of their\\nwealth to philanthropic causes. As of 2017, the pledge had 158 signatories, but some of the signatories\\nhave since died. Most of the signers of the pledge are billionaires, and their pledges total over $365\\nbillion.[41]\\n2010\""
      ]
     },
     "execution_count": 56,
     "metadata": {},
     "output_type": "execute_result"
    }
   ],
   "source": [
    "response.source_nodes[0].node.get_content()"
   ]
  },
  {
   "cell_type": "code",
   "execution_count": 57,
   "metadata": {},
   "outputs": [
    {
     "name": "stdout",
     "output_type": "stream",
     "text": [
      "\u001b[1;3;34mRetrieving with query id None: Which billionaires are excluded from this list?\n",
      "\u001b[0mINFO:httpx:HTTP Request: POST https://api.openai.com/v1/embeddings \"HTTP/1.1 200 OK\"\n",
      "HTTP Request: POST https://api.openai.com/v1/embeddings \"HTTP/1.1 200 OK\"\n",
      "\u001b[1;3;38;5;200mRetrieving text node: Retrieved 13 March 2019.\n",
      "15. Kroll, Luisa (6 March 2018). \"Forbes Billionaires 2018: Meet The Richest People On The Planet\"\n",
      "(https://www.forbes.com/sites/luisakroll/2018/03/06/forbes-billionaires-2018-meet-the-richest-peopl\n",
      "e-on-the-planet/). Forbes. Archived (https://web.archive.org/web/20180308165924/https://www.for\n",
      "bes.com/sites/luisakroll/2018/03/06/forbes-billionaires-2018-meet-the-richest-people-on-the-plane\n",
      "t/) from the original on 8 March 2018. Retrieved 6 March 2018.\n",
      "16. Dolan, Kerry A. \"Why No Saudi Arabians Made The Forbes Billionaires List This Year\" (https://ww\n",
      "w.forbes.com/sites/kerryadolan/2018/03/06/no-saudi-arabian-billionaires-forbes-list-2018-alwaleed\n",
      "-alamoudi/). Forbes. Archived (https://web.archive.org/web/20180306150806/https://www.forbes.c\n",
      "om/sites/kerryadolan/2018/03/06/no-saudi-arabian-billionaires-forbes-list-2018-alwaleed-alamoud\n",
      "i/) from the original on 6 March 2018. Retrieved 21 October 2019.\n",
      "17. \"The World's Billionaires List\" (https://www.forbes.com/billionaires/list/#version:static_tab:women).\n",
      "Forbes. 23 March 2017. Archived (https://web.archive.org/web/20190304152923/https://www.forbe\n",
      "s.com/billionaires/list/#version:static_tab:women) from the original on 4 March 2019. Retrieved\n",
      "21 March 2017.\n",
      "18. Dolan, Kerry A.; Kroll, Luisa (2 March 2015). \"Inside The 2015 Forbes Billionaires List: Facts And\n",
      "Figures\" (https://www.forbes.com/sites/kerryadolan/2015/03/02/inside-the-2015-forbes-billionaires-\n",
      "list-facts-and-figures/). Forbes. Archived (https://web.archive.org/web/20180628205305/https://ww\n",
      "w.forbes.com/sites/kerryadolan/2015/03/02/inside-the-2015-forbes-billionaires-list-facts-and-figure\n",
      "s/) from the original on 28 June 2018. Retrieved 31 May 2015.\n",
      "19. \"#1 Bill Gates\" (https://web.archive.org/web/20150304235759/http://www.forbes.com/profile/bill-ga\n",
      "tes/?list=billionaires). Forbes. Archived from the original (https://www.forbes.com/profile/bill-gate\n",
      "s/?list=billionaires) on 4 March 2015. Retrieved 2 January 2016.\n",
      "\u001b[0mINFO:httpx:HTTP Request: POST https://api.openai.com/v1/chat/completions \"HTTP/1.1 200 OK\"\n",
      "HTTP Request: POST https://api.openai.com/v1/chat/completions \"HTTP/1.1 200 OK\"\n"
     ]
    }
   ],
   "source": [
    "response = query_engine.query(\n",
    "    \"Which billionaires are excluded from this list?\"\n",
    ")"
   ]
  },
  {
   "cell_type": "code",
   "execution_count": 43,
   "metadata": {},
   "outputs": [
    {
     "name": "stdout",
     "output_type": "stream",
     "text": [
      "No Saudi Arabians made the Forbes Billionaires List in the year referenced.\n"
     ]
    }
   ],
   "source": [
    "print(str(response))"
   ]
  },
  {
   "cell_type": "code",
   "execution_count": null,
   "metadata": {},
   "outputs": [],
   "source": []
  },
  {
   "cell_type": "code",
   "execution_count": null,
   "metadata": {},
   "outputs": [],
   "source": []
  },
  {
   "cell_type": "code",
   "execution_count": null,
   "metadata": {},
   "outputs": [],
   "source": []
  },
  {
   "cell_type": "code",
   "execution_count": null,
   "metadata": {},
   "outputs": [],
   "source": []
  },
  {
   "cell_type": "code",
   "execution_count": null,
   "metadata": {},
   "outputs": [],
   "source": []
  },
  {
   "cell_type": "code",
   "execution_count": null,
   "metadata": {},
   "outputs": [],
   "source": []
  },
  {
   "cell_type": "code",
   "execution_count": null,
   "metadata": {},
   "outputs": [],
   "source": []
  },
  {
   "cell_type": "code",
   "execution_count": null,
   "metadata": {},
   "outputs": [],
   "source": []
  }
 ],
 "metadata": {
  "kernelspec": {
   "display_name": "Python 3",
   "language": "python",
   "name": "python3"
  },
  "language_info": {
   "codemirror_mode": {
    "name": "ipython",
    "version": 3
   },
   "file_extension": ".py",
   "mimetype": "text/x-python",
   "name": "python",
   "nbconvert_exporter": "python",
   "pygments_lexer": "ipython3",
   "version": "3.10.15"
  }
 },
 "nbformat": 4,
 "nbformat_minor": 2
}
