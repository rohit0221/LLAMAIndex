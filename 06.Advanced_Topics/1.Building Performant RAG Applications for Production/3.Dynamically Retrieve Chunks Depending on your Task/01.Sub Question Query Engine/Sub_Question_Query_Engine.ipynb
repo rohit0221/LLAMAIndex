{
 "cells": [
  {
   "cell_type": "markdown",
   "metadata": {},
   "source": [
    "# Sub Question Query Engine\n",
    "\n",
    "In this tutorial, we showcase how to use a **sub question query engine** to tackle the problem of answering a complex query using multiple data sources.\n",
    "It first breaks down the complex query into sub questions for each relevant data source, then gather all the intermediate reponses and synthesizes a final response."
   ]
  },
  {
   "cell_type": "markdown",
   "metadata": {},
   "source": [
    "# Preparation\n",
    "If you're opening this Notebook on colab, you will probably need to install LlamaIndex 🦙."
   ]
  },
  {
   "cell_type": "code",
   "execution_count": 1,
   "metadata": {},
   "outputs": [],
   "source": [
    "from dotenv import load_dotenv\n",
    "load_dotenv()\n",
    "import os"
   ]
  },
  {
   "cell_type": "code",
   "execution_count": 2,
   "metadata": {},
   "outputs": [],
   "source": [
    "from llama_index.core import VectorStoreIndex, SimpleDirectoryReader\n",
    "from llama_index.core.tools import QueryEngineTool, ToolMetadata\n",
    "from llama_index.core.query_engine import SubQuestionQueryEngine\n",
    "from llama_index.core.callbacks import CallbackManager, LlamaDebugHandler\n",
    "from llama_index.core import Settings"
   ]
  },
  {
   "cell_type": "code",
   "execution_count": 3,
   "metadata": {},
   "outputs": [],
   "source": [
    "import nest_asyncio\n",
    "\n",
    "nest_asyncio.apply()\n"
   ]
  },
  {
   "cell_type": "code",
   "execution_count": 4,
   "metadata": {},
   "outputs": [],
   "source": [
    "# Using the LlamaDebugHandler to print the trace of the sub questions\n",
    "# captured by the SUB_QUESTION callback event type\n",
    "llama_debug = LlamaDebugHandler(print_trace_on_end=True)\n",
    "callback_manager = CallbackManager([llama_debug])\n",
    "\n",
    "Settings.callback_manager = callback_manager\n"
   ]
  },
  {
   "cell_type": "code",
   "execution_count": 5,
   "metadata": {},
   "outputs": [],
   "source": [
    "\n",
    "from llama_index.embeddings.openai import OpenAIEmbedding\n",
    "from llama_index.llms.openai import OpenAI\n",
    "Settings.llm = OpenAI(model=\"gpt-4o-mini\")\n",
    "Settings.embed_model = OpenAIEmbedding(model=\"text-embedding-3-small\")"
   ]
  },
  {
   "cell_type": "code",
   "execution_count": null,
   "metadata": {},
   "outputs": [],
   "source": [
    "os.makedirs('data/paul_graham/', exist_ok=True)\n"
   ]
  },
  {
   "cell_type": "code",
   "execution_count": null,
   "metadata": {},
   "outputs": [],
   "source": [
    "!curl -o \"data/paul_graham/paul_graham_essay.txt\" \"https://raw.githubusercontent.com/run-llama/llama_index/main/docs/docs/examples/data/paul_graham/paul_graham_essay.txt\""
   ]
  },
  {
   "cell_type": "code",
   "execution_count": null,
   "metadata": {},
   "outputs": [],
   "source": [
    "# load data\n",
    "pg_essay = SimpleDirectoryReader(input_dir=\"./data/paul_graham/\").load_data()\n",
    "\n",
    "pg_vector_index=VectorStoreIndex.from_documents(\n",
    "    pg_essay,\n",
    "    use_async=True,\n",
    "    show_progress=True,\n",
    ")\n"
   ]
  },
  {
   "cell_type": "code",
   "execution_count": null,
   "metadata": {},
   "outputs": [],
   "source": [
    "pg_vector_index.storage_context.persist(persist_dir=\"./pg_vector_index\")"
   ]
  },
  {
   "cell_type": "markdown",
   "metadata": {},
   "source": [
    "# Load the Index (from storage)\n",
    "\n",
    " When you need to use the index again, instead of re-indexing, you can load it from the persisted storage using load_index_from_storage."
   ]
  },
  {
   "cell_type": "code",
   "execution_count": 7,
   "metadata": {},
   "outputs": [
    {
     "name": "stdout",
     "output_type": "stream",
     "text": [
      "**********\n",
      "Trace: index_construction\n",
      "**********\n"
     ]
    }
   ],
   "source": [
    "from llama_index.core import StorageContext, load_index_from_storage\n",
    "\n",
    "# Rebuild storage context\n",
    "storage_context = StorageContext.from_defaults(persist_dir=\"pg_vector_index\")\n",
    "\n",
    "# Load the index\n",
    "pg_vector_index = load_index_from_storage(storage_context)"
   ]
  },
  {
   "cell_type": "code",
   "execution_count": 8,
   "metadata": {},
   "outputs": [
    {
     "data": {
      "text/plain": [
       "<llama_index.core.indices.vector_store.base.VectorStoreIndex at 0x1ebf12997b0>"
      ]
     },
     "execution_count": 8,
     "metadata": {},
     "output_type": "execute_result"
    }
   ],
   "source": [
    "pg_vector_index"
   ]
  },
  {
   "cell_type": "code",
   "execution_count": 9,
   "metadata": {},
   "outputs": [],
   "source": [
    "# build index and query engine\n",
    "vector_query_engine = pg_vector_index.as_query_engine()"
   ]
  },
  {
   "cell_type": "markdown",
   "metadata": {},
   "source": [
    "# Setup sub question query engine\n"
   ]
  },
  {
   "cell_type": "code",
   "execution_count": 15,
   "metadata": {},
   "outputs": [],
   "source": [
    "# setup base query engine as tool\n",
    "query_engine_tools = [\n",
    "    QueryEngineTool(\n",
    "        query_engine=vector_query_engine,\n",
    "        metadata=ToolMetadata(\n",
    "            name=\"pg_essay\",\n",
    "            description=\"Paul Graham essay on What I Worked On\",\n",
    "        ),\n",
    "    ),\n",
    "]\n",
    "\n",
    "query_engine = SubQuestionQueryEngine.from_defaults(\n",
    "    query_engine_tools=query_engine_tools,\n",
    "    use_async=True,\n",
    "    verbose=True,\n",
    ")"
   ]
  },
  {
   "cell_type": "code",
   "execution_count": 16,
   "metadata": {},
   "outputs": [
    {
     "name": "stdout",
     "output_type": "stream",
     "text": [
      "Sub Question 0: What were the key events in Paul Graham's life before he founded Y Combinator?\n",
      "Answer: Key events in Paul Graham's life before founding Y Combinator include his experiences as a startup founder, particularly with Viaweb, which he co-founded and later sold to Yahoo. During this time, he faced challenges such as the complexities of incorporating a company and navigating the startup landscape, which made him aware of the difficulties founders encounter. His interactions with Julian, who helped him with the incorporation process, inspired him to assist other startups in a similar manner. Additionally, his realization of the need for support for early-stage startups led to the development of the Summer Founders Program, where he invited undergraduates to create startups, ultimately resulting in the first batch that included notable companies like Reddit and Twitch. These experiences shaped his understanding of the startup ecosystem and laid the groundwork for the establishment of Y Combinator.\n",
      "====================================\n",
      "Sub Question 1: How did Paul Graham's experiences during the founding of Y Combinator shape his views on startups?\n",
      "Answer: Paul Graham's experiences during the founding of Y Combinator significantly influenced his views on startups by highlighting the need for a more supportive investment model for early-stage companies. His realization that traditional venture capital firms focused on large investments and often did not provide adequate assistance to founders led him to advocate for smaller, more frequent investments that could better support young entrepreneurs. Additionally, his own feelings of helplessness as a founder informed his desire to create a system that would help startups navigate the challenges of getting established, such as incorporation and funding. The innovative batch model he developed for Y Combinator, which involved funding multiple startups simultaneously and providing intensive support, emerged from his understanding of the founders' needs and his own learning process as an investor. This approach not only aimed to provide financial backing but also fostered a community where founders could learn from each other and from experienced mentors.\n",
      "====================================\n",
      "Sub Question 2: What significant changes occurred in Paul Graham's life after the establishment of Y Combinator?\n",
      "Answer: After the establishment of Y Combinator, Paul Graham experienced several significant changes in his life. He shifted his focus primarily to Y Combinator, which became a major part of his work, leading him to gradually reduce his involvement in other projects, such as writing essays and working with the programming language Arc. \n",
      "\n",
      "Graham also faced personal challenges, particularly when his mother suffered a stroke in 2012, which prompted him to reflect on his future with Y Combinator. This reflection led him to the decision to hand over the leadership of Y Combinator to someone else, ultimately recruiting Sam Altman to take over as president. This transition marked a significant change in his role within the organization, as he moved from being a central figure to allowing new leadership to guide Y Combinator's future. \n",
      "\n",
      "Overall, these changes included a shift in priorities, a reevaluation of his career trajectory, and a transition in leadership responsibilities within Y Combinator.\n",
      "====================================\n",
      "Sub Question 3: What insights does Paul Graham provide about the startup ecosystem during his time at Y Combinator?\n",
      "Answer: Paul Graham highlights several insights about the startup ecosystem during his time at Y Combinator. He emphasizes the importance of angel investing, noting that traditional venture capital firms focused on large investments and often did not provide adequate support to early-stage founders. Graham and his team aimed to bridge this gap by offering not only seed funding but also hands-on assistance to startups, drawing from their own experiences as founders.\n",
      "\n",
      "He also discusses the innovative batch model adopted by Y Combinator, which involved funding multiple startups simultaneously and providing intensive support over a three-month period. This approach was born out of a desire to gain experience as investors while helping young entrepreneurs.\n",
      "\n",
      "Additionally, Graham reflects on the significance of attracting bold individuals willing to take risks, as evidenced by the impressive first batch of startups that participated in the Summer Founders Program. This program served as a unique opportunity for undergraduates to explore entrepreneurship instead of pursuing traditional summer jobs.\n",
      "\n",
      "Overall, Graham's insights reveal a shift in the startup landscape towards more accessible and supportive funding models, aimed at nurturing the next generation of founders.\n",
      "====================================\n"
     ]
    }
   ],
   "source": [
    "# iterate through sub_question items captured in SUB_QUESTION event\n",
    "from llama_index.core.callbacks import CBEventType, EventPayload\n",
    "\n",
    "for i, (start_event, end_event) in enumerate(\n",
    "    llama_debug.get_event_pairs(CBEventType.SUB_QUESTION)\n",
    "):\n",
    "    qa_pair = end_event.payload[EventPayload.SUB_QUESTION]\n",
    "    print(\"Sub Question \" + str(i) + \": \" + qa_pair.sub_q.sub_question.strip())\n",
    "    print(\"Answer: \" + qa_pair.answer.strip())\n",
    "    print(\"====================================\")"
   ]
  },
  {
   "cell_type": "code",
   "execution_count": 17,
   "metadata": {},
   "outputs": [
    {
     "name": "stdout",
     "output_type": "stream",
     "text": [
      "Generated 5 sub questions.\n",
      "\u001b[1;3;38;2;237;90;200m[pg_essay] Q: What were the key events in Paul Graham's life before he founded Y Combinator?\n",
      "\u001b[0m\u001b[1;3;38;2;90;149;237m[pg_essay] Q: What projects or essays did Paul Graham work on during his time at Y Combinator?\n",
      "\u001b[0m\u001b[1;3;38;2;11;159;203m[pg_essay] Q: How did Paul Graham's perspective on startups change during his time at Y Combinator?\n",
      "\u001b[0m\u001b[1;3;38;2;155;135;227m[pg_essay] Q: What impact did Y Combinator have on Paul Graham's career after its founding?\n",
      "\u001b[0m\u001b[1;3;38;2;237;90;200m[pg_essay] Q: What are some notable essays Paul Graham wrote after his time at Y Combinator?\n",
      "\u001b[0m\u001b[1;3;38;2;237;90;200m[pg_essay] A: The provided information does not specify any notable essays written by Paul Graham after his time at Y Combinator. It primarily discusses his experiences and insights during the establishment and operation of Y Combinator, as well as some reflections on venture capital and startup culture.\n",
      "\u001b[0m\u001b[1;3;38;2;155;135;227m[pg_essay] A: Y Combinator significantly influenced Paul Graham's career by transforming him from a software developer and essayist into a prominent figure in the startup ecosystem. It allowed him to transition into the role of an angel investor, where he could actively support and mentor emerging entrepreneurs. The establishment of Y Combinator also provided him with a platform to implement his ideas about venture capital, such as making smaller investments and focusing on younger, more technical founders. This shift not only enhanced his professional identity but also positioned him as a key player in shaping the future of startup funding and support, leading to the success of numerous startups that emerged from the program.\n",
      "\u001b[0m\u001b[1;3;38;2;90;149;237m[pg_essay] A: During his time at Y Combinator, Paul Graham worked on several projects, including the development of a new version of the programming language Arc, which he used to write Hacker News. Initially, Hacker News was intended as a news aggregator for startup founders but was later rebranded to focus on engaging a broader audience interested in intellectual curiosity. Additionally, he wrote essays, which were part of his activities alongside his work at Y Combinator. As YC grew, he found that his focus shifted more towards helping founders and managing the organization, while his involvement with Arc diminished over time.\n",
      "\u001b[0m\u001b[1;3;38;2;237;90;200m[pg_essay] A: Key events in Paul Graham's life before founding Y Combinator include his experiences as a founder of Viaweb, a company he co-founded that was one of the first web-based applications. His journey involved navigating the challenges of starting a company, such as getting incorporated and managing the complexities of running a business. Additionally, he had significant interactions with mentors like Julian, who helped him understand the startup process. Graham's background in writing essays and programming in Arc also played a role in shaping his approach to startups and investing. These experiences contributed to his understanding of the needs of founders and the startup ecosystem, ultimately leading to the creation of Y Combinator.\n",
      "\u001b[0m\u001b[1;3;38;2;11;159;203m[pg_essay] A: Paul Graham's perspective on startups evolved significantly during his time at Y Combinator. Initially, he recognized the limitations of traditional venture capital firms, which typically made large investments and did not provide adequate support to early-stage founders. His experiences led him to understand the importance of making smaller investments and offering more hands-on assistance to startups. \n",
      "\n",
      "Through the establishment of Y Combinator, he aimed to create a model that combined funding with intensive support, helping founders navigate the challenges of starting a company. This approach was informed by his own experiences as a founder, where he felt helpless in certain aspects, such as getting incorporated. By focusing on a batch model and fostering a community among startups, he shifted from a passive investor mindset to an active role in nurturing and guiding new ventures. This change was driven by both necessity and a desire to improve the startup ecosystem, ultimately leading to a more supportive environment for founders.\n",
      "\u001b[0m**********\n",
      "Trace: query\n",
      "    |_query -> 9.322529 seconds\n",
      "      |_llm -> 2.011373 seconds\n",
      "      |_sub_question -> 3.737504 seconds\n",
      "        |_query -> 3.736503 seconds\n",
      "          |_retrieve -> 1.080006 seconds\n",
      "            |_embedding -> 1.077007 seconds\n",
      "          |_synthesize -> 2.655492 seconds\n",
      "            |_templating -> 0.0 seconds\n",
      "            |_llm -> 2.644491 seconds\n",
      "      |_sub_question -> 3.577273 seconds\n",
      "        |_query -> 3.576253 seconds\n",
      "          |_retrieve -> 0.97431 seconds\n",
      "            |_embedding -> 0.965316 seconds\n",
      "          |_synthesize -> 2.599945 seconds\n",
      "            |_templating -> 0.0 seconds\n",
      "            |_llm -> 2.578933 seconds\n",
      "      |_sub_question -> 4.05575 seconds\n",
      "        |_query -> 4.05575 seconds\n",
      "          |_retrieve -> 1.042297 seconds\n",
      "            |_embedding -> 1.039297 seconds\n",
      "          |_synthesize -> 3.012451 seconds\n",
      "            |_templating -> 0.0 seconds\n",
      "            |_llm -> 3.000451 seconds\n",
      "      |_sub_question -> 3.329922 seconds\n",
      "        |_query -> 3.329922 seconds\n",
      "          |_retrieve -> 1.016301 seconds\n",
      "            |_embedding -> 1.012301 seconds\n",
      "          |_synthesize -> 2.312624 seconds\n",
      "            |_templating -> 0.0 seconds\n",
      "            |_llm -> 2.302616 seconds\n",
      "      |_sub_question -> 2.593474 seconds\n",
      "        |_query -> 2.591473 seconds\n",
      "          |_retrieve -> 1.208126 seconds\n",
      "            |_embedding -> 1.203127 seconds\n",
      "          |_synthesize -> 1.383347 seconds\n",
      "            |_templating -> 0.0 seconds\n",
      "            |_llm -> 1.37334 seconds\n",
      "      |_synthesize -> 3.239702 seconds\n",
      "        |_templating -> 0.0 seconds\n",
      "        |_llm -> 3.226715 seconds\n",
      "**********\n"
     ]
    }
   ],
   "source": [
    "response = query_engine.query(\n",
    "    \"How was Paul Grahams life different before, during, and after YC?\"\n",
    ")"
   ]
  },
  {
   "cell_type": "code",
   "execution_count": 18,
   "metadata": {},
   "outputs": [
    {
     "name": "stdout",
     "output_type": "stream",
     "text": [
      "Paul Graham's life underwent significant changes before, during, and after Y Combinator. \n",
      "\n",
      "Before founding Y Combinator, he was primarily focused on his role as a founder of Viaweb, where he navigated the challenges of starting a company and gained valuable insights into the startup process. His experiences included interactions with mentors and a strong background in programming and writing, which shaped his understanding of the startup ecosystem.\n",
      "\n",
      "During his time at Y Combinator, Graham transitioned into a more active role in the startup community. He shifted from being a software developer and essayist to becoming a prominent figure in venture capital, emphasizing the importance of providing hands-on support to early-stage founders. His work included developing projects like Hacker News and refining his ideas about startup funding and mentorship.\n",
      "\n",
      "After Y Combinator's founding, Graham's career evolved further as he became an influential angel investor and a key player in shaping the future of startup funding. This period solidified his identity within the startup ecosystem and allowed him to implement his vision for supporting emerging entrepreneurs, leading to the success of many startups that emerged from the program.\n"
     ]
    }
   ],
   "source": [
    "print(response)"
   ]
  },
  {
   "cell_type": "code",
   "execution_count": 14,
   "metadata": {},
   "outputs": [
    {
     "name": "stdout",
     "output_type": "stream",
     "text": [
      "Sub Question 0: What were the key events in Paul Graham's life before he founded Y Combinator?\n",
      "Answer: Key events in Paul Graham's life before founding Y Combinator include his experiences as a startup founder, particularly with Viaweb, which he co-founded and later sold to Yahoo. During this time, he faced challenges such as the complexities of incorporating a company and navigating the startup landscape, which made him aware of the difficulties founders encounter. His interactions with Julian, who helped him with the incorporation process, inspired him to assist other startups in a similar manner. Additionally, his realization of the need for support for early-stage startups led to the development of the Summer Founders Program, where he invited undergraduates to create startups, ultimately resulting in the first batch that included notable companies like Reddit and Twitch. These experiences shaped his understanding of the startup ecosystem and laid the groundwork for the establishment of Y Combinator.\n",
      "====================================\n",
      "Sub Question 1: How did Paul Graham's experiences during the founding of Y Combinator shape his views on startups?\n",
      "Answer: Paul Graham's experiences during the founding of Y Combinator significantly influenced his views on startups by highlighting the need for a more supportive investment model for early-stage companies. His realization that traditional venture capital firms focused on large investments and often did not provide adequate assistance to founders led him to advocate for smaller, more frequent investments that could better support young entrepreneurs. Additionally, his own feelings of helplessness as a founder informed his desire to create a system that would help startups navigate the challenges of getting established, such as incorporation and funding. The innovative batch model he developed for Y Combinator, which involved funding multiple startups simultaneously and providing intensive support, emerged from his understanding of the founders' needs and his own learning process as an investor. This approach not only aimed to provide financial backing but also fostered a community where founders could learn from each other and from experienced mentors.\n",
      "====================================\n",
      "Sub Question 2: What significant changes occurred in Paul Graham's life after the establishment of Y Combinator?\n",
      "Answer: After the establishment of Y Combinator, Paul Graham experienced several significant changes in his life. He shifted his focus primarily to Y Combinator, which became a major part of his work, leading him to gradually reduce his involvement in other projects, such as writing essays and working with the programming language Arc. \n",
      "\n",
      "Graham also faced personal challenges, particularly when his mother suffered a stroke in 2012, which prompted him to reflect on his future with Y Combinator. This reflection led him to the decision to hand over the leadership of Y Combinator to someone else, ultimately recruiting Sam Altman to take over as president. This transition marked a significant change in his role within the organization, as he moved from being a central figure to allowing new leadership to guide Y Combinator's future. \n",
      "\n",
      "Overall, these changes included a shift in priorities, a reevaluation of his career trajectory, and a transition in leadership responsibilities within Y Combinator.\n",
      "====================================\n",
      "Sub Question 3: What insights does Paul Graham provide about the startup ecosystem during his time at Y Combinator?\n",
      "Answer: Paul Graham highlights several insights about the startup ecosystem during his time at Y Combinator. He emphasizes the importance of angel investing, noting that traditional venture capital firms focused on large investments and often did not provide adequate support to early-stage founders. Graham and his team aimed to bridge this gap by offering not only seed funding but also hands-on assistance to startups, drawing from their own experiences as founders.\n",
      "\n",
      "He also discusses the innovative batch model adopted by Y Combinator, which involved funding multiple startups simultaneously and providing intensive support over a three-month period. This approach was born out of a desire to gain experience as investors while helping young entrepreneurs.\n",
      "\n",
      "Additionally, Graham reflects on the significance of attracting bold individuals willing to take risks, as evidenced by the impressive first batch of startups that participated in the Summer Founders Program. This program served as a unique opportunity for undergraduates to explore entrepreneurship instead of pursuing traditional summer jobs.\n",
      "\n",
      "Overall, Graham's insights reveal a shift in the startup landscape towards more accessible and supportive funding models, aimed at nurturing the next generation of founders.\n",
      "====================================\n"
     ]
    }
   ],
   "source": [
    "# iterate through sub_question items captured in SUB_QUESTION event\n",
    "from llama_index.core.callbacks import CBEventType, EventPayload\n",
    "\n",
    "for i, (start_event, end_event) in enumerate(\n",
    "    llama_debug.get_event_pairs(CBEventType.SUB_QUESTION)\n",
    "):\n",
    "    qa_pair = end_event.payload[EventPayload.SUB_QUESTION]\n",
    "    print(\"Sub Question \" + str(i) + \": \" + qa_pair.sub_q.sub_question.strip())\n",
    "    print(\"Answer: \" + qa_pair.answer.strip())\n",
    "    print(\"====================================\")"
   ]
  },
  {
   "cell_type": "code",
   "execution_count": null,
   "metadata": {},
   "outputs": [],
   "source": []
  },
  {
   "cell_type": "code",
   "execution_count": null,
   "metadata": {},
   "outputs": [],
   "source": []
  },
  {
   "cell_type": "code",
   "execution_count": null,
   "metadata": {},
   "outputs": [],
   "source": []
  },
  {
   "cell_type": "code",
   "execution_count": null,
   "metadata": {},
   "outputs": [],
   "source": []
  },
  {
   "cell_type": "code",
   "execution_count": null,
   "metadata": {},
   "outputs": [],
   "source": []
  }
 ],
 "metadata": {
  "kernelspec": {
   "display_name": "Python 3",
   "language": "python",
   "name": "python3"
  },
  "language_info": {
   "codemirror_mode": {
    "name": "ipython",
    "version": 3
   },
   "file_extension": ".py",
   "mimetype": "text/x-python",
   "name": "python",
   "nbconvert_exporter": "python",
   "pygments_lexer": "ipython3",
   "version": "3.10.15"
  }
 },
 "nbformat": 4,
 "nbformat_minor": 2
}
