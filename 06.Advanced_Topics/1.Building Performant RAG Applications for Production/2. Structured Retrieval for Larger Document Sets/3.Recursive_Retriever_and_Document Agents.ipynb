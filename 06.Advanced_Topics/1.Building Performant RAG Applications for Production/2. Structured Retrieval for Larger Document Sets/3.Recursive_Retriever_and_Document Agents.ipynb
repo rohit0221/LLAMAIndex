{
 "cells": [
  {
   "cell_type": "markdown",
   "metadata": {},
   "source": [
    "# Recursive Retriever + Document Agents\n",
    "\n",
    "This guide shows how to combine recursive retrieval and \"document agents\" for advanced decision making over heterogeneous documents.\n",
    "\n",
    "There are two motivating factors that lead to solutions for better retrieval:\n",
    "\n",
    "* Decoupling retrieval embeddings from chunk-based synthesis. Oftentimes fetching documents by their summaries will return more relevant context to queries rather than raw chunks. This is something that recursive retrieval directly allows.\n",
    "* Within a document, users may need to dynamically perform tasks beyond fact-based question-answering. We introduce the concept of \"document agents\" - agents that have access to both vector search and summary tools for a given document."
   ]
  },
  {
   "cell_type": "code",
   "execution_count": 1,
   "metadata": {},
   "outputs": [],
   "source": [
    "from dotenv import load_dotenv\n",
    "load_dotenv()\n",
    "import os"
   ]
  },
  {
   "cell_type": "code",
   "execution_count": 2,
   "metadata": {},
   "outputs": [
    {
     "name": "stdout",
     "output_type": "stream",
     "text": [
      "Requirement already satisfied: llama-index-llms-openai in c:\\code\\github\\llamaindex\\venv\\lib\\site-packages (0.2.16)\n",
      "Requirement already satisfied: llama-index-core<0.12.0,>=0.11.7 in c:\\code\\github\\llamaindex\\venv\\lib\\site-packages (from llama-index-llms-openai) (0.11.20)\n",
      "Requirement already satisfied: openai<2.0.0,>=1.40.0 in c:\\code\\github\\llamaindex\\venv\\lib\\site-packages (from llama-index-llms-openai) (1.52.2)\n",
      "Requirement already satisfied: PyYAML>=6.0.1 in c:\\code\\github\\llamaindex\\venv\\lib\\site-packages (from llama-index-core<0.12.0,>=0.11.7->llama-index-llms-openai) (6.0.2)\n",
      "Requirement already satisfied: SQLAlchemy>=1.4.49 in c:\\code\\github\\llamaindex\\venv\\lib\\site-packages (from SQLAlchemy[asyncio]>=1.4.49->llama-index-core<0.12.0,>=0.11.7->llama-index-llms-openai) (2.0.36)\n",
      "Requirement already satisfied: aiohttp<4.0.0,>=3.8.6 in c:\\code\\github\\llamaindex\\venv\\lib\\site-packages (from llama-index-core<0.12.0,>=0.11.7->llama-index-llms-openai) (3.10.10)\n",
      "Requirement already satisfied: dataclasses-json in c:\\code\\github\\llamaindex\\venv\\lib\\site-packages (from llama-index-core<0.12.0,>=0.11.7->llama-index-llms-openai) (0.6.7)\n",
      "Requirement already satisfied: deprecated>=1.2.9.3 in c:\\code\\github\\llamaindex\\venv\\lib\\site-packages (from llama-index-core<0.12.0,>=0.11.7->llama-index-llms-openai) (1.2.14)\n",
      "Requirement already satisfied: dirtyjson<2.0.0,>=1.0.8 in c:\\code\\github\\llamaindex\\venv\\lib\\site-packages (from llama-index-core<0.12.0,>=0.11.7->llama-index-llms-openai) (1.0.8)\n",
      "Requirement already satisfied: fsspec>=2023.5.0 in c:\\code\\github\\llamaindex\\venv\\lib\\site-packages (from llama-index-core<0.12.0,>=0.11.7->llama-index-llms-openai) (2024.9.0)\n",
      "Requirement already satisfied: httpx in c:\\code\\github\\llamaindex\\venv\\lib\\site-packages (from llama-index-core<0.12.0,>=0.11.7->llama-index-llms-openai) (0.27.2)\n",
      "Requirement already satisfied: nest-asyncio<2.0.0,>=1.5.8 in c:\\code\\github\\llamaindex\\venv\\lib\\site-packages (from llama-index-core<0.12.0,>=0.11.7->llama-index-llms-openai) (1.6.0)\n",
      "Requirement already satisfied: networkx>=3.0 in c:\\code\\github\\llamaindex\\venv\\lib\\site-packages (from llama-index-core<0.12.0,>=0.11.7->llama-index-llms-openai) (3.4.2)\n",
      "Requirement already satisfied: nltk>3.8.1 in c:\\code\\github\\llamaindex\\venv\\lib\\site-packages (from llama-index-core<0.12.0,>=0.11.7->llama-index-llms-openai) (3.9.1)\n",
      "Requirement already satisfied: numpy<2.0.0 in c:\\code\\github\\llamaindex\\venv\\lib\\site-packages (from llama-index-core<0.12.0,>=0.11.7->llama-index-llms-openai) (1.26.4)\n",
      "Requirement already satisfied: pillow>=9.0.0 in c:\\code\\github\\llamaindex\\venv\\lib\\site-packages (from llama-index-core<0.12.0,>=0.11.7->llama-index-llms-openai) (11.0.0)\n",
      "Requirement already satisfied: pydantic<3.0.0,>=2.7.0 in c:\\code\\github\\llamaindex\\venv\\lib\\site-packages (from llama-index-core<0.12.0,>=0.11.7->llama-index-llms-openai) (2.9.2)\n",
      "Requirement already satisfied: requests>=2.31.0 in c:\\code\\github\\llamaindex\\venv\\lib\\site-packages (from llama-index-core<0.12.0,>=0.11.7->llama-index-llms-openai) (2.32.3)\n",
      "Requirement already satisfied: tenacity!=8.4.0,<9.0.0,>=8.2.0 in c:\\code\\github\\llamaindex\\venv\\lib\\site-packages (from llama-index-core<0.12.0,>=0.11.7->llama-index-llms-openai) (8.5.0)\n",
      "Requirement already satisfied: tiktoken>=0.3.3 in c:\\code\\github\\llamaindex\\venv\\lib\\site-packages (from llama-index-core<0.12.0,>=0.11.7->llama-index-llms-openai) (0.8.0)\n",
      "Requirement already satisfied: tqdm<5.0.0,>=4.66.1 in c:\\code\\github\\llamaindex\\venv\\lib\\site-packages (from llama-index-core<0.12.0,>=0.11.7->llama-index-llms-openai) (4.66.5)\n",
      "Requirement already satisfied: typing-extensions>=4.5.0 in c:\\code\\github\\llamaindex\\venv\\lib\\site-packages (from llama-index-core<0.12.0,>=0.11.7->llama-index-llms-openai) (4.12.2)\n",
      "Requirement already satisfied: typing-inspect>=0.8.0 in c:\\code\\github\\llamaindex\\venv\\lib\\site-packages (from llama-index-core<0.12.0,>=0.11.7->llama-index-llms-openai) (0.9.0)\n",
      "Requirement already satisfied: wrapt in c:\\code\\github\\llamaindex\\venv\\lib\\site-packages (from llama-index-core<0.12.0,>=0.11.7->llama-index-llms-openai) (1.16.0)\n",
      "Requirement already satisfied: anyio<5,>=3.5.0 in c:\\code\\github\\llamaindex\\venv\\lib\\site-packages (from openai<2.0.0,>=1.40.0->llama-index-llms-openai) (4.6.2.post1)\n",
      "Requirement already satisfied: distro<2,>=1.7.0 in c:\\code\\github\\llamaindex\\venv\\lib\\site-packages (from openai<2.0.0,>=1.40.0->llama-index-llms-openai) (1.9.0)\n",
      "Requirement already satisfied: jiter<1,>=0.4.0 in c:\\code\\github\\llamaindex\\venv\\lib\\site-packages (from openai<2.0.0,>=1.40.0->llama-index-llms-openai) (0.6.1)\n",
      "Requirement already satisfied: sniffio in c:\\code\\github\\llamaindex\\venv\\lib\\site-packages (from openai<2.0.0,>=1.40.0->llama-index-llms-openai) (1.3.1)\n",
      "Requirement already satisfied: aiohappyeyeballs>=2.3.0 in c:\\code\\github\\llamaindex\\venv\\lib\\site-packages (from aiohttp<4.0.0,>=3.8.6->llama-index-core<0.12.0,>=0.11.7->llama-index-llms-openai) (2.4.3)\n",
      "Requirement already satisfied: aiosignal>=1.1.2 in c:\\code\\github\\llamaindex\\venv\\lib\\site-packages (from aiohttp<4.0.0,>=3.8.6->llama-index-core<0.12.0,>=0.11.7->llama-index-llms-openai) (1.3.1)\n",
      "Requirement already satisfied: attrs>=17.3.0 in c:\\code\\github\\llamaindex\\venv\\lib\\site-packages (from aiohttp<4.0.0,>=3.8.6->llama-index-core<0.12.0,>=0.11.7->llama-index-llms-openai) (24.2.0)\n",
      "Requirement already satisfied: frozenlist>=1.1.1 in c:\\code\\github\\llamaindex\\venv\\lib\\site-packages (from aiohttp<4.0.0,>=3.8.6->llama-index-core<0.12.0,>=0.11.7->llama-index-llms-openai) (1.5.0)\n",
      "Requirement already satisfied: multidict<7.0,>=4.5 in c:\\code\\github\\llamaindex\\venv\\lib\\site-packages (from aiohttp<4.0.0,>=3.8.6->llama-index-core<0.12.0,>=0.11.7->llama-index-llms-openai) (6.1.0)\n",
      "Requirement already satisfied: yarl<2.0,>=1.12.0 in c:\\code\\github\\llamaindex\\venv\\lib\\site-packages (from aiohttp<4.0.0,>=3.8.6->llama-index-core<0.12.0,>=0.11.7->llama-index-llms-openai) (1.16.0)\n",
      "Requirement already satisfied: async-timeout<5.0,>=4.0 in c:\\code\\github\\llamaindex\\venv\\lib\\site-packages (from aiohttp<4.0.0,>=3.8.6->llama-index-core<0.12.0,>=0.11.7->llama-index-llms-openai) (4.0.3)\n",
      "Requirement already satisfied: idna>=2.8 in c:\\code\\github\\llamaindex\\venv\\lib\\site-packages (from anyio<5,>=3.5.0->openai<2.0.0,>=1.40.0->llama-index-llms-openai) (3.10)\n",
      "Requirement already satisfied: exceptiongroup>=1.0.2 in c:\\code\\github\\llamaindex\\venv\\lib\\site-packages (from anyio<5,>=3.5.0->openai<2.0.0,>=1.40.0->llama-index-llms-openai) (1.2.2)\n",
      "Requirement already satisfied: certifi in c:\\code\\github\\llamaindex\\venv\\lib\\site-packages (from httpx->llama-index-core<0.12.0,>=0.11.7->llama-index-llms-openai) (2024.8.30)\n",
      "Requirement already satisfied: httpcore==1.* in c:\\code\\github\\llamaindex\\venv\\lib\\site-packages (from httpx->llama-index-core<0.12.0,>=0.11.7->llama-index-llms-openai) (1.0.6)\n",
      "Requirement already satisfied: h11<0.15,>=0.13 in c:\\code\\github\\llamaindex\\venv\\lib\\site-packages (from httpcore==1.*->httpx->llama-index-core<0.12.0,>=0.11.7->llama-index-llms-openai) (0.14.0)\n",
      "Requirement already satisfied: click in c:\\code\\github\\llamaindex\\venv\\lib\\site-packages (from nltk>3.8.1->llama-index-core<0.12.0,>=0.11.7->llama-index-llms-openai) (8.1.7)\n",
      "Requirement already satisfied: joblib in c:\\code\\github\\llamaindex\\venv\\lib\\site-packages (from nltk>3.8.1->llama-index-core<0.12.0,>=0.11.7->llama-index-llms-openai) (1.4.2)\n",
      "Requirement already satisfied: regex>=2021.8.3 in c:\\code\\github\\llamaindex\\venv\\lib\\site-packages (from nltk>3.8.1->llama-index-core<0.12.0,>=0.11.7->llama-index-llms-openai) (2024.9.11)\n",
      "Requirement already satisfied: annotated-types>=0.6.0 in c:\\code\\github\\llamaindex\\venv\\lib\\site-packages (from pydantic<3.0.0,>=2.7.0->llama-index-core<0.12.0,>=0.11.7->llama-index-llms-openai) (0.7.0)\n",
      "Requirement already satisfied: pydantic-core==2.23.4 in c:\\code\\github\\llamaindex\\venv\\lib\\site-packages (from pydantic<3.0.0,>=2.7.0->llama-index-core<0.12.0,>=0.11.7->llama-index-llms-openai) (2.23.4)\n",
      "Requirement already satisfied: charset-normalizer<4,>=2 in c:\\code\\github\\llamaindex\\venv\\lib\\site-packages (from requests>=2.31.0->llama-index-core<0.12.0,>=0.11.7->llama-index-llms-openai) (3.4.0)\n",
      "Requirement already satisfied: urllib3<3,>=1.21.1 in c:\\code\\github\\llamaindex\\venv\\lib\\site-packages (from requests>=2.31.0->llama-index-core<0.12.0,>=0.11.7->llama-index-llms-openai) (2.2.3)\n",
      "Requirement already satisfied: greenlet!=0.4.17 in c:\\code\\github\\llamaindex\\venv\\lib\\site-packages (from SQLAlchemy>=1.4.49->SQLAlchemy[asyncio]>=1.4.49->llama-index-core<0.12.0,>=0.11.7->llama-index-llms-openai) (3.1.1)\n",
      "Requirement already satisfied: colorama in c:\\code\\github\\llamaindex\\venv\\lib\\site-packages (from tqdm<5.0.0,>=4.66.1->llama-index-core<0.12.0,>=0.11.7->llama-index-llms-openai) (0.4.6)\n",
      "Requirement already satisfied: mypy-extensions>=0.3.0 in c:\\code\\github\\llamaindex\\venv\\lib\\site-packages (from typing-inspect>=0.8.0->llama-index-core<0.12.0,>=0.11.7->llama-index-llms-openai) (1.0.0)\n",
      "Requirement already satisfied: marshmallow<4.0.0,>=3.18.0 in c:\\code\\github\\llamaindex\\venv\\lib\\site-packages (from dataclasses-json->llama-index-core<0.12.0,>=0.11.7->llama-index-llms-openai) (3.23.0)\n",
      "Requirement already satisfied: packaging>=17.0 in c:\\code\\github\\llamaindex\\venv\\lib\\site-packages (from marshmallow<4.0.0,>=3.18.0->dataclasses-json->llama-index-core<0.12.0,>=0.11.7->llama-index-llms-openai) (24.1)\n",
      "Requirement already satisfied: propcache>=0.2.0 in c:\\code\\github\\llamaindex\\venv\\lib\\site-packages (from yarl<2.0,>=1.12.0->aiohttp<4.0.0,>=3.8.6->llama-index-core<0.12.0,>=0.11.7->llama-index-llms-openai) (0.2.0)\n",
      "Note: you may need to restart the kernel to use updated packages.\n",
      "Requirement already satisfied: llama-index-agent-openai in c:\\code\\github\\llamaindex\\venv\\lib\\site-packages (0.3.4)\n",
      "Requirement already satisfied: llama-index-core<0.12.0,>=0.11.0 in c:\\code\\github\\llamaindex\\venv\\lib\\site-packages (from llama-index-agent-openai) (0.11.20)\n",
      "Requirement already satisfied: llama-index-llms-openai<0.3.0,>=0.2.9 in c:\\code\\github\\llamaindex\\venv\\lib\\site-packages (from llama-index-agent-openai) (0.2.16)\n",
      "Requirement already satisfied: openai>=1.14.0 in c:\\code\\github\\llamaindex\\venv\\lib\\site-packages (from llama-index-agent-openai) (1.52.2)\n",
      "Requirement already satisfied: PyYAML>=6.0.1 in c:\\code\\github\\llamaindex\\venv\\lib\\site-packages (from llama-index-core<0.12.0,>=0.11.0->llama-index-agent-openai) (6.0.2)\n",
      "Requirement already satisfied: SQLAlchemy>=1.4.49 in c:\\code\\github\\llamaindex\\venv\\lib\\site-packages (from SQLAlchemy[asyncio]>=1.4.49->llama-index-core<0.12.0,>=0.11.0->llama-index-agent-openai) (2.0.36)\n",
      "Requirement already satisfied: aiohttp<4.0.0,>=3.8.6 in c:\\code\\github\\llamaindex\\venv\\lib\\site-packages (from llama-index-core<0.12.0,>=0.11.0->llama-index-agent-openai) (3.10.10)\n",
      "Requirement already satisfied: dataclasses-json in c:\\code\\github\\llamaindex\\venv\\lib\\site-packages (from llama-index-core<0.12.0,>=0.11.0->llama-index-agent-openai) (0.6.7)\n",
      "Requirement already satisfied: deprecated>=1.2.9.3 in c:\\code\\github\\llamaindex\\venv\\lib\\site-packages (from llama-index-core<0.12.0,>=0.11.0->llama-index-agent-openai) (1.2.14)\n",
      "Requirement already satisfied: dirtyjson<2.0.0,>=1.0.8 in c:\\code\\github\\llamaindex\\venv\\lib\\site-packages (from llama-index-core<0.12.0,>=0.11.0->llama-index-agent-openai) (1.0.8)\n",
      "Requirement already satisfied: fsspec>=2023.5.0 in c:\\code\\github\\llamaindex\\venv\\lib\\site-packages (from llama-index-core<0.12.0,>=0.11.0->llama-index-agent-openai) (2024.9.0)\n",
      "Requirement already satisfied: httpx in c:\\code\\github\\llamaindex\\venv\\lib\\site-packages (from llama-index-core<0.12.0,>=0.11.0->llama-index-agent-openai) (0.27.2)\n",
      "Requirement already satisfied: nest-asyncio<2.0.0,>=1.5.8 in c:\\code\\github\\llamaindex\\venv\\lib\\site-packages (from llama-index-core<0.12.0,>=0.11.0->llama-index-agent-openai) (1.6.0)\n",
      "Requirement already satisfied: networkx>=3.0 in c:\\code\\github\\llamaindex\\venv\\lib\\site-packages (from llama-index-core<0.12.0,>=0.11.0->llama-index-agent-openai) (3.4.2)\n",
      "Requirement already satisfied: nltk>3.8.1 in c:\\code\\github\\llamaindex\\venv\\lib\\site-packages (from llama-index-core<0.12.0,>=0.11.0->llama-index-agent-openai) (3.9.1)\n",
      "Requirement already satisfied: numpy<2.0.0 in c:\\code\\github\\llamaindex\\venv\\lib\\site-packages (from llama-index-core<0.12.0,>=0.11.0->llama-index-agent-openai) (1.26.4)\n",
      "Requirement already satisfied: pillow>=9.0.0 in c:\\code\\github\\llamaindex\\venv\\lib\\site-packages (from llama-index-core<0.12.0,>=0.11.0->llama-index-agent-openai) (11.0.0)\n",
      "Requirement already satisfied: pydantic<3.0.0,>=2.7.0 in c:\\code\\github\\llamaindex\\venv\\lib\\site-packages (from llama-index-core<0.12.0,>=0.11.0->llama-index-agent-openai) (2.9.2)\n",
      "Requirement already satisfied: requests>=2.31.0 in c:\\code\\github\\llamaindex\\venv\\lib\\site-packages (from llama-index-core<0.12.0,>=0.11.0->llama-index-agent-openai) (2.32.3)\n",
      "Requirement already satisfied: tenacity!=8.4.0,<9.0.0,>=8.2.0 in c:\\code\\github\\llamaindex\\venv\\lib\\site-packages (from llama-index-core<0.12.0,>=0.11.0->llama-index-agent-openai) (8.5.0)\n",
      "Requirement already satisfied: tiktoken>=0.3.3 in c:\\code\\github\\llamaindex\\venv\\lib\\site-packages (from llama-index-core<0.12.0,>=0.11.0->llama-index-agent-openai) (0.8.0)\n",
      "Requirement already satisfied: tqdm<5.0.0,>=4.66.1 in c:\\code\\github\\llamaindex\\venv\\lib\\site-packages (from llama-index-core<0.12.0,>=0.11.0->llama-index-agent-openai) (4.66.5)\n",
      "Requirement already satisfied: typing-extensions>=4.5.0 in c:\\code\\github\\llamaindex\\venv\\lib\\site-packages (from llama-index-core<0.12.0,>=0.11.0->llama-index-agent-openai) (4.12.2)\n",
      "Requirement already satisfied: typing-inspect>=0.8.0 in c:\\code\\github\\llamaindex\\venv\\lib\\site-packages (from llama-index-core<0.12.0,>=0.11.0->llama-index-agent-openai) (0.9.0)\n",
      "Requirement already satisfied: wrapt in c:\\code\\github\\llamaindex\\venv\\lib\\site-packages (from llama-index-core<0.12.0,>=0.11.0->llama-index-agent-openai) (1.16.0)\n",
      "Requirement already satisfied: anyio<5,>=3.5.0 in c:\\code\\github\\llamaindex\\venv\\lib\\site-packages (from openai>=1.14.0->llama-index-agent-openai) (4.6.2.post1)\n",
      "Requirement already satisfied: distro<2,>=1.7.0 in c:\\code\\github\\llamaindex\\venv\\lib\\site-packages (from openai>=1.14.0->llama-index-agent-openai) (1.9.0)\n",
      "Requirement already satisfied: jiter<1,>=0.4.0 in c:\\code\\github\\llamaindex\\venv\\lib\\site-packages (from openai>=1.14.0->llama-index-agent-openai) (0.6.1)\n",
      "Requirement already satisfied: sniffio in c:\\code\\github\\llamaindex\\venv\\lib\\site-packages (from openai>=1.14.0->llama-index-agent-openai) (1.3.1)\n",
      "Requirement already satisfied: aiohappyeyeballs>=2.3.0 in c:\\code\\github\\llamaindex\\venv\\lib\\site-packages (from aiohttp<4.0.0,>=3.8.6->llama-index-core<0.12.0,>=0.11.0->llama-index-agent-openai) (2.4.3)\n",
      "Requirement already satisfied: aiosignal>=1.1.2 in c:\\code\\github\\llamaindex\\venv\\lib\\site-packages (from aiohttp<4.0.0,>=3.8.6->llama-index-core<0.12.0,>=0.11.0->llama-index-agent-openai) (1.3.1)\n",
      "Requirement already satisfied: attrs>=17.3.0 in c:\\code\\github\\llamaindex\\venv\\lib\\site-packages (from aiohttp<4.0.0,>=3.8.6->llama-index-core<0.12.0,>=0.11.0->llama-index-agent-openai) (24.2.0)\n",
      "Requirement already satisfied: frozenlist>=1.1.1 in c:\\code\\github\\llamaindex\\venv\\lib\\site-packages (from aiohttp<4.0.0,>=3.8.6->llama-index-core<0.12.0,>=0.11.0->llama-index-agent-openai) (1.5.0)\n",
      "Requirement already satisfied: multidict<7.0,>=4.5 in c:\\code\\github\\llamaindex\\venv\\lib\\site-packages (from aiohttp<4.0.0,>=3.8.6->llama-index-core<0.12.0,>=0.11.0->llama-index-agent-openai) (6.1.0)\n",
      "Requirement already satisfied: yarl<2.0,>=1.12.0 in c:\\code\\github\\llamaindex\\venv\\lib\\site-packages (from aiohttp<4.0.0,>=3.8.6->llama-index-core<0.12.0,>=0.11.0->llama-index-agent-openai) (1.16.0)\n",
      "Requirement already satisfied: async-timeout<5.0,>=4.0 in c:\\code\\github\\llamaindex\\venv\\lib\\site-packages (from aiohttp<4.0.0,>=3.8.6->llama-index-core<0.12.0,>=0.11.0->llama-index-agent-openai) (4.0.3)\n",
      "Requirement already satisfied: idna>=2.8 in c:\\code\\github\\llamaindex\\venv\\lib\\site-packages (from anyio<5,>=3.5.0->openai>=1.14.0->llama-index-agent-openai) (3.10)\n",
      "Requirement already satisfied: exceptiongroup>=1.0.2 in c:\\code\\github\\llamaindex\\venv\\lib\\site-packages (from anyio<5,>=3.5.0->openai>=1.14.0->llama-index-agent-openai) (1.2.2)\n",
      "Requirement already satisfied: certifi in c:\\code\\github\\llamaindex\\venv\\lib\\site-packages (from httpx->llama-index-core<0.12.0,>=0.11.0->llama-index-agent-openai) (2024.8.30)\n",
      "Requirement already satisfied: httpcore==1.* in c:\\code\\github\\llamaindex\\venv\\lib\\site-packages (from httpx->llama-index-core<0.12.0,>=0.11.0->llama-index-agent-openai) (1.0.6)\n",
      "Requirement already satisfied: h11<0.15,>=0.13 in c:\\code\\github\\llamaindex\\venv\\lib\\site-packages (from httpcore==1.*->httpx->llama-index-core<0.12.0,>=0.11.0->llama-index-agent-openai) (0.14.0)\n",
      "Requirement already satisfied: click in c:\\code\\github\\llamaindex\\venv\\lib\\site-packages (from nltk>3.8.1->llama-index-core<0.12.0,>=0.11.0->llama-index-agent-openai) (8.1.7)\n",
      "Requirement already satisfied: joblib in c:\\code\\github\\llamaindex\\venv\\lib\\site-packages (from nltk>3.8.1->llama-index-core<0.12.0,>=0.11.0->llama-index-agent-openai) (1.4.2)\n",
      "Requirement already satisfied: regex>=2021.8.3 in c:\\code\\github\\llamaindex\\venv\\lib\\site-packages (from nltk>3.8.1->llama-index-core<0.12.0,>=0.11.0->llama-index-agent-openai) (2024.9.11)\n",
      "Requirement already satisfied: annotated-types>=0.6.0 in c:\\code\\github\\llamaindex\\venv\\lib\\site-packages (from pydantic<3.0.0,>=2.7.0->llama-index-core<0.12.0,>=0.11.0->llama-index-agent-openai) (0.7.0)\n",
      "Requirement already satisfied: pydantic-core==2.23.4 in c:\\code\\github\\llamaindex\\venv\\lib\\site-packages (from pydantic<3.0.0,>=2.7.0->llama-index-core<0.12.0,>=0.11.0->llama-index-agent-openai) (2.23.4)\n",
      "Requirement already satisfied: charset-normalizer<4,>=2 in c:\\code\\github\\llamaindex\\venv\\lib\\site-packages (from requests>=2.31.0->llama-index-core<0.12.0,>=0.11.0->llama-index-agent-openai) (3.4.0)\n",
      "Requirement already satisfied: urllib3<3,>=1.21.1 in c:\\code\\github\\llamaindex\\venv\\lib\\site-packages (from requests>=2.31.0->llama-index-core<0.12.0,>=0.11.0->llama-index-agent-openai) (2.2.3)\n",
      "Requirement already satisfied: greenlet!=0.4.17 in c:\\code\\github\\llamaindex\\venv\\lib\\site-packages (from SQLAlchemy>=1.4.49->SQLAlchemy[asyncio]>=1.4.49->llama-index-core<0.12.0,>=0.11.0->llama-index-agent-openai) (3.1.1)\n",
      "Requirement already satisfied: colorama in c:\\code\\github\\llamaindex\\venv\\lib\\site-packages (from tqdm<5.0.0,>=4.66.1->llama-index-core<0.12.0,>=0.11.0->llama-index-agent-openai) (0.4.6)\n",
      "Requirement already satisfied: mypy-extensions>=0.3.0 in c:\\code\\github\\llamaindex\\venv\\lib\\site-packages (from typing-inspect>=0.8.0->llama-index-core<0.12.0,>=0.11.0->llama-index-agent-openai) (1.0.0)\n",
      "Requirement already satisfied: marshmallow<4.0.0,>=3.18.0 in c:\\code\\github\\llamaindex\\venv\\lib\\site-packages (from dataclasses-json->llama-index-core<0.12.0,>=0.11.0->llama-index-agent-openai) (3.23.0)\n",
      "Requirement already satisfied: packaging>=17.0 in c:\\code\\github\\llamaindex\\venv\\lib\\site-packages (from marshmallow<4.0.0,>=3.18.0->dataclasses-json->llama-index-core<0.12.0,>=0.11.0->llama-index-agent-openai) (24.1)\n",
      "Requirement already satisfied: propcache>=0.2.0 in c:\\code\\github\\llamaindex\\venv\\lib\\site-packages (from yarl<2.0,>=1.12.0->aiohttp<4.0.0,>=3.8.6->llama-index-core<0.12.0,>=0.11.0->llama-index-agent-openai) (0.2.0)\n",
      "Note: you may need to restart the kernel to use updated packages.\n"
     ]
    }
   ],
   "source": [
    "%pip install llama-index-llms-openai\n",
    "%pip install llama-index-agent-openai"
   ]
  },
  {
   "cell_type": "code",
   "execution_count": 3,
   "metadata": {},
   "outputs": [],
   "source": [
    "from llama_index.core import VectorStoreIndex, SimpleDirectoryReader\n",
    "from llama_index.core import SummaryIndex\n",
    "from llama_index.core.schema import IndexNode\n",
    "from llama_index.core.tools import QueryEngineTool, ToolMetadata\n",
    "from llama_index.llms.openai import OpenAI"
   ]
  },
  {
   "cell_type": "code",
   "execution_count": 4,
   "metadata": {},
   "outputs": [],
   "source": [
    "wiki_titles = [\"Toronto\", \"Seattle\", \"Chicago\", \"Boston\", \"Houston\"]"
   ]
  },
  {
   "cell_type": "code",
   "execution_count": 5,
   "metadata": {},
   "outputs": [],
   "source": [
    "from pathlib import Path\n",
    "\n",
    "import requests\n",
    "\n",
    "for title in wiki_titles:\n",
    "    response = requests.get(\n",
    "        \"https://en.wikipedia.org/w/api.php\",\n",
    "        params={\n",
    "            \"action\": \"query\",\n",
    "            \"format\": \"json\",\n",
    "            \"titles\": title,\n",
    "            \"prop\": \"extracts\",\n",
    "            # 'exintro': True,\n",
    "            \"explaintext\": True,\n",
    "        },\n",
    "    ).json()\n",
    "    page = next(iter(response[\"query\"][\"pages\"].values()))\n",
    "    wiki_text = page[\"extract\"]\n",
    "\n",
    "    data_path = Path(\"data\")\n",
    "    if not data_path.exists():\n",
    "        Path.mkdir(data_path)\n",
    "\n",
    "    with open(data_path / f\"{title}.txt\", \"w\") as fp:\n",
    "        fp.write(wiki_text)"
   ]
  },
  {
   "cell_type": "code",
   "execution_count": 6,
   "metadata": {},
   "outputs": [],
   "source": [
    "# Load all wiki documents\n",
    "city_docs = {}\n",
    "for wiki_title in wiki_titles:\n",
    "    city_docs[wiki_title] = SimpleDirectoryReader(\n",
    "        input_files=[f\"data/{wiki_title}.txt\"]\n",
    "    ).load_data()"
   ]
  },
  {
   "cell_type": "markdown",
   "metadata": {},
   "source": [
    "# Define LLM + Service Context + Callback Manager\n",
    "\n"
   ]
  },
  {
   "cell_type": "code",
   "execution_count": 14,
   "metadata": {},
   "outputs": [],
   "source": [
    "from llama_index.core import Settings\n",
    "\n",
    "Settings.llm = OpenAI(temperature=0, model=\"gpt-4o-mini\")"
   ]
  },
  {
   "cell_type": "markdown",
   "metadata": {},
   "source": [
    "# Build Document Agent for each Document\n",
    "In this section we define \"document agents\" for each document.\n",
    "\n",
    "First we define both a vector index (for semantic search) and summary index (for summarization) for each document. The two query engines are then converted into tools that are passed to an OpenAI function calling agent.\n",
    "\n",
    "This document agent can dynamically choose to perform semantic search or summarization within a given document.\n",
    "\n",
    "We create a separate document agent for each city."
   ]
  },
  {
   "cell_type": "code",
   "execution_count": 15,
   "metadata": {},
   "outputs": [],
   "source": [
    "from llama_index.agent.openai import OpenAIAgent\n",
    "\n",
    "# Build agents dictionary\n",
    "agents = {}\n",
    "\n",
    "for wiki_title in wiki_titles:\n",
    "    # build vector index\n",
    "    vector_index = VectorStoreIndex.from_documents(\n",
    "        city_docs[wiki_title],\n",
    "    )\n",
    "    # build summary index\n",
    "    summary_index = SummaryIndex.from_documents(\n",
    "        city_docs[wiki_title],\n",
    "    )\n",
    "    # define query engines\n",
    "    vector_query_engine = vector_index.as_query_engine()\n",
    "    list_query_engine = summary_index.as_query_engine()\n",
    "\n",
    "    # define tools\n",
    "    query_engine_tools = [\n",
    "        QueryEngineTool(\n",
    "            query_engine=vector_query_engine,\n",
    "            metadata=ToolMetadata(\n",
    "                name=\"vector_tool\",\n",
    "                description=(\n",
    "                    f\"Useful for retrieving specific context from {wiki_title}\"\n",
    "                ),\n",
    "            ),\n",
    "        ),\n",
    "        QueryEngineTool(\n",
    "            query_engine=list_query_engine,\n",
    "            metadata=ToolMetadata(\n",
    "                name=\"summary_tool\",\n",
    "                description=(\n",
    "                    \"Useful for summarization questions related to\"\n",
    "                    f\" {wiki_title}\"\n",
    "                ),\n",
    "            ),\n",
    "        ),\n",
    "    ]\n",
    "\n",
    "    # build agent\n",
    "    function_llm = OpenAI(model=\"gpt-4o-mini\")\n",
    "    agent = OpenAIAgent.from_tools(\n",
    "        query_engine_tools,\n",
    "        llm=function_llm,\n",
    "        verbose=True,\n",
    "    )\n",
    "\n",
    "    agents[wiki_title] = agent"
   ]
  },
  {
   "cell_type": "markdown",
   "metadata": {},
   "source": [
    "# Build Composable Retriever over these Agents\n",
    "Now we define a set of summary nodes, where each node links to the corresponding Wikipedia city article. We then define a composable retriever + query engine on top of these Nodes to route queries down to a given node, which will in turn route it to the relevant document agent."
   ]
  },
  {
   "cell_type": "code",
   "execution_count": 16,
   "metadata": {},
   "outputs": [],
   "source": [
    "# define top-level nodes\n",
    "objects = []\n",
    "for wiki_title in wiki_titles:\n",
    "    # define index node that links to these agents\n",
    "    wiki_summary = (\n",
    "        f\"This content contains Wikipedia articles about {wiki_title}. Use\"\n",
    "        \" this index if you need to lookup specific facts about\"\n",
    "        f\" {wiki_title}.\\nDo not use this index if you want to analyze\"\n",
    "        \" multiple cities.\"\n",
    "    )\n",
    "    node = IndexNode(\n",
    "        text=wiki_summary, index_id=wiki_title, obj=agents[wiki_title]\n",
    "    )\n",
    "    objects.append(node)"
   ]
  },
  {
   "cell_type": "code",
   "execution_count": 17,
   "metadata": {},
   "outputs": [],
   "source": [
    "# define top-level retriever\n",
    "vector_index = VectorStoreIndex(\n",
    "    objects=objects,\n",
    ")\n",
    "query_engine = vector_index.as_query_engine(similarity_top_k=1, verbose=True)"
   ]
  },
  {
   "cell_type": "markdown",
   "metadata": {},
   "source": [
    "# Running Example Queries\n"
   ]
  },
  {
   "cell_type": "code",
   "execution_count": 18,
   "metadata": {},
   "outputs": [
    {
     "name": "stdout",
     "output_type": "stream",
     "text": [
      "\u001b[1;3;38;2;11;159;203mRetrieval entering Boston: OpenAIAgent\n",
      "\u001b[0m\u001b[1;3;38;2;237;90;200mRetrieving from object OpenAIAgent with query Tell me about the sports teams in Boston\n",
      "\u001b[0mAdded user message to memory: Tell me about the sports teams in Boston\n",
      "=== Calling Function ===\n",
      "Calling function: summary_tool with args: {\"input\":\"sports teams in Boston\"}\n",
      "Got output: Boston has teams in the four major North American men's professional sports leagues, as well as Major League Soccer. The city's professional sports teams have won a total of 40 championships across these leagues. Notable teams include:\n",
      "\n",
      "- **Boston Red Sox**: A founding member of the American League, they play at Fenway Park, the oldest sports arena in active use in the U.S.\n",
      "- **Boston Celtics**: A founding member of the NBA, they have won eighteen championships, the most of any NBA team, and play at TD Garden.\n",
      "- **Boston Bruins**: The first American member of the NHL and an Original Six franchise, they also play at TD Garden.\n",
      "- **New England Patriots**: Originally founded as the Boston Patriots, they now play in Foxborough and have won multiple Super Bowls.\n",
      "\n",
      "Additionally, Boston has a vibrant college athletics scene with NCAA Division I members such as Boston College, Boston University, Harvard University, and Northeastern University. The city also hosts esports teams like the Boston Uprising and Boston Breach. One of the most famous sporting events in Boston is the Boston Marathon, the world's oldest annual marathon.\n",
      "========================\n",
      "\n"
     ]
    }
   ],
   "source": [
    "# should use Boston agent -> vector tool\n",
    "response = query_engine.query(\"Tell me about the sports teams in Boston\")"
   ]
  },
  {
   "cell_type": "code",
   "execution_count": 19,
   "metadata": {},
   "outputs": [
    {
     "name": "stdout",
     "output_type": "stream",
     "text": [
      "Boston is home to several prominent sports teams across major professional leagues, as well as a vibrant college athletics scene. The key professional teams include:\n",
      "\n",
      "- **Boston Red Sox**: A founding member of the American League, they play at Fenway Park, the oldest sports arena still in use in the U.S., and have a passionate fan base.\n",
      "\n",
      "- **Boston Celtics**: As a founding member of the NBA, they are one of the most successful teams in basketball history, with eighteen championships, the most in the league. Their home games are held at TD Garden.\n",
      "\n",
      "- **Boston Bruins**: The first American member of the NHL and part of the Original Six franchises, they also play at TD Garden and have a storied history in ice hockey.\n",
      "\n",
      "- **New England Patriots**: Originally founded as the Boston Patriots, they now play in Foxborough and have won multiple Super Bowls, known for their strong performances in the NFL.\n",
      "\n",
      "In addition to these professional teams, Boston boasts a robust college athletics scene with NCAA Division I members such as Boston College, Boston University, Harvard University, and Northeastern University. The city also has esports teams like the Boston Uprising and Boston Breach. \n",
      "\n",
      "A notable sporting event in Boston is the Boston Marathon, recognized as the world's oldest annual marathon, attracting participants from around the globe. Overall, Boston's sports culture is rich and diverse, significantly contributing to the city's identity.\n"
     ]
    }
   ],
   "source": [
    "print(response)"
   ]
  },
  {
   "cell_type": "code",
   "execution_count": 20,
   "metadata": {},
   "outputs": [
    {
     "name": "stdout",
     "output_type": "stream",
     "text": [
      "\u001b[1;3;38;2;11;159;203mRetrieval entering Houston: OpenAIAgent\n",
      "\u001b[0m\u001b[1;3;38;2;237;90;200mRetrieving from object OpenAIAgent with query Tell me about the sports teams in Houston\n",
      "\u001b[0mAdded user message to memory: Tell me about the sports teams in Houston\n",
      "=== Calling Function ===\n",
      "Calling function: summary_tool with args: {\"input\":\"sports teams in Houston\"}\n",
      "Got output: Houston has professional sports teams in every major league except the National Hockey League. The teams include:\n",
      "\n",
      "1. **Houston Astros** - Major League Baseball (MLB) team, which has won the World Series in 2017 and 2022.\n",
      "2. **Houston Rockets** - National Basketball Association (NBA) team, with two championships won in 1994 and 1995.\n",
      "3. **Houston Texans** - National Football League (NFL) team, established in 2002.\n",
      "4. **Houston Dynamo** - Major League Soccer (MLS) team, which has won two MLS Cup titles in 2006 and 2007.\n",
      "5. **Houston Dash** - National Women's Soccer League (NWSL) team, which won their first title in 2020.\n",
      "6. **Houston SaberCats** - Rugby team that plays in Major League Rugby.\n",
      "7. **Houston Roughnecks** - A future team starting operations in 2024, previously part of the XFL.\n",
      "\n",
      "Key venues for these teams include Minute Maid Park (Astros), Toyota Center (Rockets), NRG Stadium (Texans), and Shell Energy Stadium (Dynamo).\n",
      "========================\n",
      "\n"
     ]
    }
   ],
   "source": [
    "# should use Houston agent -> vector tool\n",
    "response = query_engine.query(\"Tell me about the sports teams in Houston\")"
   ]
  },
  {
   "cell_type": "code",
   "execution_count": 21,
   "metadata": {},
   "outputs": [
    {
     "name": "stdout",
     "output_type": "stream",
     "text": [
      "\u001b[1;3;38;2;11;159;203mRetrieval entering Chicago: OpenAIAgent\n",
      "\u001b[0m\u001b[1;3;38;2;237;90;200mRetrieving from object OpenAIAgent with query Give me a summary on all the positive aspects of Chicago\n",
      "\u001b[0mAdded user message to memory: Give me a summary on all the positive aspects of Chicago\n",
      "=== Calling Function ===\n",
      "Calling function: summary_tool with args: {\"input\":\"positive aspects of Chicago\"}\n",
      "Got output: Chicago boasts a rich cultural heritage, with significant contributions to the arts, music, and theater. It is known for its vibrant music scene, particularly in genres like jazz, blues, and house music. The city is home to renowned institutions such as the Chicago Symphony Orchestra and the Art Institute of Chicago, which enhance its cultural landscape.\n",
      "\n",
      "The city's architecture is another highlight, featuring a stunning skyline that includes iconic buildings like the Willis Tower and the John Hancock Center. Chicago is recognized for its innovative urban planning and was the birthplace of the skyscraper.\n",
      "\n",
      "Chicago's economy is diverse and robust, serving as a major hub for finance, commerce, and industry. It has a large and varied labor market, with no single industry dominating employment. The city is also a significant center for education, hosting prestigious universities like the University of Chicago and Northwestern University.\n",
      "\n",
      "Additionally, Chicago offers extensive parks and green spaces, contributing to a high quality of life. The city's waterfront along Lake Michigan provides recreational opportunities, including beaches and parks, making it an attractive destination for both residents and tourists.\n",
      "\n",
      "The city's culinary scene is celebrated for its unique regional specialties, such as deep-dish pizza and Chicago-style hot dogs, reflecting its diverse cultural influences. Chicago also hosts numerous festivals and events that celebrate its rich history and community spirit.\n",
      "========================\n",
      "\n"
     ]
    }
   ],
   "source": [
    "# should use Seattle agent -> summary tool\n",
    "response = query_engine.query(\n",
    "    \"Give me a summary on all the positive aspects of Chicago\"\n",
    ")"
   ]
  },
  {
   "cell_type": "code",
   "execution_count": 22,
   "metadata": {},
   "outputs": [
    {
     "name": "stdout",
     "output_type": "stream",
     "text": [
      "Chicago is a vibrant city known for its rich cultural heritage, particularly in the arts and music, with a notable emphasis on jazz, blues, and house music. It is home to prestigious institutions like the Chicago Symphony Orchestra and the Art Institute of Chicago, which enhance its cultural landscape. The city's stunning architecture features iconic skyscrapers such as the Willis Tower and the John Hancock Center, showcasing innovative urban planning.\n",
      "\n",
      "Economically, Chicago boasts a diverse and robust economy, serving as a major hub for finance, commerce, and industry, with a varied labor market. It also offers excellent educational opportunities through renowned universities like the University of Chicago and Northwestern University.\n",
      "\n",
      "The city is enriched by extensive parks and green spaces, providing residents with recreational opportunities along the waterfront of Lake Michigan. Chicago's culinary scene is celebrated for its unique regional specialties, including deep-dish pizza and Chicago-style hot dogs. Additionally, the city hosts numerous festivals and events that reflect its rich history and community spirit, making it an engaging place for both residents and visitors. Overall, Chicago's blend of culture, economy, education, and recreational opportunities contributes to its appeal as a vibrant and attractive city.\n"
     ]
    }
   ],
   "source": [
    "print(response)"
   ]
  },
  {
   "cell_type": "code",
   "execution_count": null,
   "metadata": {},
   "outputs": [],
   "source": []
  },
  {
   "cell_type": "code",
   "execution_count": null,
   "metadata": {},
   "outputs": [],
   "source": []
  },
  {
   "cell_type": "code",
   "execution_count": null,
   "metadata": {},
   "outputs": [],
   "source": []
  },
  {
   "cell_type": "code",
   "execution_count": null,
   "metadata": {},
   "outputs": [],
   "source": []
  },
  {
   "cell_type": "code",
   "execution_count": null,
   "metadata": {},
   "outputs": [],
   "source": []
  },
  {
   "cell_type": "code",
   "execution_count": null,
   "metadata": {},
   "outputs": [],
   "source": []
  },
  {
   "cell_type": "code",
   "execution_count": null,
   "metadata": {},
   "outputs": [],
   "source": []
  },
  {
   "cell_type": "code",
   "execution_count": null,
   "metadata": {},
   "outputs": [],
   "source": []
  },
  {
   "cell_type": "code",
   "execution_count": null,
   "metadata": {},
   "outputs": [],
   "source": []
  }
 ],
 "metadata": {
  "kernelspec": {
   "display_name": "Python 3",
   "language": "python",
   "name": "python3"
  },
  "language_info": {
   "codemirror_mode": {
    "name": "ipython",
    "version": 3
   },
   "file_extension": ".py",
   "mimetype": "text/x-python",
   "name": "python",
   "nbconvert_exporter": "python",
   "pygments_lexer": "ipython3",
   "version": "3.10.15"
  }
 },
 "nbformat": 4,
 "nbformat_minor": 2
}
